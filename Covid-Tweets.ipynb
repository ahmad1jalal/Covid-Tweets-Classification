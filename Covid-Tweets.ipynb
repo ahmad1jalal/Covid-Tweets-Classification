{
 "cells": [
  {
   "cell_type": "markdown",
   "id": "20b6d06a",
   "metadata": {},
   "source": [
    "## importing libraries..."
   ]
  },
  {
   "cell_type": "code",
   "execution_count": 1,
   "id": "d399814f",
   "metadata": {},
   "outputs": [],
   "source": [
    "import numpy as np\n",
    "import pandas as pd\n",
    "import matplotlib.pyplot as plt\n",
    "import tensorflow as tf\n",
    "from tensorflow.keras import layers\n",
    "import seaborn as sns"
   ]
  },
  {
   "cell_type": "code",
   "execution_count": null,
   "id": "81762b83",
   "metadata": {},
   "outputs": [],
   "source": [
    "# "
   ]
  },
  {
   "cell_type": "markdown",
   "id": "c28951b8",
   "metadata": {},
   "source": [
    "## Manipulate Data..."
   ]
  },
  {
   "cell_type": "code",
   "execution_count": 2,
   "id": "506ecaf9",
   "metadata": {},
   "outputs": [
    {
     "data": {
      "text/html": [
       "<div>\n",
       "<style scoped>\n",
       "    .dataframe tbody tr th:only-of-type {\n",
       "        vertical-align: middle;\n",
       "    }\n",
       "\n",
       "    .dataframe tbody tr th {\n",
       "        vertical-align: top;\n",
       "    }\n",
       "\n",
       "    .dataframe thead th {\n",
       "        text-align: right;\n",
       "    }\n",
       "</style>\n",
       "<table border=\"1\" class=\"dataframe\">\n",
       "  <thead>\n",
       "    <tr style=\"text-align: right;\">\n",
       "      <th></th>\n",
       "      <th>UserName</th>\n",
       "      <th>ScreenName</th>\n",
       "      <th>Location</th>\n",
       "      <th>TweetAt</th>\n",
       "      <th>OriginalTweet</th>\n",
       "      <th>Sentiment</th>\n",
       "    </tr>\n",
       "  </thead>\n",
       "  <tbody>\n",
       "    <tr>\n",
       "      <th>39260</th>\n",
       "      <td>43059</td>\n",
       "      <td>88011</td>\n",
       "      <td>Carmel, CA</td>\n",
       "      <td>12-04-2020</td>\n",
       "      <td>6) Duration - how long will #Covid_19 last, an...</td>\n",
       "      <td>Extremely Positive</td>\n",
       "    </tr>\n",
       "    <tr>\n",
       "      <th>1323</th>\n",
       "      <td>5122</td>\n",
       "      <td>50074</td>\n",
       "      <td>I'm right here!!!</td>\n",
       "      <td>17-03-2020</td>\n",
       "      <td>People still buying 2 lots of 24 pack of toile...</td>\n",
       "      <td>Neutral</td>\n",
       "    </tr>\n",
       "    <tr>\n",
       "      <th>16202</th>\n",
       "      <td>20001</td>\n",
       "      <td>64953</td>\n",
       "      <td>USA ??</td>\n",
       "      <td>22-03-2020</td>\n",
       "      <td>@Customer653 @DollarTree This was NOT taken at...</td>\n",
       "      <td>Neutral</td>\n",
       "    </tr>\n",
       "    <tr>\n",
       "      <th>21509</th>\n",
       "      <td>25308</td>\n",
       "      <td>70260</td>\n",
       "      <td>NaN</td>\n",
       "      <td>25-03-2020</td>\n",
       "      <td>COVID 19 As you rush to stock food amp drive u...</td>\n",
       "      <td>Positive</td>\n",
       "    </tr>\n",
       "    <tr>\n",
       "      <th>20823</th>\n",
       "      <td>24622</td>\n",
       "      <td>69574</td>\n",
       "      <td>Greater Manchester</td>\n",
       "      <td>25-03-2020</td>\n",
       "      <td>I AM NOT IMMUNE TO THE CORONAVIRUS JUST BECAUS...</td>\n",
       "      <td>Negative</td>\n",
       "    </tr>\n",
       "    <tr>\n",
       "      <th>13424</th>\n",
       "      <td>17223</td>\n",
       "      <td>62175</td>\n",
       "      <td>England, United Kingdom</td>\n",
       "      <td>21-03-2020</td>\n",
       "      <td>Just been to my local supermarket and all that...</td>\n",
       "      <td>Positive</td>\n",
       "    </tr>\n",
       "    <tr>\n",
       "      <th>10755</th>\n",
       "      <td>14554</td>\n",
       "      <td>59506</td>\n",
       "      <td>NaN</td>\n",
       "      <td>20-03-2020</td>\n",
       "      <td>my nan lives in Spain and she went to the supe...</td>\n",
       "      <td>Neutral</td>\n",
       "    </tr>\n",
       "    <tr>\n",
       "      <th>9016</th>\n",
       "      <td>12815</td>\n",
       "      <td>57767</td>\n",
       "      <td>Los Angeles , CA</td>\n",
       "      <td>20-03-2020</td>\n",
       "      <td>Retail Response to #COVID19: Innovation in Rea...</td>\n",
       "      <td>Positive</td>\n",
       "    </tr>\n",
       "    <tr>\n",
       "      <th>23604</th>\n",
       "      <td>27403</td>\n",
       "      <td>72355</td>\n",
       "      <td>Northern England</td>\n",
       "      <td>26-03-2020</td>\n",
       "      <td>A day in the life of a supermarket worker</td>\n",
       "      <td>Neutral</td>\n",
       "    </tr>\n",
       "    <tr>\n",
       "      <th>25833</th>\n",
       "      <td>29632</td>\n",
       "      <td>74584</td>\n",
       "      <td>Kenya</td>\n",
       "      <td>01-04-2020</td>\n",
       "      <td>Washing our hands with soap and water is our c...</td>\n",
       "      <td>Negative</td>\n",
       "    </tr>\n",
       "  </tbody>\n",
       "</table>\n",
       "</div>"
      ],
      "text/plain": [
       "       UserName  ScreenName                 Location     TweetAt  \\\n",
       "39260     43059       88011               Carmel, CA  12-04-2020   \n",
       "1323       5122       50074        I'm right here!!!  17-03-2020   \n",
       "16202     20001       64953                  USA ??   22-03-2020   \n",
       "21509     25308       70260                      NaN  25-03-2020   \n",
       "20823     24622       69574       Greater Manchester  25-03-2020   \n",
       "13424     17223       62175  England, United Kingdom  21-03-2020   \n",
       "10755     14554       59506                      NaN  20-03-2020   \n",
       "9016      12815       57767         Los Angeles , CA  20-03-2020   \n",
       "23604     27403       72355         Northern England  26-03-2020   \n",
       "25833     29632       74584                    Kenya  01-04-2020   \n",
       "\n",
       "                                           OriginalTweet           Sentiment  \n",
       "39260  6) Duration - how long will #Covid_19 last, an...  Extremely Positive  \n",
       "1323   People still buying 2 lots of 24 pack of toile...             Neutral  \n",
       "16202  @Customer653 @DollarTree This was NOT taken at...             Neutral  \n",
       "21509  COVID 19 As you rush to stock food amp drive u...            Positive  \n",
       "20823  I AM NOT IMMUNE TO THE CORONAVIRUS JUST BECAUS...            Negative  \n",
       "13424  Just been to my local supermarket and all that...            Positive  \n",
       "10755  my nan lives in Spain and she went to the supe...             Neutral  \n",
       "9016   Retail Response to #COVID19: Innovation in Rea...            Positive  \n",
       "23604        A day in the life of a supermarket worker               Neutral  \n",
       "25833  Washing our hands with soap and water is our c...            Negative  "
      ]
     },
     "execution_count": 2,
     "metadata": {},
     "output_type": "execute_result"
    }
   ],
   "source": [
    "train_df = pd.read_csv(\"Corona_NLP_train.csv\",encoding='latin1')\n",
    "test_df = pd.read_csv(\"Corona_NLP_test.csv\",encoding='latin1')\n",
    "\n",
    "train_df.sample(10)"
   ]
  },
  {
   "cell_type": "code",
   "execution_count": 3,
   "id": "8c5de9ed",
   "metadata": {},
   "outputs": [
    {
     "name": "stdout",
     "output_type": "stream",
     "text": [
      "Train data-set has 41157 rows and 6 columns \n",
      "\n",
      "Test data-set has 3798 rows and 6 columns\n"
     ]
    }
   ],
   "source": [
    "# cheking the shape of data....\n",
    "print(f\"Train data-set has {train_df.shape[0]} rows and {train_df.shape[1]} columns \\n\")\n",
    "print(f\"Test data-set has {test_df.shape[0]} rows and {test_df.shape[1]} columns\")"
   ]
  },
  {
   "cell_type": "code",
   "execution_count": 4,
   "id": "6b3b8c62",
   "metadata": {},
   "outputs": [
    {
     "name": "stdout",
     "output_type": "stream",
     "text": [
      "<class 'pandas.core.frame.DataFrame'>\n",
      "RangeIndex: 41157 entries, 0 to 41156\n",
      "Data columns (total 6 columns):\n",
      " #   Column         Non-Null Count  Dtype \n",
      "---  ------         --------------  ----- \n",
      " 0   UserName       41157 non-null  int64 \n",
      " 1   ScreenName     41157 non-null  int64 \n",
      " 2   Location       32567 non-null  object\n",
      " 3   TweetAt        41157 non-null  object\n",
      " 4   OriginalTweet  41157 non-null  object\n",
      " 5   Sentiment      41157 non-null  object\n",
      "dtypes: int64(2), object(4)\n",
      "memory usage: 1.9+ MB\n"
     ]
    }
   ],
   "source": [
    "# checking the dtypes\n",
    "train_df.info()"
   ]
  },
  {
   "cell_type": "code",
   "execution_count": 5,
   "id": "447537c1",
   "metadata": {},
   "outputs": [
    {
     "name": "stdout",
     "output_type": "stream",
     "text": [
      "<class 'pandas.core.frame.DataFrame'>\n",
      "RangeIndex: 3798 entries, 0 to 3797\n",
      "Data columns (total 6 columns):\n",
      " #   Column         Non-Null Count  Dtype \n",
      "---  ------         --------------  ----- \n",
      " 0   UserName       3798 non-null   int64 \n",
      " 1   ScreenName     3798 non-null   int64 \n",
      " 2   Location       2964 non-null   object\n",
      " 3   TweetAt        3798 non-null   object\n",
      " 4   OriginalTweet  3798 non-null   object\n",
      " 5   Sentiment      3798 non-null   object\n",
      "dtypes: int64(2), object(4)\n",
      "memory usage: 178.2+ KB\n"
     ]
    }
   ],
   "source": [
    "test_df.info()"
   ]
  },
  {
   "cell_type": "code",
   "execution_count": 41,
   "id": "4f4d45da",
   "metadata": {},
   "outputs": [
    {
     "data": {
      "text/plain": [
       "UserName            0\n",
       "ScreenName          0\n",
       "Location         8590\n",
       "TweetAt             0\n",
       "OriginalTweet       0\n",
       "Sentiment           0\n",
       "Length              0\n",
       "dtype: int64"
      ]
     },
     "execution_count": 41,
     "metadata": {},
     "output_type": "execute_result"
    }
   ],
   "source": [
    "# checking null values...\n",
    "train_df.isnull().sum()"
   ]
  },
  {
   "cell_type": "code",
   "execution_count": 6,
   "id": "f0c60a2b",
   "metadata": {},
   "outputs": [
    {
     "data": {
      "text/plain": [
       "Positive              11422\n",
       "Negative               9917\n",
       "Neutral                7713\n",
       "Extremely Positive     6624\n",
       "Extremely Negative     5481\n",
       "Name: Sentiment, dtype: int64"
      ]
     },
     "execution_count": 6,
     "metadata": {},
     "output_type": "execute_result"
    }
   ],
   "source": [
    "# checking the label proportion around the data...\n",
    "labels_prop = train_df[\"Sentiment\"].value_counts()\n",
    "labels_prop"
   ]
  },
  {
   "cell_type": "code",
   "execution_count": 7,
   "id": "119659e4",
   "metadata": {},
   "outputs": [
    {
     "data": {
      "image/png": "[encoded data removed]",
      "text/plain": [
       "<Figure size 720x576 with 1 Axes>"
      ]
     },
     "metadata": {},
     "output_type": "display_data"
    }
   ],
   "source": [
    "# let's visualize it...\n",
    "labels = labels_prop.index\n",
    "colors = sns.color_palette('pastel') # pastel colors\n",
    "plt.figure(figsize=(10,8))\n",
    "plt.pie(labels_prop,labels=labels,colors=colors,explode=[0.1,0.1,0.1,0.3,0.25],startangle=65,autopct=\"%0.2f%%\");"
   ]
  },
  {
   "cell_type": "code",
   "execution_count": 8,
   "id": "e27aa115",
   "metadata": {},
   "outputs": [
    {
     "data": {
      "text/plain": [
       "London                          540\n",
       "United States                   528\n",
       "London, England                 520\n",
       "New York, NY                    395\n",
       "Washington, DC                  373\n",
       "                               ... \n",
       "Staffordshire Moorlands           1\n",
       "Kithchener ON                     1\n",
       "Tulsa, Ok                         1\n",
       "Watford, South Oxhey, Bushey      1\n",
       "i love you so much || he/him      1\n",
       "Name: Location, Length: 12220, dtype: int64"
      ]
     },
     "execution_count": 8,
     "metadata": {},
     "output_type": "execute_result"
    }
   ],
   "source": [
    "# let's visualize the location....\n",
    "location_prop = train_df[\"Location\"].value_counts()\n",
    "location_prop"
   ]
  },
  {
   "cell_type": "code",
   "execution_count": 9,
   "id": "dc5868ef",
   "metadata": {},
   "outputs": [
    {
     "data": {
      "image/png": "[encoded data removed]",
      "text/plain": [
       "<Figure size 720x576 with 1 Axes>"
      ]
     },
     "metadata": {},
     "output_type": "display_data"
    }
   ],
   "source": [
    "#  just visualize the top 10 location of the data....\n",
    "labels = location_prop.index[:10]\n",
    "colors = sns.color_palette(\"husl\")\n",
    "plt.figure(figsize=(10,8))\n",
    "plt.pie(location_prop[:10],labels=labels,colors=colors,autopct=\"%.2f%%\",);"
   ]
  },
  {
   "cell_type": "code",
   "execution_count": 10,
   "id": "864878f7",
   "metadata": {},
   "outputs": [
    {
     "data": {
      "text/html": [
       "<div>\n",
       "<style scoped>\n",
       "    .dataframe tbody tr th:only-of-type {\n",
       "        vertical-align: middle;\n",
       "    }\n",
       "\n",
       "    .dataframe tbody tr th {\n",
       "        vertical-align: top;\n",
       "    }\n",
       "\n",
       "    .dataframe thead th {\n",
       "        text-align: right;\n",
       "    }\n",
       "</style>\n",
       "<table border=\"1\" class=\"dataframe\">\n",
       "  <thead>\n",
       "    <tr style=\"text-align: right;\">\n",
       "      <th></th>\n",
       "      <th>UserName</th>\n",
       "      <th>ScreenName</th>\n",
       "      <th>Location</th>\n",
       "      <th>TweetAt</th>\n",
       "      <th>OriginalTweet</th>\n",
       "      <th>Sentiment</th>\n",
       "      <th>Length</th>\n",
       "    </tr>\n",
       "  </thead>\n",
       "  <tbody>\n",
       "    <tr>\n",
       "      <th>34438</th>\n",
       "      <td>38237</td>\n",
       "      <td>83189</td>\n",
       "      <td>NaN</td>\n",
       "      <td>08-04-2020</td>\n",
       "      <td>@kmoxnews I am not the \"get-off-my-lawn guy,\" ...</td>\n",
       "      <td>Extremely Negative</td>\n",
       "      <td>180</td>\n",
       "    </tr>\n",
       "    <tr>\n",
       "      <th>9021</th>\n",
       "      <td>12820</td>\n",
       "      <td>57772</td>\n",
       "      <td>NaN</td>\n",
       "      <td>20-03-2020</td>\n",
       "      <td>Sorry to say but we as Muslims are the worst h...</td>\n",
       "      <td>Extremely Negative</td>\n",
       "      <td>231</td>\n",
       "    </tr>\n",
       "    <tr>\n",
       "      <th>1900</th>\n",
       "      <td>5699</td>\n",
       "      <td>50651</td>\n",
       "      <td>Woodstock, GA</td>\n",
       "      <td>17-03-2020</td>\n",
       "      <td>The retail store I work for has submitted a re...</td>\n",
       "      <td>Negative</td>\n",
       "      <td>266</td>\n",
       "    </tr>\n",
       "    <tr>\n",
       "      <th>30538</th>\n",
       "      <td>34337</td>\n",
       "      <td>79289</td>\n",
       "      <td>East Kilbride, Scotland, UK</td>\n",
       "      <td>06-04-2020</td>\n",
       "      <td>BBC News - Waitrose staff told to make up time...</td>\n",
       "      <td>Neutral</td>\n",
       "      <td>84</td>\n",
       "    </tr>\n",
       "    <tr>\n",
       "      <th>24370</th>\n",
       "      <td>28169</td>\n",
       "      <td>73121</td>\n",
       "      <td>Baltimore</td>\n",
       "      <td>26-03-2020</td>\n",
       "      <td>really fascinating how HEB, a supermarket chai...</td>\n",
       "      <td>Extremely Positive</td>\n",
       "      <td>150</td>\n",
       "    </tr>\n",
       "    <tr>\n",
       "      <th>6014</th>\n",
       "      <td>9813</td>\n",
       "      <td>54765</td>\n",
       "      <td>Canada</td>\n",
       "      <td>19-03-2020</td>\n",
       "      <td>@muskokajen Hi Jen, we're very sorry for the d...</td>\n",
       "      <td>Negative</td>\n",
       "      <td>255</td>\n",
       "    </tr>\n",
       "    <tr>\n",
       "      <th>9460</th>\n",
       "      <td>13259</td>\n",
       "      <td>58211</td>\n",
       "      <td>Bristol</td>\n",
       "      <td>20-03-2020</td>\n",
       "      <td>Food shopping used to be simple order your foo...</td>\n",
       "      <td>Positive</td>\n",
       "      <td>163</td>\n",
       "    </tr>\n",
       "    <tr>\n",
       "      <th>29238</th>\n",
       "      <td>33037</td>\n",
       "      <td>77989</td>\n",
       "      <td>MontrÃ©al, QuÃ©bec</td>\n",
       "      <td>05-04-2020</td>\n",
       "      <td>Going to the grocery store isnÂt fun anymore?...</td>\n",
       "      <td>Positive</td>\n",
       "      <td>178</td>\n",
       "    </tr>\n",
       "    <tr>\n",
       "      <th>9033</th>\n",
       "      <td>12832</td>\n",
       "      <td>57784</td>\n",
       "      <td>CountrY BoY</td>\n",
       "      <td>20-03-2020</td>\n",
       "      <td>The USA to close pups,restaurant and supermark...</td>\n",
       "      <td>Neutral</td>\n",
       "      <td>97</td>\n",
       "    </tr>\n",
       "    <tr>\n",
       "      <th>25331</th>\n",
       "      <td>29130</td>\n",
       "      <td>74082</td>\n",
       "      <td>Chattanooga, TN</td>\n",
       "      <td>31-03-2020</td>\n",
       "      <td>Spent the morning with a group from church vol...</td>\n",
       "      <td>Negative</td>\n",
       "      <td>181</td>\n",
       "    </tr>\n",
       "  </tbody>\n",
       "</table>\n",
       "</div>"
      ],
      "text/plain": [
       "       UserName  ScreenName                      Location     TweetAt  \\\n",
       "34438     38237       83189                           NaN  08-04-2020   \n",
       "9021      12820       57772                           NaN  20-03-2020   \n",
       "1900       5699       50651                 Woodstock, GA  17-03-2020   \n",
       "30538     34337       79289  East Kilbride, Scotland, UK   06-04-2020   \n",
       "24370     28169       73121                     Baltimore  26-03-2020   \n",
       "6014       9813       54765                        Canada  19-03-2020   \n",
       "9460      13259       58211                       Bristol  20-03-2020   \n",
       "29238     33037       77989            MontrÃ©al, QuÃ©bec  05-04-2020   \n",
       "9033      12832       57784                   CountrY BoY  20-03-2020   \n",
       "25331     29130       74082               Chattanooga, TN  31-03-2020   \n",
       "\n",
       "                                           OriginalTweet           Sentiment  \\\n",
       "34438  @kmoxnews I am not the \"get-off-my-lawn guy,\" ...  Extremely Negative   \n",
       "9021   Sorry to say but we as Muslims are the worst h...  Extremely Negative   \n",
       "1900   The retail store I work for has submitted a re...            Negative   \n",
       "30538  BBC News - Waitrose staff told to make up time...             Neutral   \n",
       "24370  really fascinating how HEB, a supermarket chai...  Extremely Positive   \n",
       "6014   @muskokajen Hi Jen, we're very sorry for the d...            Negative   \n",
       "9460   Food shopping used to be simple order your foo...            Positive   \n",
       "29238  Going to the grocery store isnÂt fun anymore?...            Positive   \n",
       "9033   The USA to close pups,restaurant and supermark...             Neutral   \n",
       "25331  Spent the morning with a group from church vol...            Negative   \n",
       "\n",
       "       Length  \n",
       "34438     180  \n",
       "9021      231  \n",
       "1900      266  \n",
       "30538      84  \n",
       "24370     150  \n",
       "6014      255  \n",
       "9460      163  \n",
       "29238     178  \n",
       "9033       97  \n",
       "25331     181  "
      ]
     },
     "execution_count": 10,
     "metadata": {},
     "output_type": "execute_result"
    }
   ],
   "source": [
    "# calculate the tweet length\n",
    "train_df[\"Length\"] = train_df[\"OriginalTweet\"].apply(len)\n",
    "train_df.sample(10)"
   ]
  },
  {
   "cell_type": "code",
   "execution_count": 11,
   "id": "2e842bc4",
   "metadata": {},
   "outputs": [
    {
     "data": {
      "text/plain": [
       "<Figure size 720x720 with 0 Axes>"
      ]
     },
     "metadata": {},
     "output_type": "display_data"
    },
    {
     "data": {
      "image/png": "[encoded data removed]",
      "text/plain": [
       "<Figure size 1574.5x360 with 1 Axes>"
      ]
     },
     "metadata": {
      "needs_background": "light"
     },
     "output_type": "display_data"
    }
   ],
   "source": [
    "# visualize the tweet length accross the data-set...\n",
    "plt.figure(figsize=(10,10))\n",
    "sns.displot(data=train_df,x=\"Length\",hue=\"Sentiment\",\n",
    "                 kind = 'kde', fill = True,  aspect =4 , palette = \"viridis\");\n"
   ]
  },
  {
   "cell_type": "code",
   "execution_count": 12,
   "id": "09bb1bec",
   "metadata": {},
   "outputs": [],
   "source": [
    "# changing the tweet text dtype\n",
    "train_df[\"OriginalTweet\"] = train_df[\"OriginalTweet\"].astype(\"string\")"
   ]
  },
  {
   "cell_type": "code",
   "execution_count": 13,
   "id": "d337e5c6",
   "metadata": {},
   "outputs": [
    {
     "data": {
      "text/plain": [
       "UserName          int64\n",
       "ScreenName        int64\n",
       "Location         object\n",
       "TweetAt          object\n",
       "OriginalTweet    string\n",
       "Sentiment        object\n",
       "Length            int64\n",
       "dtype: object"
      ]
     },
     "execution_count": 13,
     "metadata": {},
     "output_type": "execute_result"
    }
   ],
   "source": [
    "train_df.dtypes"
   ]
  },
  {
   "cell_type": "code",
   "execution_count": 15,
   "id": "4ee1d3df",
   "metadata": {},
   "outputs": [
    {
     "data": {
      "text/html": [
       "<div>\n",
       "<style scoped>\n",
       "    .dataframe tbody tr th:only-of-type {\n",
       "        vertical-align: middle;\n",
       "    }\n",
       "\n",
       "    .dataframe tbody tr th {\n",
       "        vertical-align: top;\n",
       "    }\n",
       "\n",
       "    .dataframe thead th {\n",
       "        text-align: right;\n",
       "    }\n",
       "</style>\n",
       "<table border=\"1\" class=\"dataframe\">\n",
       "  <thead>\n",
       "    <tr style=\"text-align: right;\">\n",
       "      <th></th>\n",
       "      <th>UserName</th>\n",
       "      <th>ScreenName</th>\n",
       "      <th>Location</th>\n",
       "      <th>TweetAt</th>\n",
       "      <th>OriginalTweet</th>\n",
       "      <th>Sentiment</th>\n",
       "      <th>Length</th>\n",
       "    </tr>\n",
       "  </thead>\n",
       "  <tbody>\n",
       "    <tr>\n",
       "      <th>0</th>\n",
       "      <td>3799</td>\n",
       "      <td>48751</td>\n",
       "      <td>London</td>\n",
       "      <td>2020-03-16</td>\n",
       "      <td>@MeNyrbie @Phil_Gahan @Chrisitv https://t.co/i...</td>\n",
       "      <td>Neutral</td>\n",
       "      <td>111</td>\n",
       "    </tr>\n",
       "    <tr>\n",
       "      <th>1</th>\n",
       "      <td>3800</td>\n",
       "      <td>48752</td>\n",
       "      <td>UK</td>\n",
       "      <td>2020-03-16</td>\n",
       "      <td>advice Talk to your neighbours family to excha...</td>\n",
       "      <td>Positive</td>\n",
       "      <td>237</td>\n",
       "    </tr>\n",
       "    <tr>\n",
       "      <th>2</th>\n",
       "      <td>3801</td>\n",
       "      <td>48753</td>\n",
       "      <td>Vagabonds</td>\n",
       "      <td>2020-03-16</td>\n",
       "      <td>Coronavirus Australia: Woolworths to give elde...</td>\n",
       "      <td>Positive</td>\n",
       "      <td>131</td>\n",
       "    </tr>\n",
       "    <tr>\n",
       "      <th>3</th>\n",
       "      <td>3802</td>\n",
       "      <td>48754</td>\n",
       "      <td>NaN</td>\n",
       "      <td>2020-03-16</td>\n",
       "      <td>My food stock is not the only one which is emp...</td>\n",
       "      <td>Positive</td>\n",
       "      <td>306</td>\n",
       "    </tr>\n",
       "    <tr>\n",
       "      <th>4</th>\n",
       "      <td>3803</td>\n",
       "      <td>48755</td>\n",
       "      <td>NaN</td>\n",
       "      <td>2020-03-16</td>\n",
       "      <td>Me, ready to go at supermarket during the #COV...</td>\n",
       "      <td>Extremely Negative</td>\n",
       "      <td>310</td>\n",
       "    </tr>\n",
       "  </tbody>\n",
       "</table>\n",
       "</div>"
      ],
      "text/plain": [
       "   UserName  ScreenName   Location    TweetAt  \\\n",
       "0      3799       48751     London 2020-03-16   \n",
       "1      3800       48752         UK 2020-03-16   \n",
       "2      3801       48753  Vagabonds 2020-03-16   \n",
       "3      3802       48754        NaN 2020-03-16   \n",
       "4      3803       48755        NaN 2020-03-16   \n",
       "\n",
       "                                       OriginalTweet           Sentiment  \\\n",
       "0  @MeNyrbie @Phil_Gahan @Chrisitv https://t.co/i...             Neutral   \n",
       "1  advice Talk to your neighbours family to excha...            Positive   \n",
       "2  Coronavirus Australia: Woolworths to give elde...            Positive   \n",
       "3  My food stock is not the only one which is emp...            Positive   \n",
       "4  Me, ready to go at supermarket during the #COV...  Extremely Negative   \n",
       "\n",
       "   Length  \n",
       "0     111  \n",
       "1     237  \n",
       "2     131  \n",
       "3     306  \n",
       "4     310  "
      ]
     },
     "execution_count": 15,
     "metadata": {},
     "output_type": "execute_result"
    }
   ],
   "source": [
    "# changing the datetime dtype ...\n",
    "train_df[\"TweetAt\"] = pd.to_datetime(train_df[\"TweetAt\"],format=\"%d-%m-%Y\")\n",
    "train_df.head(5)"
   ]
  },
  {
   "cell_type": "code",
   "execution_count": 16,
   "id": "93259cae",
   "metadata": {},
   "outputs": [
    {
     "data": {
      "text/plain": [
       "Timestamp('2020-03-16 00:00:00')"
      ]
     },
     "execution_count": 16,
     "metadata": {},
     "output_type": "execute_result"
    }
   ],
   "source": [
    "train_df[\"TweetAt\"].min()"
   ]
  },
  {
   "cell_type": "code",
   "execution_count": 17,
   "id": "1370fcaf",
   "metadata": {},
   "outputs": [
    {
     "data": {
      "text/plain": [
       "Timestamp('2020-04-14 00:00:00')"
      ]
     },
     "execution_count": 17,
     "metadata": {},
     "output_type": "execute_result"
    }
   ],
   "source": [
    "train_df[\"TweetAt\"].max()"
   ]
  },
  {
   "cell_type": "code",
   "execution_count": 18,
   "id": "5af85e52",
   "metadata": {},
   "outputs": [
    {
     "data": {
      "text/html": [
       "<div>\n",
       "<style scoped>\n",
       "    .dataframe tbody tr th:only-of-type {\n",
       "        vertical-align: middle;\n",
       "    }\n",
       "\n",
       "    .dataframe tbody tr th {\n",
       "        vertical-align: top;\n",
       "    }\n",
       "\n",
       "    .dataframe thead th {\n",
       "        text-align: right;\n",
       "    }\n",
       "</style>\n",
       "<table border=\"1\" class=\"dataframe\">\n",
       "  <thead>\n",
       "    <tr style=\"text-align: right;\">\n",
       "      <th></th>\n",
       "      <th>TweetAt</th>\n",
       "      <th>Sentiment</th>\n",
       "    </tr>\n",
       "  </thead>\n",
       "  <tbody>\n",
       "    <tr>\n",
       "      <th>0</th>\n",
       "      <td>2020-03-16</td>\n",
       "      <td>656</td>\n",
       "    </tr>\n",
       "    <tr>\n",
       "      <th>1</th>\n",
       "      <td>2020-03-17</td>\n",
       "      <td>1977</td>\n",
       "    </tr>\n",
       "    <tr>\n",
       "      <th>2</th>\n",
       "      <td>2020-03-18</td>\n",
       "      <td>2742</td>\n",
       "    </tr>\n",
       "    <tr>\n",
       "      <th>3</th>\n",
       "      <td>2020-03-19</td>\n",
       "      <td>3215</td>\n",
       "    </tr>\n",
       "    <tr>\n",
       "      <th>4</th>\n",
       "      <td>2020-03-20</td>\n",
       "      <td>3448</td>\n",
       "    </tr>\n",
       "    <tr>\n",
       "      <th>5</th>\n",
       "      <td>2020-03-21</td>\n",
       "      <td>2653</td>\n",
       "    </tr>\n",
       "    <tr>\n",
       "      <th>6</th>\n",
       "      <td>2020-03-22</td>\n",
       "      <td>2114</td>\n",
       "    </tr>\n",
       "    <tr>\n",
       "      <th>7</th>\n",
       "      <td>2020-03-23</td>\n",
       "      <td>2062</td>\n",
       "    </tr>\n",
       "    <tr>\n",
       "      <th>8</th>\n",
       "      <td>2020-03-24</td>\n",
       "      <td>1480</td>\n",
       "    </tr>\n",
       "    <tr>\n",
       "      <th>9</th>\n",
       "      <td>2020-03-25</td>\n",
       "      <td>2979</td>\n",
       "    </tr>\n",
       "    <tr>\n",
       "      <th>10</th>\n",
       "      <td>2020-03-26</td>\n",
       "      <td>1277</td>\n",
       "    </tr>\n",
       "    <tr>\n",
       "      <th>11</th>\n",
       "      <td>2020-03-27</td>\n",
       "      <td>345</td>\n",
       "    </tr>\n",
       "    <tr>\n",
       "      <th>12</th>\n",
       "      <td>2020-03-28</td>\n",
       "      <td>23</td>\n",
       "    </tr>\n",
       "    <tr>\n",
       "      <th>13</th>\n",
       "      <td>2020-03-29</td>\n",
       "      <td>125</td>\n",
       "    </tr>\n",
       "    <tr>\n",
       "      <th>14</th>\n",
       "      <td>2020-03-30</td>\n",
       "      <td>87</td>\n",
       "    </tr>\n",
       "    <tr>\n",
       "      <th>15</th>\n",
       "      <td>2020-03-31</td>\n",
       "      <td>316</td>\n",
       "    </tr>\n",
       "    <tr>\n",
       "      <th>16</th>\n",
       "      <td>2020-04-01</td>\n",
       "      <td>630</td>\n",
       "    </tr>\n",
       "    <tr>\n",
       "      <th>17</th>\n",
       "      <td>2020-04-02</td>\n",
       "      <td>954</td>\n",
       "    </tr>\n",
       "    <tr>\n",
       "      <th>18</th>\n",
       "      <td>2020-04-03</td>\n",
       "      <td>810</td>\n",
       "    </tr>\n",
       "    <tr>\n",
       "      <th>19</th>\n",
       "      <td>2020-04-04</td>\n",
       "      <td>767</td>\n",
       "    </tr>\n",
       "    <tr>\n",
       "      <th>20</th>\n",
       "      <td>2020-04-05</td>\n",
       "      <td>1131</td>\n",
       "    </tr>\n",
       "    <tr>\n",
       "      <th>21</th>\n",
       "      <td>2020-04-06</td>\n",
       "      <td>1742</td>\n",
       "    </tr>\n",
       "    <tr>\n",
       "      <th>22</th>\n",
       "      <td>2020-04-07</td>\n",
       "      <td>1843</td>\n",
       "    </tr>\n",
       "    <tr>\n",
       "      <th>23</th>\n",
       "      <td>2020-04-08</td>\n",
       "      <td>1881</td>\n",
       "    </tr>\n",
       "    <tr>\n",
       "      <th>24</th>\n",
       "      <td>2020-04-09</td>\n",
       "      <td>1471</td>\n",
       "    </tr>\n",
       "    <tr>\n",
       "      <th>25</th>\n",
       "      <td>2020-04-10</td>\n",
       "      <td>1005</td>\n",
       "    </tr>\n",
       "    <tr>\n",
       "      <th>26</th>\n",
       "      <td>2020-04-11</td>\n",
       "      <td>909</td>\n",
       "    </tr>\n",
       "    <tr>\n",
       "      <th>27</th>\n",
       "      <td>2020-04-12</td>\n",
       "      <td>803</td>\n",
       "    </tr>\n",
       "    <tr>\n",
       "      <th>28</th>\n",
       "      <td>2020-04-13</td>\n",
       "      <td>1428</td>\n",
       "    </tr>\n",
       "    <tr>\n",
       "      <th>29</th>\n",
       "      <td>2020-04-14</td>\n",
       "      <td>284</td>\n",
       "    </tr>\n",
       "  </tbody>\n",
       "</table>\n",
       "</div>"
      ],
      "text/plain": [
       "      TweetAt  Sentiment\n",
       "0  2020-03-16        656\n",
       "1  2020-03-17       1977\n",
       "2  2020-03-18       2742\n",
       "3  2020-03-19       3215\n",
       "4  2020-03-20       3448\n",
       "5  2020-03-21       2653\n",
       "6  2020-03-22       2114\n",
       "7  2020-03-23       2062\n",
       "8  2020-03-24       1480\n",
       "9  2020-03-25       2979\n",
       "10 2020-03-26       1277\n",
       "11 2020-03-27        345\n",
       "12 2020-03-28         23\n",
       "13 2020-03-29        125\n",
       "14 2020-03-30         87\n",
       "15 2020-03-31        316\n",
       "16 2020-04-01        630\n",
       "17 2020-04-02        954\n",
       "18 2020-04-03        810\n",
       "19 2020-04-04        767\n",
       "20 2020-04-05       1131\n",
       "21 2020-04-06       1742\n",
       "22 2020-04-07       1843\n",
       "23 2020-04-08       1881\n",
       "24 2020-04-09       1471\n",
       "25 2020-04-10       1005\n",
       "26 2020-04-11        909\n",
       "27 2020-04-12        803\n",
       "28 2020-04-13       1428\n",
       "29 2020-04-14        284"
      ]
     },
     "execution_count": 18,
     "metadata": {},
     "output_type": "execute_result"
    }
   ],
   "source": [
    "# checking the tweets per day\n",
    "tweet_per_day  = train_df.groupby(train_df[\"TweetAt\"]).count()[\"Sentiment\"]\n",
    "tweet_per_day = tweet_per_day.reset_index()\n",
    "tweet_per_day"
   ]
  },
  {
   "cell_type": "code",
   "execution_count": 19,
   "id": "6db93400",
   "metadata": {},
   "outputs": [
    {
     "data": {
      "text/html": [
       "<div>\n",
       "<style scoped>\n",
       "    .dataframe tbody tr th:only-of-type {\n",
       "        vertical-align: middle;\n",
       "    }\n",
       "\n",
       "    .dataframe tbody tr th {\n",
       "        vertical-align: top;\n",
       "    }\n",
       "\n",
       "    .dataframe thead th {\n",
       "        text-align: right;\n",
       "    }\n",
       "</style>\n",
       "<table border=\"1\" class=\"dataframe\">\n",
       "  <thead>\n",
       "    <tr style=\"text-align: right;\">\n",
       "      <th></th>\n",
       "      <th>TweetAt</th>\n",
       "      <th>Sentiment</th>\n",
       "      <th>Month</th>\n",
       "    </tr>\n",
       "  </thead>\n",
       "  <tbody>\n",
       "    <tr>\n",
       "      <th>0</th>\n",
       "      <td>2020-03-16</td>\n",
       "      <td>656</td>\n",
       "      <td>3</td>\n",
       "    </tr>\n",
       "    <tr>\n",
       "      <th>1</th>\n",
       "      <td>2020-03-17</td>\n",
       "      <td>1977</td>\n",
       "      <td>3</td>\n",
       "    </tr>\n",
       "    <tr>\n",
       "      <th>2</th>\n",
       "      <td>2020-03-18</td>\n",
       "      <td>2742</td>\n",
       "      <td>3</td>\n",
       "    </tr>\n",
       "    <tr>\n",
       "      <th>3</th>\n",
       "      <td>2020-03-19</td>\n",
       "      <td>3215</td>\n",
       "      <td>3</td>\n",
       "    </tr>\n",
       "    <tr>\n",
       "      <th>4</th>\n",
       "      <td>2020-03-20</td>\n",
       "      <td>3448</td>\n",
       "      <td>3</td>\n",
       "    </tr>\n",
       "    <tr>\n",
       "      <th>5</th>\n",
       "      <td>2020-03-21</td>\n",
       "      <td>2653</td>\n",
       "      <td>3</td>\n",
       "    </tr>\n",
       "    <tr>\n",
       "      <th>6</th>\n",
       "      <td>2020-03-22</td>\n",
       "      <td>2114</td>\n",
       "      <td>3</td>\n",
       "    </tr>\n",
       "    <tr>\n",
       "      <th>7</th>\n",
       "      <td>2020-03-23</td>\n",
       "      <td>2062</td>\n",
       "      <td>3</td>\n",
       "    </tr>\n",
       "    <tr>\n",
       "      <th>8</th>\n",
       "      <td>2020-03-24</td>\n",
       "      <td>1480</td>\n",
       "      <td>3</td>\n",
       "    </tr>\n",
       "    <tr>\n",
       "      <th>9</th>\n",
       "      <td>2020-03-25</td>\n",
       "      <td>2979</td>\n",
       "      <td>3</td>\n",
       "    </tr>\n",
       "    <tr>\n",
       "      <th>10</th>\n",
       "      <td>2020-03-26</td>\n",
       "      <td>1277</td>\n",
       "      <td>3</td>\n",
       "    </tr>\n",
       "    <tr>\n",
       "      <th>11</th>\n",
       "      <td>2020-03-27</td>\n",
       "      <td>345</td>\n",
       "      <td>3</td>\n",
       "    </tr>\n",
       "    <tr>\n",
       "      <th>12</th>\n",
       "      <td>2020-03-28</td>\n",
       "      <td>23</td>\n",
       "      <td>3</td>\n",
       "    </tr>\n",
       "    <tr>\n",
       "      <th>13</th>\n",
       "      <td>2020-03-29</td>\n",
       "      <td>125</td>\n",
       "      <td>3</td>\n",
       "    </tr>\n",
       "    <tr>\n",
       "      <th>14</th>\n",
       "      <td>2020-03-30</td>\n",
       "      <td>87</td>\n",
       "      <td>3</td>\n",
       "    </tr>\n",
       "    <tr>\n",
       "      <th>15</th>\n",
       "      <td>2020-03-31</td>\n",
       "      <td>316</td>\n",
       "      <td>3</td>\n",
       "    </tr>\n",
       "    <tr>\n",
       "      <th>16</th>\n",
       "      <td>2020-04-01</td>\n",
       "      <td>630</td>\n",
       "      <td>4</td>\n",
       "    </tr>\n",
       "    <tr>\n",
       "      <th>17</th>\n",
       "      <td>2020-04-02</td>\n",
       "      <td>954</td>\n",
       "      <td>4</td>\n",
       "    </tr>\n",
       "    <tr>\n",
       "      <th>18</th>\n",
       "      <td>2020-04-03</td>\n",
       "      <td>810</td>\n",
       "      <td>4</td>\n",
       "    </tr>\n",
       "    <tr>\n",
       "      <th>19</th>\n",
       "      <td>2020-04-04</td>\n",
       "      <td>767</td>\n",
       "      <td>4</td>\n",
       "    </tr>\n",
       "    <tr>\n",
       "      <th>20</th>\n",
       "      <td>2020-04-05</td>\n",
       "      <td>1131</td>\n",
       "      <td>4</td>\n",
       "    </tr>\n",
       "    <tr>\n",
       "      <th>21</th>\n",
       "      <td>2020-04-06</td>\n",
       "      <td>1742</td>\n",
       "      <td>4</td>\n",
       "    </tr>\n",
       "    <tr>\n",
       "      <th>22</th>\n",
       "      <td>2020-04-07</td>\n",
       "      <td>1843</td>\n",
       "      <td>4</td>\n",
       "    </tr>\n",
       "    <tr>\n",
       "      <th>23</th>\n",
       "      <td>2020-04-08</td>\n",
       "      <td>1881</td>\n",
       "      <td>4</td>\n",
       "    </tr>\n",
       "    <tr>\n",
       "      <th>24</th>\n",
       "      <td>2020-04-09</td>\n",
       "      <td>1471</td>\n",
       "      <td>4</td>\n",
       "    </tr>\n",
       "    <tr>\n",
       "      <th>25</th>\n",
       "      <td>2020-04-10</td>\n",
       "      <td>1005</td>\n",
       "      <td>4</td>\n",
       "    </tr>\n",
       "    <tr>\n",
       "      <th>26</th>\n",
       "      <td>2020-04-11</td>\n",
       "      <td>909</td>\n",
       "      <td>4</td>\n",
       "    </tr>\n",
       "    <tr>\n",
       "      <th>27</th>\n",
       "      <td>2020-04-12</td>\n",
       "      <td>803</td>\n",
       "      <td>4</td>\n",
       "    </tr>\n",
       "    <tr>\n",
       "      <th>28</th>\n",
       "      <td>2020-04-13</td>\n",
       "      <td>1428</td>\n",
       "      <td>4</td>\n",
       "    </tr>\n",
       "    <tr>\n",
       "      <th>29</th>\n",
       "      <td>2020-04-14</td>\n",
       "      <td>284</td>\n",
       "      <td>4</td>\n",
       "    </tr>\n",
       "  </tbody>\n",
       "</table>\n",
       "</div>"
      ],
      "text/plain": [
       "      TweetAt  Sentiment  Month\n",
       "0  2020-03-16        656      3\n",
       "1  2020-03-17       1977      3\n",
       "2  2020-03-18       2742      3\n",
       "3  2020-03-19       3215      3\n",
       "4  2020-03-20       3448      3\n",
       "5  2020-03-21       2653      3\n",
       "6  2020-03-22       2114      3\n",
       "7  2020-03-23       2062      3\n",
       "8  2020-03-24       1480      3\n",
       "9  2020-03-25       2979      3\n",
       "10 2020-03-26       1277      3\n",
       "11 2020-03-27        345      3\n",
       "12 2020-03-28         23      3\n",
       "13 2020-03-29        125      3\n",
       "14 2020-03-30         87      3\n",
       "15 2020-03-31        316      3\n",
       "16 2020-04-01        630      4\n",
       "17 2020-04-02        954      4\n",
       "18 2020-04-03        810      4\n",
       "19 2020-04-04        767      4\n",
       "20 2020-04-05       1131      4\n",
       "21 2020-04-06       1742      4\n",
       "22 2020-04-07       1843      4\n",
       "23 2020-04-08       1881      4\n",
       "24 2020-04-09       1471      4\n",
       "25 2020-04-10       1005      4\n",
       "26 2020-04-11        909      4\n",
       "27 2020-04-12        803      4\n",
       "28 2020-04-13       1428      4\n",
       "29 2020-04-14        284      4"
      ]
     },
     "execution_count": 19,
     "metadata": {},
     "output_type": "execute_result"
    }
   ],
   "source": [
    "tweet_per_day[\"Month\"] = tweet_per_day[\"TweetAt\"].apply(lambda x : x.month)\n",
    "tweet_per_day"
   ]
  },
  {
   "cell_type": "code",
   "execution_count": 20,
   "id": "82aaa4aa",
   "metadata": {},
   "outputs": [
    {
     "data": {
      "image/png": "[encoded data removed]",
      "text/plain": [
       "<Figure size 720x576 with 1 Axes>"
      ]
     },
     "metadata": {
      "needs_background": "light"
     },
     "output_type": "display_data"
    }
   ],
   "source": [
    "# let's visualize tweet per day..\n",
    "plt.figure(figsize=(10,8))\n",
    "plt.plot(tweet_per_day[\"TweetAt\"],tweet_per_day[\"Sentiment\"]);"
   ]
  },
  {
   "cell_type": "code",
   "execution_count": 21,
   "id": "b592b352",
   "metadata": {},
   "outputs": [
    {
     "data": {
      "text/plain": [
       "array(['Neutral', 'Positive', 'Extremely Negative', 'Negative',\n",
       "       'Extremely Positive'], dtype=object)"
      ]
     },
     "execution_count": 21,
     "metadata": {},
     "output_type": "execute_result"
    }
   ],
   "source": [
    "train_df[\"Sentiment\"].unique()"
   ]
  },
  {
   "cell_type": "code",
   "execution_count": 37,
   "id": "84d2003d",
   "metadata": {},
   "outputs": [
    {
     "data": {
      "image/png": "[encoded data removed]",
      "text/plain": [
       "<Figure size 720x1008 with 6 Axes>"
      ]
     },
     "metadata": {
      "needs_background": "light"
     },
     "output_type": "display_data"
    }
   ],
   "source": [
    "# plotting the number of characters per sentiment\n",
    "len_neutral = train_df[train_df[\"Sentiment\"]==\"Neutral\"][\"OriginalTweet\"].str.len()\n",
    "\n",
    "# positive sentiment \n",
    "len_positive = train_df[train_df[\"Sentiment\"]==\"Positive\"][\"OriginalTweet\"].str.len()\n",
    "\n",
    "# negative sentiment \n",
    "len_negative = train_df[train_df[\"Sentiment\"]==\"Positive\"][\"OriginalTweet\"].str.len()\n",
    "\n",
    "# extremely negative \n",
    "len_ex_neg = train_df[train_df[\"Sentiment\"]==\"Extremely Negative\"][\"OriginalTweet\"].str.len()\n",
    "\n",
    "# extremely positive\n",
    "len_ex_pos = train_df[train_df[\"Sentiment\"]==\"Extremely Positive\"][\"OriginalTweet\"].str.len()\n",
    "\n",
    "# let's plot the len of characters in each sentiment category....\n",
    "# plt.figure(figsize=(10,8))\n",
    "figure,ax = plt.subplots(3,2,figsize=(10,14))\n",
    "ax[0,0].hist(len_positive)\n",
    "ax[0,0].set_title(\"Positive\")\n",
    "\n",
    "ax[0,1].hist(len_ex_pos)\n",
    "ax[0,1].set_title(\"Extremely_Positive\")\n",
    "\n",
    "ax[1,0].hist(len_negative)\n",
    "ax[1,0].set_title(\"Negative\")\n",
    "\n",
    "ax[1,1].hist(len_ex_neg)\n",
    "ax[1,1].set_title(\"Extremely_Negative\")\n",
    "\n",
    "ax[2,0].hist(len_neutral)\n",
    "ax[2,0].set_title(\"Neutral\")\n",
    "\n",
    "plt.show()"
   ]
  },
  {
   "cell_type": "code",
   "execution_count": 38,
   "id": "3eef0535",
   "metadata": {},
   "outputs": [
    {
     "data": {
      "text/plain": [
       "1        237\n",
       "2        131\n",
       "3        306\n",
       "5        250\n",
       "6        180\n",
       "        ... \n",
       "41140    302\n",
       "41145    105\n",
       "41146    290\n",
       "41150    199\n",
       "41154    136\n",
       "Name: Length, Length: 11422, dtype: int64"
      ]
     },
     "execution_count": 38,
     "metadata": {},
     "output_type": "execute_result"
    }
   ],
   "source": [
    "train_df[train_df[\"Sentiment\"]== \"Positive\"][\"Length\"]"
   ]
  },
  {
   "cell_type": "code",
   "execution_count": 42,
   "id": "42d43760",
   "metadata": {},
   "outputs": [],
   "source": [
    "# change the sentiment type\n",
    "\n",
    "def change_sen(sentiment):\n",
    "    if sentiment == \"Positive\":\n",
    "        return \"positive\"\n",
    "    elif sentiment == \"Extremely Positive\":\n",
    "        return \"positive\"\n",
    "    elif sentiment == \"Negative\":\n",
    "        return \"negative\"\n",
    "    elif sentiment == \"Extremely Negative\":\n",
    "        return \"negative\"\n",
    "    else:\n",
    "        return \"neutral\""
   ]
  },
  {
   "cell_type": "code",
   "execution_count": 43,
   "id": "7cbee962",
   "metadata": {},
   "outputs": [
    {
     "data": {
      "text/plain": [
       "array(['neutral', 'positive', 'negative'], dtype=object)"
      ]
     },
     "execution_count": 43,
     "metadata": {},
     "output_type": "execute_result"
    }
   ],
   "source": [
    "train_df[\"Sentiment\"] = train_df[\"Sentiment\"].apply(change_sen)\n",
    "test_df[\"Sentiment\"] = test_df[\"Sentiment\"].apply(change_sen)\n",
    "\n",
    "# let's check the changes\n",
    "train_df[\"Sentiment\"].unique()"
   ]
  },
  {
   "cell_type": "code",
   "execution_count": 45,
   "id": "a7686e40",
   "metadata": {},
   "outputs": [
    {
     "name": "stderr",
     "output_type": "stream",
     "text": [
      "/Users/macbook/tensorflow-test/env/lib/python3.8/site-packages/seaborn/_decorators.py:36: FutureWarning: Pass the following variable as a keyword arg: x. From version 0.12, the only valid positional argument will be `data`, and passing other arguments without an explicit keyword will result in an error or misinterpretation.\n",
      "  warnings.warn(\n"
     ]
    },
    {
     "data": {
      "image/png": "[encoded data removed]",
      "text/plain": [
       "<Figure size 432x288 with 1 Axes>"
      ]
     },
     "metadata": {
      "needs_background": "light"
     },
     "output_type": "display_data"
    }
   ],
   "source": [
    "# plot it\n",
    "sns.countplot(train_df[\"Sentiment\"]);"
   ]
  },
  {
   "cell_type": "code",
   "execution_count": null,
   "id": "cc716024",
   "metadata": {},
   "outputs": [],
   "source": []
  }
 ],
 "metadata": {
  "kernelspec": {
   "display_name": "Python 3 (ipykernel)",
   "language": "python",
   "name": "python3"
  },
  "language_info": {
   "codemirror_mode": {
    "name": "ipython",
    "version": 3
   },
   "file_extension": ".py",
   "mimetype": "text/x-python",
   "name": "python",
   "nbconvert_exporter": "python",
   "pygments_lexer": "ipython3",
   "version": "3.8.13"
  }
 },
 "nbformat": 4,
 "nbformat_minor": 5
}
