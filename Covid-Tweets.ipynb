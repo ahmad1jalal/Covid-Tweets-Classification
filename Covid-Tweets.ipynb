{
 "cells": [
  {
   "cell_type": "markdown",
   "id": "20b6d06a",
   "metadata": {},
   "source": [
    "## importing libraries..."
   ]
  },
  {
   "cell_type": "code",
   "execution_count": 68,
   "id": "d399814f",
   "metadata": {},
   "outputs": [],
   "source": [
    "import numpy as np\n",
    "import pandas as pd\n",
    "import matplotlib.pyplot as plt\n",
    "import tensorflow as tf\n",
    "from tensorflow.keras import layers\n",
    "import seaborn as sns\n",
    "import warnings\n",
    "from sklearn.naive_bayes import MultinomialNB\n",
    "from sklearn.feature_extraction.text import TfidfVectorizer\n",
    "from sklearn.metrics import accuracy_score,precision_recall_fscore_support\n",
    "from sklearn.pipeline import Pipeline\n",
    "from tensorflow.keras.layers import Embedding,TextVectorization\n",
    "import re\n",
    "import random\n",
    "import tensorflow\n",
    "from keras.utils import to_categorical"
   ]
  },
  {
   "cell_type": "code",
   "execution_count": 2,
   "id": "b1e68394",
   "metadata": {},
   "outputs": [],
   "source": [
    "# ignore warnings....\n",
    "warnings.filterwarnings(\"ignore\")"
   ]
  },
  {
   "cell_type": "markdown",
   "id": "c28951b8",
   "metadata": {},
   "source": [
    "## Manipulate Data..."
   ]
  },
  {
   "cell_type": "code",
   "execution_count": 120,
   "id": "506ecaf9",
   "metadata": {},
   "outputs": [
    {
     "data": {
      "text/html": [
       "<div>\n",
       "<style scoped>\n",
       "    .dataframe tbody tr th:only-of-type {\n",
       "        vertical-align: middle;\n",
       "    }\n",
       "\n",
       "    .dataframe tbody tr th {\n",
       "        vertical-align: top;\n",
       "    }\n",
       "\n",
       "    .dataframe thead th {\n",
       "        text-align: right;\n",
       "    }\n",
       "</style>\n",
       "<table border=\"1\" class=\"dataframe\">\n",
       "  <thead>\n",
       "    <tr style=\"text-align: right;\">\n",
       "      <th></th>\n",
       "      <th>UserName</th>\n",
       "      <th>ScreenName</th>\n",
       "      <th>Location</th>\n",
       "      <th>TweetAt</th>\n",
       "      <th>OriginalTweet</th>\n",
       "      <th>Sentiment</th>\n",
       "    </tr>\n",
       "  </thead>\n",
       "  <tbody>\n",
       "    <tr>\n",
       "      <th>1015</th>\n",
       "      <td>4814</td>\n",
       "      <td>49766</td>\n",
       "      <td>Vancouver, Canada</td>\n",
       "      <td>17-03-2020</td>\n",
       "      <td>Today's BCREA Market Intelligence Report: Sket...</td>\n",
       "      <td>Positive</td>\n",
       "    </tr>\n",
       "    <tr>\n",
       "      <th>13522</th>\n",
       "      <td>17321</td>\n",
       "      <td>62273</td>\n",
       "      <td>NaN</td>\n",
       "      <td>21-03-2020</td>\n",
       "      <td>If supermarket workers are so ÂessentialÂ th...</td>\n",
       "      <td>Positive</td>\n",
       "    </tr>\n",
       "    <tr>\n",
       "      <th>20195</th>\n",
       "      <td>23994</td>\n",
       "      <td>68946</td>\n",
       "      <td>Everywhere</td>\n",
       "      <td>24-03-2020</td>\n",
       "      <td>Stop buying so much toiletpaper. Yes sh**t is ...</td>\n",
       "      <td>Extremely Positive</td>\n",
       "    </tr>\n",
       "    <tr>\n",
       "      <th>34339</th>\n",
       "      <td>38138</td>\n",
       "      <td>83090</td>\n",
       "      <td>London, England</td>\n",
       "      <td>08-04-2020</td>\n",
       "      <td>What share could recovery take @covid19? We us...</td>\n",
       "      <td>Positive</td>\n",
       "    </tr>\n",
       "    <tr>\n",
       "      <th>16665</th>\n",
       "      <td>20464</td>\n",
       "      <td>65416</td>\n",
       "      <td>Montana, USA</td>\n",
       "      <td>22-03-2020</td>\n",
       "      <td>I was wondering why people were having a hard ...</td>\n",
       "      <td>Negative</td>\n",
       "    </tr>\n",
       "    <tr>\n",
       "      <th>15766</th>\n",
       "      <td>19565</td>\n",
       "      <td>64517</td>\n",
       "      <td>St. Catharines, Ontario</td>\n",
       "      <td>22-03-2020</td>\n",
       "      <td>How is your business adapting to #COVID19? Can...</td>\n",
       "      <td>Extremely Positive</td>\n",
       "    </tr>\n",
       "    <tr>\n",
       "      <th>6993</th>\n",
       "      <td>10792</td>\n",
       "      <td>55744</td>\n",
       "      <td>NaN</td>\n",
       "      <td>19-03-2020</td>\n",
       "      <td>Grocery store egg shelf completely empty.\\r\\r\\...</td>\n",
       "      <td>Extremely Negative</td>\n",
       "    </tr>\n",
       "    <tr>\n",
       "      <th>24691</th>\n",
       "      <td>28490</td>\n",
       "      <td>73442</td>\n",
       "      <td>Dallas, TX</td>\n",
       "      <td>27-03-2020</td>\n",
       "      <td>With thousands of retail stores temporarily cl...</td>\n",
       "      <td>Positive</td>\n",
       "    </tr>\n",
       "    <tr>\n",
       "      <th>8326</th>\n",
       "      <td>12125</td>\n",
       "      <td>57077</td>\n",
       "      <td>NaN</td>\n",
       "      <td>19-03-2020</td>\n",
       "      <td>To all do the medical workers, first responder...</td>\n",
       "      <td>Extremely Positive</td>\n",
       "    </tr>\n",
       "    <tr>\n",
       "      <th>38522</th>\n",
       "      <td>42321</td>\n",
       "      <td>87273</td>\n",
       "      <td>San Antonio</td>\n",
       "      <td>11-04-2020</td>\n",
       "      <td>\"We saw the picture. We understand...What can ...</td>\n",
       "      <td>Positive</td>\n",
       "    </tr>\n",
       "  </tbody>\n",
       "</table>\n",
       "</div>"
      ],
      "text/plain": [
       "       UserName  ScreenName                 Location     TweetAt  \\\n",
       "1015       4814       49766        Vancouver, Canada  17-03-2020   \n",
       "13522     17321       62273                      NaN  21-03-2020   \n",
       "20195     23994       68946               Everywhere  24-03-2020   \n",
       "34339     38138       83090          London, England  08-04-2020   \n",
       "16665     20464       65416             Montana, USA  22-03-2020   \n",
       "15766     19565       64517  St. Catharines, Ontario  22-03-2020   \n",
       "6993      10792       55744                      NaN  19-03-2020   \n",
       "24691     28490       73442               Dallas, TX  27-03-2020   \n",
       "8326      12125       57077                      NaN  19-03-2020   \n",
       "38522     42321       87273              San Antonio  11-04-2020   \n",
       "\n",
       "                                           OriginalTweet           Sentiment  \n",
       "1015   Today's BCREA Market Intelligence Report: Sket...            Positive  \n",
       "13522  If supermarket workers are so ÂessentialÂ th...            Positive  \n",
       "20195  Stop buying so much toiletpaper. Yes sh**t is ...  Extremely Positive  \n",
       "34339  What share could recovery take @covid19? We us...            Positive  \n",
       "16665  I was wondering why people were having a hard ...            Negative  \n",
       "15766  How is your business adapting to #COVID19? Can...  Extremely Positive  \n",
       "6993   Grocery store egg shelf completely empty.\\r\\r\\...  Extremely Negative  \n",
       "24691  With thousands of retail stores temporarily cl...            Positive  \n",
       "8326   To all do the medical workers, first responder...  Extremely Positive  \n",
       "38522  \"We saw the picture. We understand...What can ...            Positive  "
      ]
     },
     "execution_count": 120,
     "metadata": {},
     "output_type": "execute_result"
    }
   ],
   "source": [
    "train_df = pd.read_csv(\"Corona_NLP_train.csv\",encoding='latin1')\n",
    "test_df = pd.read_csv(\"Corona_NLP_test.csv\",encoding='latin1')\n",
    "\n",
    "train_df.sample(10)"
   ]
  },
  {
   "cell_type": "code",
   "execution_count": 121,
   "id": "8c5de9ed",
   "metadata": {},
   "outputs": [
    {
     "name": "stdout",
     "output_type": "stream",
     "text": [
      "Train data-set has 41157 rows and 6 columns \n",
      "\n",
      "Test data-set has 3798 rows and 6 columns\n"
     ]
    }
   ],
   "source": [
    "# cheking the shape of data....\n",
    "print(f\"Train data-set has {train_df.shape[0]} rows and {train_df.shape[1]} columns \\n\")\n",
    "print(f\"Test data-set has {test_df.shape[0]} rows and {test_df.shape[1]} columns\")"
   ]
  },
  {
   "cell_type": "code",
   "execution_count": 122,
   "id": "6b3b8c62",
   "metadata": {},
   "outputs": [
    {
     "name": "stdout",
     "output_type": "stream",
     "text": [
      "<class 'pandas.core.frame.DataFrame'>\n",
      "RangeIndex: 41157 entries, 0 to 41156\n",
      "Data columns (total 6 columns):\n",
      " #   Column         Non-Null Count  Dtype \n",
      "---  ------         --------------  ----- \n",
      " 0   UserName       41157 non-null  int64 \n",
      " 1   ScreenName     41157 non-null  int64 \n",
      " 2   Location       32567 non-null  object\n",
      " 3   TweetAt        41157 non-null  object\n",
      " 4   OriginalTweet  41157 non-null  object\n",
      " 5   Sentiment      41157 non-null  object\n",
      "dtypes: int64(2), object(4)\n",
      "memory usage: 1.9+ MB\n"
     ]
    }
   ],
   "source": [
    "# checking the dtypes\n",
    "train_df.info()"
   ]
  },
  {
   "cell_type": "code",
   "execution_count": 123,
   "id": "447537c1",
   "metadata": {},
   "outputs": [
    {
     "name": "stdout",
     "output_type": "stream",
     "text": [
      "<class 'pandas.core.frame.DataFrame'>\n",
      "RangeIndex: 3798 entries, 0 to 3797\n",
      "Data columns (total 6 columns):\n",
      " #   Column         Non-Null Count  Dtype \n",
      "---  ------         --------------  ----- \n",
      " 0   UserName       3798 non-null   int64 \n",
      " 1   ScreenName     3798 non-null   int64 \n",
      " 2   Location       2964 non-null   object\n",
      " 3   TweetAt        3798 non-null   object\n",
      " 4   OriginalTweet  3798 non-null   object\n",
      " 5   Sentiment      3798 non-null   object\n",
      "dtypes: int64(2), object(4)\n",
      "memory usage: 178.2+ KB\n"
     ]
    }
   ],
   "source": [
    "test_df.info()"
   ]
  },
  {
   "cell_type": "code",
   "execution_count": 124,
   "id": "021b8f62",
   "metadata": {},
   "outputs": [
    {
     "data": {
      "text/plain": [
       "UserName            0\n",
       "ScreenName          0\n",
       "Location         8590\n",
       "TweetAt             0\n",
       "OriginalTweet       0\n",
       "Sentiment           0\n",
       "dtype: int64"
      ]
     },
     "execution_count": 124,
     "metadata": {},
     "output_type": "execute_result"
    }
   ],
   "source": [
    "# checking null values...\n",
    "train_df.isnull().sum()"
   ]
  },
  {
   "cell_type": "code",
   "execution_count": 125,
   "id": "f0c60a2b",
   "metadata": {},
   "outputs": [
    {
     "data": {
      "text/plain": [
       "Positive              11422\n",
       "Negative               9917\n",
       "Neutral                7713\n",
       "Extremely Positive     6624\n",
       "Extremely Negative     5481\n",
       "Name: Sentiment, dtype: int64"
      ]
     },
     "execution_count": 125,
     "metadata": {},
     "output_type": "execute_result"
    }
   ],
   "source": [
    "# checking the label proportion around the data...\n",
    "labels_prop = train_df[\"Sentiment\"].value_counts()\n",
    "labels_prop"
   ]
  },
  {
   "cell_type": "code",
   "execution_count": 126,
   "id": "119659e4",
   "metadata": {},
   "outputs": [
    {
     "data": {
      "image/png": "[encoded data removed]",
      "text/plain": [
       "<Figure size 720x576 with 1 Axes>"
      ]
     },
     "metadata": {},
     "output_type": "display_data"
    }
   ],
   "source": [
    "# let's visualize it...\n",
    "labels = labels_prop.index\n",
    "colors = sns.color_palette('pastel') # pastel colors\n",
    "plt.figure(figsize=(10,8))\n",
    "plt.pie(labels_prop,labels=labels,colors=colors,explode=[0.1,0.1,0.1,0.3,0.25],startangle=65,autopct=\"%0.2f%%\");"
   ]
  },
  {
   "cell_type": "code",
   "execution_count": 127,
   "id": "e27aa115",
   "metadata": {},
   "outputs": [
    {
     "data": {
      "text/plain": [
       "London                          540\n",
       "United States                   528\n",
       "London, England                 520\n",
       "New York, NY                    395\n",
       "Washington, DC                  373\n",
       "                               ... \n",
       "Staffordshire Moorlands           1\n",
       "Kithchener ON                     1\n",
       "Tulsa, Ok                         1\n",
       "Watford, South Oxhey, Bushey      1\n",
       "i love you so much || he/him      1\n",
       "Name: Location, Length: 12220, dtype: int64"
      ]
     },
     "execution_count": 127,
     "metadata": {},
     "output_type": "execute_result"
    }
   ],
   "source": [
    "# let's visualize the location....\n",
    "location_prop = train_df[\"Location\"].value_counts()\n",
    "location_prop"
   ]
  },
  {
   "cell_type": "code",
   "execution_count": 128,
   "id": "dc5868ef",
   "metadata": {},
   "outputs": [
    {
     "data": {
      "image/png": "[encoded data removed]",
      "text/plain": [
       "<Figure size 720x576 with 1 Axes>"
      ]
     },
     "metadata": {},
     "output_type": "display_data"
    }
   ],
   "source": [
    "#  just visualize the top 10 location of the data....\n",
    "labels = location_prop.index[:10]\n",
    "colors = sns.color_palette(\"husl\")\n",
    "plt.figure(figsize=(10,8))\n",
    "plt.pie(location_prop[:10],labels=labels,colors=colors,autopct=\"%.2f%%\",);"
   ]
  },
  {
   "cell_type": "code",
   "execution_count": 129,
   "id": "864878f7",
   "metadata": {},
   "outputs": [
    {
     "data": {
      "text/html": [
       "<div>\n",
       "<style scoped>\n",
       "    .dataframe tbody tr th:only-of-type {\n",
       "        vertical-align: middle;\n",
       "    }\n",
       "\n",
       "    .dataframe tbody tr th {\n",
       "        vertical-align: top;\n",
       "    }\n",
       "\n",
       "    .dataframe thead th {\n",
       "        text-align: right;\n",
       "    }\n",
       "</style>\n",
       "<table border=\"1\" class=\"dataframe\">\n",
       "  <thead>\n",
       "    <tr style=\"text-align: right;\">\n",
       "      <th></th>\n",
       "      <th>UserName</th>\n",
       "      <th>ScreenName</th>\n",
       "      <th>Location</th>\n",
       "      <th>TweetAt</th>\n",
       "      <th>OriginalTweet</th>\n",
       "      <th>Sentiment</th>\n",
       "      <th>Length</th>\n",
       "    </tr>\n",
       "  </thead>\n",
       "  <tbody>\n",
       "    <tr>\n",
       "      <th>27814</th>\n",
       "      <td>31613</td>\n",
       "      <td>76565</td>\n",
       "      <td>NaN</td>\n",
       "      <td>03-04-2020</td>\n",
       "      <td>try to social distance in a supermarket #Coron...</td>\n",
       "      <td>Neutral</td>\n",
       "      <td>153</td>\n",
       "    </tr>\n",
       "    <tr>\n",
       "      <th>34630</th>\n",
       "      <td>38429</td>\n",
       "      <td>83381</td>\n",
       "      <td>New York, NY</td>\n",
       "      <td>08-04-2020</td>\n",
       "      <td>Fastmarkets RISI Viewpoint: What does the COVI...</td>\n",
       "      <td>Negative</td>\n",
       "      <td>316</td>\n",
       "    </tr>\n",
       "    <tr>\n",
       "      <th>26174</th>\n",
       "      <td>29973</td>\n",
       "      <td>74925</td>\n",
       "      <td>?? Copenhagen</td>\n",
       "      <td>02-04-2020</td>\n",
       "      <td>Great to wake up to this article in the Expres...</td>\n",
       "      <td>Extremely Positive</td>\n",
       "      <td>194</td>\n",
       "    </tr>\n",
       "    <tr>\n",
       "      <th>38798</th>\n",
       "      <td>42597</td>\n",
       "      <td>87549</td>\n",
       "      <td>India</td>\n",
       "      <td>12-04-2020</td>\n",
       "      <td>There is no shortage of grains. We now have a ...</td>\n",
       "      <td>Negative</td>\n",
       "      <td>262</td>\n",
       "    </tr>\n",
       "    <tr>\n",
       "      <th>32516</th>\n",
       "      <td>36315</td>\n",
       "      <td>81267</td>\n",
       "      <td>West Yorkshire, England</td>\n",
       "      <td>07-04-2020</td>\n",
       "      <td>Some1 I used2 know had their NHS badge ripped ...</td>\n",
       "      <td>Neutral</td>\n",
       "      <td>287</td>\n",
       "    </tr>\n",
       "    <tr>\n",
       "      <th>33955</th>\n",
       "      <td>37754</td>\n",
       "      <td>82706</td>\n",
       "      <td>NaN</td>\n",
       "      <td>08-04-2020</td>\n",
       "      <td>https://t.co/GzTpr8haz2 via @amazon Need a Gif...</td>\n",
       "      <td>Positive</td>\n",
       "      <td>300</td>\n",
       "    </tr>\n",
       "    <tr>\n",
       "      <th>2957</th>\n",
       "      <td>6756</td>\n",
       "      <td>51708</td>\n",
       "      <td>MÃ¼nchen</td>\n",
       "      <td>18-03-2020</td>\n",
       "      <td>How COVID 19 Is Impacting Online Shopping Beha...</td>\n",
       "      <td>Neutral</td>\n",
       "      <td>54</td>\n",
       "    </tr>\n",
       "    <tr>\n",
       "      <th>15118</th>\n",
       "      <td>18917</td>\n",
       "      <td>63869</td>\n",
       "      <td>SoCal Desert</td>\n",
       "      <td>22-03-2020</td>\n",
       "      <td>The only thing that was keeping our economy af...</td>\n",
       "      <td>Neutral</td>\n",
       "      <td>148</td>\n",
       "    </tr>\n",
       "    <tr>\n",
       "      <th>11218</th>\n",
       "      <td>15017</td>\n",
       "      <td>59969</td>\n",
       "      <td>London</td>\n",
       "      <td>20-03-2020</td>\n",
       "      <td>Don't know about #herdimmunity but we've certa...</td>\n",
       "      <td>Positive</td>\n",
       "      <td>279</td>\n",
       "    </tr>\n",
       "    <tr>\n",
       "      <th>17975</th>\n",
       "      <td>21774</td>\n",
       "      <td>66726</td>\n",
       "      <td>Salt Lake City</td>\n",
       "      <td>23-03-2020</td>\n",
       "      <td>The Utah Food Bank said the coronavirus outbre...</td>\n",
       "      <td>Positive</td>\n",
       "      <td>242</td>\n",
       "    </tr>\n",
       "  </tbody>\n",
       "</table>\n",
       "</div>"
      ],
      "text/plain": [
       "       UserName  ScreenName                 Location     TweetAt  \\\n",
       "27814     31613       76565                      NaN  03-04-2020   \n",
       "34630     38429       83381             New York, NY  08-04-2020   \n",
       "26174     29973       74925            ?? Copenhagen  02-04-2020   \n",
       "38798     42597       87549                    India  12-04-2020   \n",
       "32516     36315       81267  West Yorkshire, England  07-04-2020   \n",
       "33955     37754       82706                      NaN  08-04-2020   \n",
       "2957       6756       51708                 MÃ¼nchen  18-03-2020   \n",
       "15118     18917       63869             SoCal Desert  22-03-2020   \n",
       "11218     15017       59969                   London  20-03-2020   \n",
       "17975     21774       66726           Salt Lake City  23-03-2020   \n",
       "\n",
       "                                           OriginalTweet           Sentiment  \\\n",
       "27814  try to social distance in a supermarket #Coron...             Neutral   \n",
       "34630  Fastmarkets RISI Viewpoint: What does the COVI...            Negative   \n",
       "26174  Great to wake up to this article in the Expres...  Extremely Positive   \n",
       "38798  There is no shortage of grains. We now have a ...            Negative   \n",
       "32516  Some1 I used2 know had their NHS badge ripped ...             Neutral   \n",
       "33955  https://t.co/GzTpr8haz2 via @amazon Need a Gif...            Positive   \n",
       "2957   How COVID 19 Is Impacting Online Shopping Beha...             Neutral   \n",
       "15118  The only thing that was keeping our economy af...             Neutral   \n",
       "11218  Don't know about #herdimmunity but we've certa...            Positive   \n",
       "17975  The Utah Food Bank said the coronavirus outbre...            Positive   \n",
       "\n",
       "       Length  \n",
       "27814     153  \n",
       "34630     316  \n",
       "26174     194  \n",
       "38798     262  \n",
       "32516     287  \n",
       "33955     300  \n",
       "2957       54  \n",
       "15118     148  \n",
       "11218     279  \n",
       "17975     242  "
      ]
     },
     "execution_count": 129,
     "metadata": {},
     "output_type": "execute_result"
    }
   ],
   "source": [
    "# calculate the tweet length\n",
    "train_df[\"Length\"] = train_df[\"OriginalTweet\"].apply(len)\n",
    "train_df.sample(10)"
   ]
  },
  {
   "cell_type": "code",
   "execution_count": 130,
   "id": "2e842bc4",
   "metadata": {},
   "outputs": [
    {
     "data": {
      "text/plain": [
       "<Figure size 720x720 with 0 Axes>"
      ]
     },
     "metadata": {},
     "output_type": "display_data"
    },
    {
     "data": {
      "image/png": "[encoded data removed]",
      "text/plain": [
       "<Figure size 1574.5x360 with 1 Axes>"
      ]
     },
     "metadata": {
      "needs_background": "light"
     },
     "output_type": "display_data"
    }
   ],
   "source": [
    "# visualize the tweet length accross the data-set...\n",
    "plt.figure(figsize=(10,10))\n",
    "sns.displot(data=train_df,x=\"Length\",hue=\"Sentiment\",\n",
    "                 kind = 'kde', fill = True,  aspect =4 , palette = \"viridis\");\n"
   ]
  },
  {
   "cell_type": "code",
   "execution_count": 131,
   "id": "09bb1bec",
   "metadata": {},
   "outputs": [],
   "source": [
    "# changing the tweet text dtype\n",
    "train_df[\"OriginalTweet\"] = train_df[\"OriginalTweet\"].astype(\"string\")"
   ]
  },
  {
   "cell_type": "code",
   "execution_count": 132,
   "id": "d337e5c6",
   "metadata": {},
   "outputs": [
    {
     "data": {
      "text/plain": [
       "UserName          int64\n",
       "ScreenName        int64\n",
       "Location         object\n",
       "TweetAt          object\n",
       "OriginalTweet    string\n",
       "Sentiment        object\n",
       "Length            int64\n",
       "dtype: object"
      ]
     },
     "execution_count": 132,
     "metadata": {},
     "output_type": "execute_result"
    }
   ],
   "source": [
    "train_df.dtypes"
   ]
  },
  {
   "cell_type": "code",
   "execution_count": 133,
   "id": "4ee1d3df",
   "metadata": {},
   "outputs": [
    {
     "data": {
      "text/html": [
       "<div>\n",
       "<style scoped>\n",
       "    .dataframe tbody tr th:only-of-type {\n",
       "        vertical-align: middle;\n",
       "    }\n",
       "\n",
       "    .dataframe tbody tr th {\n",
       "        vertical-align: top;\n",
       "    }\n",
       "\n",
       "    .dataframe thead th {\n",
       "        text-align: right;\n",
       "    }\n",
       "</style>\n",
       "<table border=\"1\" class=\"dataframe\">\n",
       "  <thead>\n",
       "    <tr style=\"text-align: right;\">\n",
       "      <th></th>\n",
       "      <th>UserName</th>\n",
       "      <th>ScreenName</th>\n",
       "      <th>Location</th>\n",
       "      <th>TweetAt</th>\n",
       "      <th>OriginalTweet</th>\n",
       "      <th>Sentiment</th>\n",
       "      <th>Length</th>\n",
       "    </tr>\n",
       "  </thead>\n",
       "  <tbody>\n",
       "    <tr>\n",
       "      <th>0</th>\n",
       "      <td>3799</td>\n",
       "      <td>48751</td>\n",
       "      <td>London</td>\n",
       "      <td>2020-03-16</td>\n",
       "      <td>@MeNyrbie @Phil_Gahan @Chrisitv https://t.co/i...</td>\n",
       "      <td>Neutral</td>\n",
       "      <td>111</td>\n",
       "    </tr>\n",
       "    <tr>\n",
       "      <th>1</th>\n",
       "      <td>3800</td>\n",
       "      <td>48752</td>\n",
       "      <td>UK</td>\n",
       "      <td>2020-03-16</td>\n",
       "      <td>advice Talk to your neighbours family to excha...</td>\n",
       "      <td>Positive</td>\n",
       "      <td>237</td>\n",
       "    </tr>\n",
       "    <tr>\n",
       "      <th>2</th>\n",
       "      <td>3801</td>\n",
       "      <td>48753</td>\n",
       "      <td>Vagabonds</td>\n",
       "      <td>2020-03-16</td>\n",
       "      <td>Coronavirus Australia: Woolworths to give elde...</td>\n",
       "      <td>Positive</td>\n",
       "      <td>131</td>\n",
       "    </tr>\n",
       "    <tr>\n",
       "      <th>3</th>\n",
       "      <td>3802</td>\n",
       "      <td>48754</td>\n",
       "      <td>NaN</td>\n",
       "      <td>2020-03-16</td>\n",
       "      <td>My food stock is not the only one which is emp...</td>\n",
       "      <td>Positive</td>\n",
       "      <td>306</td>\n",
       "    </tr>\n",
       "    <tr>\n",
       "      <th>4</th>\n",
       "      <td>3803</td>\n",
       "      <td>48755</td>\n",
       "      <td>NaN</td>\n",
       "      <td>2020-03-16</td>\n",
       "      <td>Me, ready to go at supermarket during the #COV...</td>\n",
       "      <td>Extremely Negative</td>\n",
       "      <td>310</td>\n",
       "    </tr>\n",
       "  </tbody>\n",
       "</table>\n",
       "</div>"
      ],
      "text/plain": [
       "   UserName  ScreenName   Location    TweetAt  \\\n",
       "0      3799       48751     London 2020-03-16   \n",
       "1      3800       48752         UK 2020-03-16   \n",
       "2      3801       48753  Vagabonds 2020-03-16   \n",
       "3      3802       48754        NaN 2020-03-16   \n",
       "4      3803       48755        NaN 2020-03-16   \n",
       "\n",
       "                                       OriginalTweet           Sentiment  \\\n",
       "0  @MeNyrbie @Phil_Gahan @Chrisitv https://t.co/i...             Neutral   \n",
       "1  advice Talk to your neighbours family to excha...            Positive   \n",
       "2  Coronavirus Australia: Woolworths to give elde...            Positive   \n",
       "3  My food stock is not the only one which is emp...            Positive   \n",
       "4  Me, ready to go at supermarket during the #COV...  Extremely Negative   \n",
       "\n",
       "   Length  \n",
       "0     111  \n",
       "1     237  \n",
       "2     131  \n",
       "3     306  \n",
       "4     310  "
      ]
     },
     "execution_count": 133,
     "metadata": {},
     "output_type": "execute_result"
    }
   ],
   "source": [
    "# changing the datetime dtype ...\n",
    "train_df[\"TweetAt\"] = pd.to_datetime(train_df[\"TweetAt\"],format=\"%d-%m-%Y\")\n",
    "train_df.head(5)"
   ]
  },
  {
   "cell_type": "code",
   "execution_count": 134,
   "id": "93259cae",
   "metadata": {},
   "outputs": [
    {
     "data": {
      "text/plain": [
       "Timestamp('2020-03-16 00:00:00')"
      ]
     },
     "execution_count": 134,
     "metadata": {},
     "output_type": "execute_result"
    }
   ],
   "source": [
    "train_df[\"TweetAt\"].min()"
   ]
  },
  {
   "cell_type": "code",
   "execution_count": 135,
   "id": "1370fcaf",
   "metadata": {},
   "outputs": [
    {
     "data": {
      "text/plain": [
       "Timestamp('2020-04-14 00:00:00')"
      ]
     },
     "execution_count": 135,
     "metadata": {},
     "output_type": "execute_result"
    }
   ],
   "source": [
    "train_df[\"TweetAt\"].max()"
   ]
  },
  {
   "cell_type": "code",
   "execution_count": 136,
   "id": "5af85e52",
   "metadata": {},
   "outputs": [
    {
     "data": {
      "text/html": [
       "<div>\n",
       "<style scoped>\n",
       "    .dataframe tbody tr th:only-of-type {\n",
       "        vertical-align: middle;\n",
       "    }\n",
       "\n",
       "    .dataframe tbody tr th {\n",
       "        vertical-align: top;\n",
       "    }\n",
       "\n",
       "    .dataframe thead th {\n",
       "        text-align: right;\n",
       "    }\n",
       "</style>\n",
       "<table border=\"1\" class=\"dataframe\">\n",
       "  <thead>\n",
       "    <tr style=\"text-align: right;\">\n",
       "      <th></th>\n",
       "      <th>TweetAt</th>\n",
       "      <th>Sentiment</th>\n",
       "    </tr>\n",
       "  </thead>\n",
       "  <tbody>\n",
       "    <tr>\n",
       "      <th>0</th>\n",
       "      <td>2020-03-16</td>\n",
       "      <td>656</td>\n",
       "    </tr>\n",
       "    <tr>\n",
       "      <th>1</th>\n",
       "      <td>2020-03-17</td>\n",
       "      <td>1977</td>\n",
       "    </tr>\n",
       "    <tr>\n",
       "      <th>2</th>\n",
       "      <td>2020-03-18</td>\n",
       "      <td>2742</td>\n",
       "    </tr>\n",
       "    <tr>\n",
       "      <th>3</th>\n",
       "      <td>2020-03-19</td>\n",
       "      <td>3215</td>\n",
       "    </tr>\n",
       "    <tr>\n",
       "      <th>4</th>\n",
       "      <td>2020-03-20</td>\n",
       "      <td>3448</td>\n",
       "    </tr>\n",
       "    <tr>\n",
       "      <th>5</th>\n",
       "      <td>2020-03-21</td>\n",
       "      <td>2653</td>\n",
       "    </tr>\n",
       "    <tr>\n",
       "      <th>6</th>\n",
       "      <td>2020-03-22</td>\n",
       "      <td>2114</td>\n",
       "    </tr>\n",
       "    <tr>\n",
       "      <th>7</th>\n",
       "      <td>2020-03-23</td>\n",
       "      <td>2062</td>\n",
       "    </tr>\n",
       "    <tr>\n",
       "      <th>8</th>\n",
       "      <td>2020-03-24</td>\n",
       "      <td>1480</td>\n",
       "    </tr>\n",
       "    <tr>\n",
       "      <th>9</th>\n",
       "      <td>2020-03-25</td>\n",
       "      <td>2979</td>\n",
       "    </tr>\n",
       "    <tr>\n",
       "      <th>10</th>\n",
       "      <td>2020-03-26</td>\n",
       "      <td>1277</td>\n",
       "    </tr>\n",
       "    <tr>\n",
       "      <th>11</th>\n",
       "      <td>2020-03-27</td>\n",
       "      <td>345</td>\n",
       "    </tr>\n",
       "    <tr>\n",
       "      <th>12</th>\n",
       "      <td>2020-03-28</td>\n",
       "      <td>23</td>\n",
       "    </tr>\n",
       "    <tr>\n",
       "      <th>13</th>\n",
       "      <td>2020-03-29</td>\n",
       "      <td>125</td>\n",
       "    </tr>\n",
       "    <tr>\n",
       "      <th>14</th>\n",
       "      <td>2020-03-30</td>\n",
       "      <td>87</td>\n",
       "    </tr>\n",
       "    <tr>\n",
       "      <th>15</th>\n",
       "      <td>2020-03-31</td>\n",
       "      <td>316</td>\n",
       "    </tr>\n",
       "    <tr>\n",
       "      <th>16</th>\n",
       "      <td>2020-04-01</td>\n",
       "      <td>630</td>\n",
       "    </tr>\n",
       "    <tr>\n",
       "      <th>17</th>\n",
       "      <td>2020-04-02</td>\n",
       "      <td>954</td>\n",
       "    </tr>\n",
       "    <tr>\n",
       "      <th>18</th>\n",
       "      <td>2020-04-03</td>\n",
       "      <td>810</td>\n",
       "    </tr>\n",
       "    <tr>\n",
       "      <th>19</th>\n",
       "      <td>2020-04-04</td>\n",
       "      <td>767</td>\n",
       "    </tr>\n",
       "    <tr>\n",
       "      <th>20</th>\n",
       "      <td>2020-04-05</td>\n",
       "      <td>1131</td>\n",
       "    </tr>\n",
       "    <tr>\n",
       "      <th>21</th>\n",
       "      <td>2020-04-06</td>\n",
       "      <td>1742</td>\n",
       "    </tr>\n",
       "    <tr>\n",
       "      <th>22</th>\n",
       "      <td>2020-04-07</td>\n",
       "      <td>1843</td>\n",
       "    </tr>\n",
       "    <tr>\n",
       "      <th>23</th>\n",
       "      <td>2020-04-08</td>\n",
       "      <td>1881</td>\n",
       "    </tr>\n",
       "    <tr>\n",
       "      <th>24</th>\n",
       "      <td>2020-04-09</td>\n",
       "      <td>1471</td>\n",
       "    </tr>\n",
       "    <tr>\n",
       "      <th>25</th>\n",
       "      <td>2020-04-10</td>\n",
       "      <td>1005</td>\n",
       "    </tr>\n",
       "    <tr>\n",
       "      <th>26</th>\n",
       "      <td>2020-04-11</td>\n",
       "      <td>909</td>\n",
       "    </tr>\n",
       "    <tr>\n",
       "      <th>27</th>\n",
       "      <td>2020-04-12</td>\n",
       "      <td>803</td>\n",
       "    </tr>\n",
       "    <tr>\n",
       "      <th>28</th>\n",
       "      <td>2020-04-13</td>\n",
       "      <td>1428</td>\n",
       "    </tr>\n",
       "    <tr>\n",
       "      <th>29</th>\n",
       "      <td>2020-04-14</td>\n",
       "      <td>284</td>\n",
       "    </tr>\n",
       "  </tbody>\n",
       "</table>\n",
       "</div>"
      ],
      "text/plain": [
       "      TweetAt  Sentiment\n",
       "0  2020-03-16        656\n",
       "1  2020-03-17       1977\n",
       "2  2020-03-18       2742\n",
       "3  2020-03-19       3215\n",
       "4  2020-03-20       3448\n",
       "5  2020-03-21       2653\n",
       "6  2020-03-22       2114\n",
       "7  2020-03-23       2062\n",
       "8  2020-03-24       1480\n",
       "9  2020-03-25       2979\n",
       "10 2020-03-26       1277\n",
       "11 2020-03-27        345\n",
       "12 2020-03-28         23\n",
       "13 2020-03-29        125\n",
       "14 2020-03-30         87\n",
       "15 2020-03-31        316\n",
       "16 2020-04-01        630\n",
       "17 2020-04-02        954\n",
       "18 2020-04-03        810\n",
       "19 2020-04-04        767\n",
       "20 2020-04-05       1131\n",
       "21 2020-04-06       1742\n",
       "22 2020-04-07       1843\n",
       "23 2020-04-08       1881\n",
       "24 2020-04-09       1471\n",
       "25 2020-04-10       1005\n",
       "26 2020-04-11        909\n",
       "27 2020-04-12        803\n",
       "28 2020-04-13       1428\n",
       "29 2020-04-14        284"
      ]
     },
     "execution_count": 136,
     "metadata": {},
     "output_type": "execute_result"
    }
   ],
   "source": [
    "# checking the tweets per day\n",
    "tweet_per_day  = train_df.groupby(train_df[\"TweetAt\"]).count()[\"Sentiment\"]\n",
    "tweet_per_day = tweet_per_day.reset_index()\n",
    "tweet_per_day"
   ]
  },
  {
   "cell_type": "code",
   "execution_count": 137,
   "id": "6db93400",
   "metadata": {},
   "outputs": [
    {
     "data": {
      "text/html": [
       "<div>\n",
       "<style scoped>\n",
       "    .dataframe tbody tr th:only-of-type {\n",
       "        vertical-align: middle;\n",
       "    }\n",
       "\n",
       "    .dataframe tbody tr th {\n",
       "        vertical-align: top;\n",
       "    }\n",
       "\n",
       "    .dataframe thead th {\n",
       "        text-align: right;\n",
       "    }\n",
       "</style>\n",
       "<table border=\"1\" class=\"dataframe\">\n",
       "  <thead>\n",
       "    <tr style=\"text-align: right;\">\n",
       "      <th></th>\n",
       "      <th>TweetAt</th>\n",
       "      <th>Sentiment</th>\n",
       "      <th>Month</th>\n",
       "    </tr>\n",
       "  </thead>\n",
       "  <tbody>\n",
       "    <tr>\n",
       "      <th>0</th>\n",
       "      <td>2020-03-16</td>\n",
       "      <td>656</td>\n",
       "      <td>3</td>\n",
       "    </tr>\n",
       "    <tr>\n",
       "      <th>1</th>\n",
       "      <td>2020-03-17</td>\n",
       "      <td>1977</td>\n",
       "      <td>3</td>\n",
       "    </tr>\n",
       "    <tr>\n",
       "      <th>2</th>\n",
       "      <td>2020-03-18</td>\n",
       "      <td>2742</td>\n",
       "      <td>3</td>\n",
       "    </tr>\n",
       "    <tr>\n",
       "      <th>3</th>\n",
       "      <td>2020-03-19</td>\n",
       "      <td>3215</td>\n",
       "      <td>3</td>\n",
       "    </tr>\n",
       "    <tr>\n",
       "      <th>4</th>\n",
       "      <td>2020-03-20</td>\n",
       "      <td>3448</td>\n",
       "      <td>3</td>\n",
       "    </tr>\n",
       "    <tr>\n",
       "      <th>5</th>\n",
       "      <td>2020-03-21</td>\n",
       "      <td>2653</td>\n",
       "      <td>3</td>\n",
       "    </tr>\n",
       "    <tr>\n",
       "      <th>6</th>\n",
       "      <td>2020-03-22</td>\n",
       "      <td>2114</td>\n",
       "      <td>3</td>\n",
       "    </tr>\n",
       "    <tr>\n",
       "      <th>7</th>\n",
       "      <td>2020-03-23</td>\n",
       "      <td>2062</td>\n",
       "      <td>3</td>\n",
       "    </tr>\n",
       "    <tr>\n",
       "      <th>8</th>\n",
       "      <td>2020-03-24</td>\n",
       "      <td>1480</td>\n",
       "      <td>3</td>\n",
       "    </tr>\n",
       "    <tr>\n",
       "      <th>9</th>\n",
       "      <td>2020-03-25</td>\n",
       "      <td>2979</td>\n",
       "      <td>3</td>\n",
       "    </tr>\n",
       "    <tr>\n",
       "      <th>10</th>\n",
       "      <td>2020-03-26</td>\n",
       "      <td>1277</td>\n",
       "      <td>3</td>\n",
       "    </tr>\n",
       "    <tr>\n",
       "      <th>11</th>\n",
       "      <td>2020-03-27</td>\n",
       "      <td>345</td>\n",
       "      <td>3</td>\n",
       "    </tr>\n",
       "    <tr>\n",
       "      <th>12</th>\n",
       "      <td>2020-03-28</td>\n",
       "      <td>23</td>\n",
       "      <td>3</td>\n",
       "    </tr>\n",
       "    <tr>\n",
       "      <th>13</th>\n",
       "      <td>2020-03-29</td>\n",
       "      <td>125</td>\n",
       "      <td>3</td>\n",
       "    </tr>\n",
       "    <tr>\n",
       "      <th>14</th>\n",
       "      <td>2020-03-30</td>\n",
       "      <td>87</td>\n",
       "      <td>3</td>\n",
       "    </tr>\n",
       "    <tr>\n",
       "      <th>15</th>\n",
       "      <td>2020-03-31</td>\n",
       "      <td>316</td>\n",
       "      <td>3</td>\n",
       "    </tr>\n",
       "    <tr>\n",
       "      <th>16</th>\n",
       "      <td>2020-04-01</td>\n",
       "      <td>630</td>\n",
       "      <td>4</td>\n",
       "    </tr>\n",
       "    <tr>\n",
       "      <th>17</th>\n",
       "      <td>2020-04-02</td>\n",
       "      <td>954</td>\n",
       "      <td>4</td>\n",
       "    </tr>\n",
       "    <tr>\n",
       "      <th>18</th>\n",
       "      <td>2020-04-03</td>\n",
       "      <td>810</td>\n",
       "      <td>4</td>\n",
       "    </tr>\n",
       "    <tr>\n",
       "      <th>19</th>\n",
       "      <td>2020-04-04</td>\n",
       "      <td>767</td>\n",
       "      <td>4</td>\n",
       "    </tr>\n",
       "    <tr>\n",
       "      <th>20</th>\n",
       "      <td>2020-04-05</td>\n",
       "      <td>1131</td>\n",
       "      <td>4</td>\n",
       "    </tr>\n",
       "    <tr>\n",
       "      <th>21</th>\n",
       "      <td>2020-04-06</td>\n",
       "      <td>1742</td>\n",
       "      <td>4</td>\n",
       "    </tr>\n",
       "    <tr>\n",
       "      <th>22</th>\n",
       "      <td>2020-04-07</td>\n",
       "      <td>1843</td>\n",
       "      <td>4</td>\n",
       "    </tr>\n",
       "    <tr>\n",
       "      <th>23</th>\n",
       "      <td>2020-04-08</td>\n",
       "      <td>1881</td>\n",
       "      <td>4</td>\n",
       "    </tr>\n",
       "    <tr>\n",
       "      <th>24</th>\n",
       "      <td>2020-04-09</td>\n",
       "      <td>1471</td>\n",
       "      <td>4</td>\n",
       "    </tr>\n",
       "    <tr>\n",
       "      <th>25</th>\n",
       "      <td>2020-04-10</td>\n",
       "      <td>1005</td>\n",
       "      <td>4</td>\n",
       "    </tr>\n",
       "    <tr>\n",
       "      <th>26</th>\n",
       "      <td>2020-04-11</td>\n",
       "      <td>909</td>\n",
       "      <td>4</td>\n",
       "    </tr>\n",
       "    <tr>\n",
       "      <th>27</th>\n",
       "      <td>2020-04-12</td>\n",
       "      <td>803</td>\n",
       "      <td>4</td>\n",
       "    </tr>\n",
       "    <tr>\n",
       "      <th>28</th>\n",
       "      <td>2020-04-13</td>\n",
       "      <td>1428</td>\n",
       "      <td>4</td>\n",
       "    </tr>\n",
       "    <tr>\n",
       "      <th>29</th>\n",
       "      <td>2020-04-14</td>\n",
       "      <td>284</td>\n",
       "      <td>4</td>\n",
       "    </tr>\n",
       "  </tbody>\n",
       "</table>\n",
       "</div>"
      ],
      "text/plain": [
       "      TweetAt  Sentiment  Month\n",
       "0  2020-03-16        656      3\n",
       "1  2020-03-17       1977      3\n",
       "2  2020-03-18       2742      3\n",
       "3  2020-03-19       3215      3\n",
       "4  2020-03-20       3448      3\n",
       "5  2020-03-21       2653      3\n",
       "6  2020-03-22       2114      3\n",
       "7  2020-03-23       2062      3\n",
       "8  2020-03-24       1480      3\n",
       "9  2020-03-25       2979      3\n",
       "10 2020-03-26       1277      3\n",
       "11 2020-03-27        345      3\n",
       "12 2020-03-28         23      3\n",
       "13 2020-03-29        125      3\n",
       "14 2020-03-30         87      3\n",
       "15 2020-03-31        316      3\n",
       "16 2020-04-01        630      4\n",
       "17 2020-04-02        954      4\n",
       "18 2020-04-03        810      4\n",
       "19 2020-04-04        767      4\n",
       "20 2020-04-05       1131      4\n",
       "21 2020-04-06       1742      4\n",
       "22 2020-04-07       1843      4\n",
       "23 2020-04-08       1881      4\n",
       "24 2020-04-09       1471      4\n",
       "25 2020-04-10       1005      4\n",
       "26 2020-04-11        909      4\n",
       "27 2020-04-12        803      4\n",
       "28 2020-04-13       1428      4\n",
       "29 2020-04-14        284      4"
      ]
     },
     "execution_count": 137,
     "metadata": {},
     "output_type": "execute_result"
    }
   ],
   "source": [
    "tweet_per_day[\"Month\"] = tweet_per_day[\"TweetAt\"].apply(lambda x : x.month)\n",
    "tweet_per_day"
   ]
  },
  {
   "cell_type": "code",
   "execution_count": 138,
   "id": "82aaa4aa",
   "metadata": {},
   "outputs": [
    {
     "data": {
      "image/png": "[encoded data removed]",
      "text/plain": [
       "<Figure size 720x576 with 1 Axes>"
      ]
     },
     "metadata": {
      "needs_background": "light"
     },
     "output_type": "display_data"
    }
   ],
   "source": [
    "# let's visualize tweet per day..\n",
    "plt.figure(figsize=(10,8))\n",
    "plt.plot(tweet_per_day[\"TweetAt\"],tweet_per_day[\"Sentiment\"]);"
   ]
  },
  {
   "cell_type": "code",
   "execution_count": 139,
   "id": "b592b352",
   "metadata": {},
   "outputs": [
    {
     "data": {
      "text/plain": [
       "array(['Neutral', 'Positive', 'Extremely Negative', 'Negative',\n",
       "       'Extremely Positive'], dtype=object)"
      ]
     },
     "execution_count": 139,
     "metadata": {},
     "output_type": "execute_result"
    }
   ],
   "source": [
    "train_df[\"Sentiment\"].unique()"
   ]
  },
  {
   "cell_type": "code",
   "execution_count": 140,
   "id": "84d2003d",
   "metadata": {},
   "outputs": [
    {
     "data": {
      "image/png": "[encoded data removed]",
      "text/plain": [
       "<Figure size 720x1008 with 6 Axes>"
      ]
     },
     "metadata": {
      "needs_background": "light"
     },
     "output_type": "display_data"
    }
   ],
   "source": [
    "# plotting the number of characters per sentiment\n",
    "len_neutral = train_df[train_df[\"Sentiment\"]==\"Neutral\"][\"OriginalTweet\"].str.len()\n",
    "\n",
    "# positive sentiment \n",
    "len_positive = train_df[train_df[\"Sentiment\"]==\"Positive\"][\"OriginalTweet\"].str.len()\n",
    "\n",
    "# negative sentiment \n",
    "len_negative = train_df[train_df[\"Sentiment\"]==\"Positive\"][\"OriginalTweet\"].str.len()\n",
    "\n",
    "# extremely negative \n",
    "len_ex_neg = train_df[train_df[\"Sentiment\"]==\"Extremely Negative\"][\"OriginalTweet\"].str.len()\n",
    "\n",
    "# extremely positive\n",
    "len_ex_pos = train_df[train_df[\"Sentiment\"]==\"Extremely Positive\"][\"OriginalTweet\"].str.len()\n",
    "\n",
    "# let's plot the len of characters in each sentiment category....\n",
    "# plt.figure(figsize=(10,8))\n",
    "figure,ax = plt.subplots(3,2,figsize=(10,14))\n",
    "ax[0,0].hist(len_positive)\n",
    "ax[0,0].set_title(\"Positive\")\n",
    "\n",
    "ax[0,1].hist(len_ex_pos)\n",
    "ax[0,1].set_title(\"Extremely_Positive\")\n",
    "\n",
    "ax[1,0].hist(len_negative)\n",
    "ax[1,0].set_title(\"Negative\")\n",
    "\n",
    "ax[1,1].hist(len_ex_neg)\n",
    "ax[1,1].set_title(\"Extremely_Negative\")\n",
    "\n",
    "ax[2,0].hist(len_neutral)\n",
    "ax[2,0].set_title(\"Neutral\")\n",
    "\n",
    "plt.show()"
   ]
  },
  {
   "cell_type": "code",
   "execution_count": 141,
   "id": "f03c3419",
   "metadata": {},
   "outputs": [
    {
     "data": {
      "text/plain": [
       "1        237\n",
       "2        131\n",
       "3        306\n",
       "5        250\n",
       "6        180\n",
       "        ... \n",
       "41140    302\n",
       "41145    105\n",
       "41146    290\n",
       "41150    199\n",
       "41154    136\n",
       "Name: Length, Length: 11422, dtype: int64"
      ]
     },
     "execution_count": 141,
     "metadata": {},
     "output_type": "execute_result"
    }
   ],
   "source": [
    "train_df[train_df[\"Sentiment\"]== \"Positive\"][\"Length\"]"
   ]
  },
  {
   "cell_type": "code",
   "execution_count": 142,
   "id": "42d43760",
   "metadata": {},
   "outputs": [],
   "source": [
    "# change the sentiment type\n",
    "\n",
    "def change_sen(sentiment):\n",
    "    if sentiment == \"Positive\":\n",
    "        return \"positive\"\n",
    "    elif sentiment == \"Extremely Positive\":\n",
    "        return \"positive\"\n",
    "    elif sentiment == \"Negative\":\n",
    "        return \"negative\"\n",
    "    elif sentiment == \"Extremely Negative\":\n",
    "        return \"negative\"\n",
    "    else:\n",
    "        return \"neutral\""
   ]
  },
  {
   "cell_type": "code",
   "execution_count": 143,
   "id": "f06a25be",
   "metadata": {},
   "outputs": [
    {
     "data": {
      "text/plain": [
       "array(['neutral', 'positive', 'negative'], dtype=object)"
      ]
     },
     "execution_count": 143,
     "metadata": {},
     "output_type": "execute_result"
    }
   ],
   "source": [
    "train_df[\"Sentiment\"] = train_df[\"Sentiment\"].apply(change_sen)\n",
    "test_df[\"Sentiment\"] = test_df[\"Sentiment\"].apply(change_sen)\n",
    "\n",
    "# let's check the changes\n",
    "train_df[\"Sentiment\"].unique()"
   ]
  },
  {
   "cell_type": "code",
   "execution_count": 144,
   "id": "9ea01f3d",
   "metadata": {},
   "outputs": [
    {
     "data": {
      "image/png": "[encoded data removed]",
      "text/plain": [
       "<Figure size 432x288 with 1 Axes>"
      ]
     },
     "metadata": {
      "needs_background": "light"
     },
     "output_type": "display_data"
    }
   ],
   "source": [
    "# plot it\n",
    "sns.countplot(train_df[\"Sentiment\"]);"
   ]
  },
  {
   "cell_type": "code",
   "execution_count": 145,
   "id": "439f07c3",
   "metadata": {},
   "outputs": [],
   "source": [
    "# as our label is in text so map it\n",
    "\n",
    "l = {\"neutral\" : 0, \"positive\" : 1,\"negative\" : 2}\n",
    "\n",
    "# apply it to the data....\n",
    "\n",
    "train_df[\"Sentiment\"] = train_df[\"Sentiment\"].map(l)\n",
    "test_df[\"Sentiment\"] = test_df[\"Sentiment\"].map(l)"
   ]
  },
  {
   "cell_type": "code",
   "execution_count": 70,
   "id": "6a723932",
   "metadata": {},
   "outputs": [],
   "source": [
    "train_df[\"Sentiment\"] = to_categorical(train_df[\"Sentiment\"],3)\n",
    "test_df[\"Sentiment\"] = to_categorical(test_df[\"Sentiment\"],3)"
   ]
  },
  {
   "cell_type": "code",
   "execution_count": 146,
   "id": "9774ac15",
   "metadata": {},
   "outputs": [
    {
     "data": {
      "text/html": [
       "<div>\n",
       "<style scoped>\n",
       "    .dataframe tbody tr th:only-of-type {\n",
       "        vertical-align: middle;\n",
       "    }\n",
       "\n",
       "    .dataframe tbody tr th {\n",
       "        vertical-align: top;\n",
       "    }\n",
       "\n",
       "    .dataframe thead th {\n",
       "        text-align: right;\n",
       "    }\n",
       "</style>\n",
       "<table border=\"1\" class=\"dataframe\">\n",
       "  <thead>\n",
       "    <tr style=\"text-align: right;\">\n",
       "      <th></th>\n",
       "      <th>UserName</th>\n",
       "      <th>ScreenName</th>\n",
       "      <th>Location</th>\n",
       "      <th>TweetAt</th>\n",
       "      <th>OriginalTweet</th>\n",
       "      <th>Sentiment</th>\n",
       "      <th>Length</th>\n",
       "    </tr>\n",
       "  </thead>\n",
       "  <tbody>\n",
       "    <tr>\n",
       "      <th>17492</th>\n",
       "      <td>21291</td>\n",
       "      <td>66243</td>\n",
       "      <td>TEXAS</td>\n",
       "      <td>2020-03-23</td>\n",
       "      <td>Where the fuck did they find these vacuous peo...</td>\n",
       "      <td>2</td>\n",
       "      <td>198</td>\n",
       "    </tr>\n",
       "    <tr>\n",
       "      <th>35575</th>\n",
       "      <td>39374</td>\n",
       "      <td>84326</td>\n",
       "      <td>Conroe, TX</td>\n",
       "      <td>2020-04-09</td>\n",
       "      <td>10th Emergency Order of the COVID-19 outbreak ...</td>\n",
       "      <td>2</td>\n",
       "      <td>140</td>\n",
       "    </tr>\n",
       "    <tr>\n",
       "      <th>25115</th>\n",
       "      <td>28914</td>\n",
       "      <td>73866</td>\n",
       "      <td>Exeter, England</td>\n",
       "      <td>2020-03-30</td>\n",
       "      <td>Tonight I'm saying #ThankYou &amp;amp; praying for...</td>\n",
       "      <td>1</td>\n",
       "      <td>218</td>\n",
       "    </tr>\n",
       "    <tr>\n",
       "      <th>30036</th>\n",
       "      <td>33835</td>\n",
       "      <td>78787</td>\n",
       "      <td>Galway, Ireland</td>\n",
       "      <td>2020-04-06</td>\n",
       "      <td>AgFunder: A quick look at the impact of Covid-...</td>\n",
       "      <td>1</td>\n",
       "      <td>137</td>\n",
       "    </tr>\n",
       "    <tr>\n",
       "      <th>17664</th>\n",
       "      <td>21463</td>\n",
       "      <td>66415</td>\n",
       "      <td>Suva, Fiji</td>\n",
       "      <td>2020-03-23</td>\n",
       "      <td>The Consumer Watchdog has seen an increase in ...</td>\n",
       "      <td>2</td>\n",
       "      <td>176</td>\n",
       "    </tr>\n",
       "    <tr>\n",
       "      <th>25781</th>\n",
       "      <td>29580</td>\n",
       "      <td>74532</td>\n",
       "      <td>Suffolk</td>\n",
       "      <td>2020-04-01</td>\n",
       "      <td>Hear and I chatting about the latest news from...</td>\n",
       "      <td>2</td>\n",
       "      <td>118</td>\n",
       "    </tr>\n",
       "    <tr>\n",
       "      <th>9470</th>\n",
       "      <td>13269</td>\n",
       "      <td>58221</td>\n",
       "      <td>NaN</td>\n",
       "      <td>2020-03-20</td>\n",
       "      <td>Greater demand due to covid-19 causes shortfal...</td>\n",
       "      <td>1</td>\n",
       "      <td>142</td>\n",
       "    </tr>\n",
       "    <tr>\n",
       "      <th>37116</th>\n",
       "      <td>40915</td>\n",
       "      <td>85867</td>\n",
       "      <td>NaN</td>\n",
       "      <td>2020-04-10</td>\n",
       "      <td>Minion World I successfully stole a case of to...</td>\n",
       "      <td>1</td>\n",
       "      <td>74</td>\n",
       "    </tr>\n",
       "    <tr>\n",
       "      <th>10380</th>\n",
       "      <td>14179</td>\n",
       "      <td>59131</td>\n",
       "      <td>London</td>\n",
       "      <td>2020-03-20</td>\n",
       "      <td>Surely co-working space and office buildings m...</td>\n",
       "      <td>1</td>\n",
       "      <td>285</td>\n",
       "    </tr>\n",
       "    <tr>\n",
       "      <th>7404</th>\n",
       "      <td>11203</td>\n",
       "      <td>56155</td>\n",
       "      <td>NaN</td>\n",
       "      <td>2020-03-19</td>\n",
       "      <td>Just been to Aldi, food warehouse and even B&amp;a...</td>\n",
       "      <td>2</td>\n",
       "      <td>270</td>\n",
       "    </tr>\n",
       "  </tbody>\n",
       "</table>\n",
       "</div>"
      ],
      "text/plain": [
       "       UserName  ScreenName         Location    TweetAt  \\\n",
       "17492     21291       66243            TEXAS 2020-03-23   \n",
       "35575     39374       84326       Conroe, TX 2020-04-09   \n",
       "25115     28914       73866  Exeter, England 2020-03-30   \n",
       "30036     33835       78787  Galway, Ireland 2020-04-06   \n",
       "17664     21463       66415       Suva, Fiji 2020-03-23   \n",
       "25781     29580       74532          Suffolk 2020-04-01   \n",
       "9470      13269       58221              NaN 2020-03-20   \n",
       "37116     40915       85867              NaN 2020-04-10   \n",
       "10380     14179       59131           London 2020-03-20   \n",
       "7404      11203       56155              NaN 2020-03-19   \n",
       "\n",
       "                                           OriginalTweet  Sentiment  Length  \n",
       "17492  Where the fuck did they find these vacuous peo...          2     198  \n",
       "35575  10th Emergency Order of the COVID-19 outbreak ...          2     140  \n",
       "25115  Tonight I'm saying #ThankYou &amp; praying for...          1     218  \n",
       "30036  AgFunder: A quick look at the impact of Covid-...          1     137  \n",
       "17664  The Consumer Watchdog has seen an increase in ...          2     176  \n",
       "25781  Hear and I chatting about the latest news from...          2     118  \n",
       "9470   Greater demand due to covid-19 causes shortfal...          1     142  \n",
       "37116  Minion World I successfully stole a case of to...          1      74  \n",
       "10380  Surely co-working space and office buildings m...          1     285  \n",
       "7404   Just been to Aldi, food warehouse and even B&a...          2     270  "
      ]
     },
     "execution_count": 146,
     "metadata": {},
     "output_type": "execute_result"
    }
   ],
   "source": [
    "train_df.sample(10)"
   ]
  },
  {
   "cell_type": "code",
   "execution_count": 147,
   "id": "6f5834a4",
   "metadata": {},
   "outputs": [
    {
     "data": {
      "text/plain": [
       "array([0, 1, 2])"
      ]
     },
     "execution_count": 147,
     "metadata": {},
     "output_type": "execute_result"
    }
   ],
   "source": [
    "train_df[\"Sentiment\"].unique()"
   ]
  },
  {
   "cell_type": "code",
   "execution_count": 148,
   "id": "4eb7abc8",
   "metadata": {},
   "outputs": [
    {
     "data": {
      "text/plain": [
       "(41157, 41157, 3798, 3798)"
      ]
     },
     "execution_count": 148,
     "metadata": {},
     "output_type": "execute_result"
    }
   ],
   "source": [
    "# split the data into train and test set by picking only main columns\n",
    "X_train = train_df[\"OriginalTweet\"]\n",
    "y_train = train_df[\"Sentiment\"]\n",
    "\n",
    "X_test = test_df[\"OriginalTweet\"]\n",
    "y_test = test_df[\"Sentiment\"]\n",
    "\n",
    "# checking the sets...\n",
    "len(X_train),len(y_train),len(X_test),len(y_test)"
   ]
  },
  {
   "cell_type": "code",
   "execution_count": 149,
   "id": "39f79647",
   "metadata": {},
   "outputs": [],
   "source": [
    "# let's make a function that will evaluate our model performance....\n",
    "def calculate_results(y_true,y_pred):\n",
    "    \"\"\"\n",
    "    This function will evaluate our model performace by measuring certain metrics....\n",
    "    Accuracy : it tells us that how accurately our model predict the label\n",
    "    Precision : this is the ability of classifier not to label a negative label as positive.\n",
    "    Recall : this is the ability of classifier to find all positive labels.\n",
    "    Fscore : this is the average of preicision and recall.\n",
    "    \"\"\"\n",
    "    accuracy = accuracy_score(y_true,y_pred)\n",
    "    precision_score,recall_score,f_score,_ = precision_recall_fscore_support(y_true,y_pred,average=\"weighted\")\n",
    "    \n",
    "    results = {\n",
    "        \"Accuracy\" : accuracy ,\n",
    "        \"Precision\" : precision_score,\n",
    "        \"Recall\" : recall_score,\n",
    "        \"F_Score\" : f_score\n",
    "    }\n",
    "    return results"
   ]
  },
  {
   "cell_type": "code",
   "execution_count": 150,
   "id": "f34b7a78",
   "metadata": {},
   "outputs": [],
   "source": [
    "def clean(text):\n",
    "\n",
    "    #     remove urls\n",
    "    text = re.sub(r'http\\S+', \" \", text)\n",
    "\n",
    "    #     remove mentions\n",
    "    text = re.sub(r'@\\w+',' ',text)\n",
    "\n",
    "    #     remove hastags\n",
    "    text = re.sub(r'#\\w+', ' ', text)\n",
    "\n",
    "    #     remove digits\n",
    "    text = re.sub(r'\\d+', ' ', text)\n",
    "\n",
    "    #     remove html tags\n",
    "    text = re.sub('r<.*?>',' ', text)\n",
    "    \n",
    "    #     remove stop words \n",
    "    text = text.split()\n",
    "    text = \" \".join([word for word in text if not word in stop_word])\n",
    "    \n",
    "      \n",
    "    return text"
   ]
  },
  {
   "cell_type": "code",
   "execution_count": 151,
   "id": "61a17017",
   "metadata": {},
   "outputs": [],
   "source": [
    "# as our data is in text form so let's first clean it....\n",
    "# re.sub() --> return the sub-string with replace value\n",
    "\n",
    "def clean(text):\n",
    "    \n",
    "#     remove punctuation marks...\n",
    "    text = re.sub(r\"[^\\w\\s]\",\"\",text)\n",
    "    \n",
    "#     remove URL's\n",
    "    text = re.sub(r'http\\S+',\"\",text)\n",
    "    \n",
    "#     remove digits\n",
    "    text = re.sub(r'\\d+',\"\",text)\n",
    "    \n",
    "#     remove HTML tags\n",
    "    text = re.sub(r\"<[^>]*>\",\"\",text)\n",
    "    \n",
    "#     remove mentions\n",
    "    text = re.sub(r\"@\\w+\",\"\",text)\n",
    "    \n",
    "#     remove hash-tag only #\n",
    "    text = re.sub(r\"#\",\"\",text)\n",
    "    \n",
    "    return text"
   ]
  },
  {
   "cell_type": "code",
   "execution_count": 152,
   "id": "aa13f689",
   "metadata": {},
   "outputs": [
    {
     "data": {
      "text/plain": [
       "0                  MeNyrbie Phil_Gahan Chrisitv  and  and \n",
       "1        advice Talk to your neighbours family to excha...\n",
       "2        Coronavirus Australia Woolworths to give elder...\n",
       "3        My food stock is not the only one which is emp...\n",
       "4        Me ready to go at supermarket during the COVID...\n",
       "                               ...                        \n",
       "41152    Airline pilots offering to stock supermarket s...\n",
       "41153    Response to complaint not provided citing COVI...\n",
       "41154    You know itÂs getting tough when KameronWilds ...\n",
       "41155    Is it wrong that the smell of hand sanitizer i...\n",
       "41156    TartiiCat Well newused Rift S are going for  o...\n",
       "Name: OriginalTweet, Length: 41157, dtype: object"
      ]
     },
     "execution_count": 152,
     "metadata": {},
     "output_type": "execute_result"
    }
   ],
   "source": [
    "# let's apply it to the data....\n",
    "X_train = X_train.apply(lambda x : clean(x))\n",
    "X_test = X_test.apply(lambda x : clean(x))\n",
    "\n",
    "\n",
    "X_train"
   ]
  },
  {
   "cell_type": "markdown",
   "id": "483e601b",
   "metadata": {},
   "source": [
    "## Tokenization\n",
    "\n",
    "\n",
    "As we clean our text let's split the data and convert each split into integer through tokenization because our \n",
    "deep learning models works only with the numbers....\n"
   ]
  },
  {
   "cell_type": "code",
   "execution_count": 153,
   "id": "cae541b4",
   "metadata": {},
   "outputs": [
    {
     "data": {
      "text/plain": [
       "29.0"
      ]
     },
     "execution_count": 153,
     "metadata": {},
     "output_type": "execute_result"
    }
   ],
   "source": [
    "# find the average legth of sentence\n",
    "np.round(sum([len(i.split()) for i in X_train])/len(X_train))"
   ]
  },
  {
   "cell_type": "code",
   "execution_count": 154,
   "id": "8e737724",
   "metadata": {},
   "outputs": [
    {
     "data": {
      "text/plain": [
       "0"
      ]
     },
     "execution_count": 154,
     "metadata": {},
     "output_type": "execute_result"
    }
   ],
   "source": [
    "# find the shortest tweet\n",
    "np.min([len(i.split()) for i in X_train])"
   ]
  },
  {
   "cell_type": "code",
   "execution_count": 155,
   "id": "d2b5ef73",
   "metadata": {},
   "outputs": [
    {
     "data": {
      "text/plain": [
       "62"
      ]
     },
     "execution_count": 155,
     "metadata": {},
     "output_type": "execute_result"
    }
   ],
   "source": [
    "# longest tweet\n",
    "np.max([len(i.split()) for i in X_test])"
   ]
  },
  {
   "cell_type": "code",
   "execution_count": 156,
   "id": "f7052309",
   "metadata": {},
   "outputs": [],
   "source": [
    "# set the vocabulary and max length for each tweet\n",
    "max_vocab_len = 15000\n",
    "max_len = 35"
   ]
  },
  {
   "cell_type": "code",
   "execution_count": 157,
   "id": "ac4e4c26",
   "metadata": {},
   "outputs": [],
   "source": [
    "token = TextVectorization(max_tokens=max_vocab_len,\n",
    "                         output_sequence_length=max_len,\n",
    "                         output_mode=\"int\",\n",
    "                         standardize=\"lower_and_strip_punctuation\")"
   ]
  },
  {
   "cell_type": "code",
   "execution_count": 158,
   "id": "89d9600c",
   "metadata": {},
   "outputs": [
    {
     "name": "stderr",
     "output_type": "stream",
     "text": [
      "2022-09-14 21:49:39.596990: I tensorflow/core/grappler/optimizers/custom_graph_optimizer_registry.cc:113] Plugin optimizer for device_type GPU is enabled.\n"
     ]
    }
   ],
   "source": [
    "# let's adapt it to the text...\n",
    "token.adapt(X_train)"
   ]
  },
  {
   "cell_type": "code",
   "execution_count": 159,
   "id": "47f22301",
   "metadata": {},
   "outputs": [
    {
     "name": "stdout",
     "output_type": "stream",
     "text": [
      "Most common 5 words in the text : \n",
      "\n",
      "['', '[UNK]', 'the', 'to', 'and']\n",
      "\n",
      "Most least common 5 words in the text : \n",
      "\n",
      "['grams', 'gramnow', 'grades', 'grader', 'gra']\n"
     ]
    }
   ],
   "source": [
    "# get the text information....\n",
    "vocab = token.get_vocabulary()\n",
    "print(f\"Most common 5 words in the text : \\n\\n{vocab[:5]}\\n\")\n",
    "print(f\"Most least common 5 words in the text : \\n\\n{vocab[-5:]}\")"
   ]
  },
  {
   "cell_type": "code",
   "execution_count": 160,
   "id": "612726b2",
   "metadata": {},
   "outputs": [
    {
     "name": "stdout",
     "output_type": "stream",
     "text": [
      "Original Text : \n",
      "\n",
      "Oh no ConsumerSOS my grocery store I just went to the other day Garden Foods in Bolton is shut down  Employe tested positive with symptoms  coronavirus    This is going to be a problem soon when essential services start to get infected\n",
      "\n",
      "Tokize Version : \n",
      "\n",
      "[[ 1039    58     1    38    24    21    15    65   235     3     2   100\n",
      "    130  2587   813     8 12806    11   616   125     1   571   397    22\n",
      "    841     9    16    11    85     3    28     7   751   495    73]]\n"
     ]
    }
   ],
   "source": [
    "# let's take a sample from text and tokenize it...\n",
    "random_text = random.choice(X_train)\n",
    "\n",
    "print(f\"Original Text : \\n\\n{random_text}\")\n",
    "print(f\"\\nTokize Version : \\n\\n{token([random_text])}\")"
   ]
  },
  {
   "cell_type": "markdown",
   "id": "48ad937a",
   "metadata": {},
   "source": [
    "## Embeddings:\n",
    "\n",
    "As we've tokenized our data, let's embedd it which is the richer representation of the data."
   ]
  },
  {
   "cell_type": "code",
   "execution_count": 161,
   "id": "5d54dbd0",
   "metadata": {},
   "outputs": [],
   "source": [
    "embedd = Embedding(input_dim = max_vocab_len,\n",
    "                  output_dim = 128,\n",
    "                   input_length = max_len,\n",
    "                   embeddings_initializer='uniform',\n",
    "                  )"
   ]
  },
  {
   "cell_type": "code",
   "execution_count": 162,
   "id": "dd079db7",
   "metadata": {},
   "outputs": [
    {
     "name": "stdout",
     "output_type": "stream",
     "text": [
      "Original Text : \n",
      "\n",
      "seanhannity Cat milk shortage reported in Oklahoma Prices skyrocket amid COVID crisis Only available from private dairies \n",
      "\n",
      "Tokize Version : \n",
      "\n",
      "[[9092 2396  425  431 1199    8 4473   17 2258  157    5   94  104  253\n",
      "    31 1167    1    0    0    0    0    0    0    0    0    0    0    0\n",
      "     0    0    0    0    0    0    0]]\n",
      "\n",
      "Embedd Version : \n",
      "\n",
      "[[[-4.6541549e-02  2.4537694e-02 -5.8120489e-04 ... -4.4926204e-02\n",
      "    3.9018940e-02  3.0459497e-02]\n",
      "  [ 8.6570904e-04  2.9489469e-02 -1.1846531e-02 ... -6.4760335e-03\n",
      "    2.5729660e-02 -2.5050569e-02]\n",
      "  [ 2.2261772e-02 -4.6756744e-02  4.0552404e-02 ...  3.2536175e-02\n",
      "   -2.3011481e-02  3.9832246e-02]\n",
      "  ...\n",
      "  [-1.8820703e-02  3.2634128e-02  1.8494558e-02 ... -9.2375055e-03\n",
      "    7.6599605e-03 -7.7534467e-05]\n",
      "  [-1.8820703e-02  3.2634128e-02  1.8494558e-02 ... -9.2375055e-03\n",
      "    7.6599605e-03 -7.7534467e-05]\n",
      "  [-1.8820703e-02  3.2634128e-02  1.8494558e-02 ... -9.2375055e-03\n",
      "    7.6599605e-03 -7.7534467e-05]]]\n"
     ]
    }
   ],
   "source": [
    "# let's take a sample from text, tokenize and embedd it...\n",
    "random_text = random.choice(X_train)\n",
    "\n",
    "print(f\"Original Text : \\n\\n{random_text}\")\n",
    "print(f\"\\nTokize Version : \\n\\n{token([random_text])}\")\n",
    "print(f\"\\nEmbedd Version : \\n\\n{embedd(token([random_text]))}\")"
   ]
  },
  {
   "cell_type": "markdown",
   "id": "d00a28b1",
   "metadata": {},
   "source": [
    "## Model building\n",
    "\n",
    "    ~We'll build a series of model and pick the one that performs better.\n",
    "    ~Naive Model\n",
    "    ~Dense Model\n",
    "    ~LSTM Model\n",
    "    ~GRU Model\n",
    "    ~BiDirectional Model\n",
    "    ~Convolutional Model"
   ]
  },
  {
   "cell_type": "markdown",
   "id": "3118c815",
   "metadata": {},
   "source": [
    "## Naive Model"
   ]
  },
  {
   "cell_type": "code",
   "execution_count": 163,
   "id": "c0cb22c5",
   "metadata": {},
   "outputs": [
    {
     "data": {
      "text/html": [
       "<style>#sk-container-id-5 {color: black;background-color: white;}#sk-container-id-5 pre{padding: 0;}#sk-container-id-5 div.sk-toggleable {background-color: white;}#sk-container-id-5 label.sk-toggleable__label {cursor: pointer;display: block;width: 100%;margin-bottom: 0;padding: 0.3em;box-sizing: border-box;text-align: center;}#sk-container-id-5 label.sk-toggleable__label-arrow:before {content: \"▸\";float: left;margin-right: 0.25em;color: #696969;}#sk-container-id-5 label.sk-toggleable__label-arrow:hover:before {color: black;}#sk-container-id-5 div.sk-estimator:hover label.sk-toggleable__label-arrow:before {color: black;}#sk-container-id-5 div.sk-toggleable__content {max-height: 0;max-width: 0;overflow: hidden;text-align: left;background-color: #f0f8ff;}#sk-container-id-5 div.sk-toggleable__content pre {margin: 0.2em;color: black;border-radius: 0.25em;background-color: #f0f8ff;}#sk-container-id-5 input.sk-toggleable__control:checked~div.sk-toggleable__content {max-height: 200px;max-width: 100%;overflow: auto;}#sk-container-id-5 input.sk-toggleable__control:checked~label.sk-toggleable__label-arrow:before {content: \"▾\";}#sk-container-id-5 div.sk-estimator input.sk-toggleable__control:checked~label.sk-toggleable__label {background-color: #d4ebff;}#sk-container-id-5 div.sk-label input.sk-toggleable__control:checked~label.sk-toggleable__label {background-color: #d4ebff;}#sk-container-id-5 input.sk-hidden--visually {border: 0;clip: rect(1px 1px 1px 1px);clip: rect(1px, 1px, 1px, 1px);height: 1px;margin: -1px;overflow: hidden;padding: 0;position: absolute;width: 1px;}#sk-container-id-5 div.sk-estimator {font-family: monospace;background-color: #f0f8ff;border: 1px dotted black;border-radius: 0.25em;box-sizing: border-box;margin-bottom: 0.5em;}#sk-container-id-5 div.sk-estimator:hover {background-color: #d4ebff;}#sk-container-id-5 div.sk-parallel-item::after {content: \"\";width: 100%;border-bottom: 1px solid gray;flex-grow: 1;}#sk-container-id-5 div.sk-label:hover label.sk-toggleable__label {background-color: #d4ebff;}#sk-container-id-5 div.sk-serial::before {content: \"\";position: absolute;border-left: 1px solid gray;box-sizing: border-box;top: 0;bottom: 0;left: 50%;z-index: 0;}#sk-container-id-5 div.sk-serial {display: flex;flex-direction: column;align-items: center;background-color: white;padding-right: 0.2em;padding-left: 0.2em;position: relative;}#sk-container-id-5 div.sk-item {position: relative;z-index: 1;}#sk-container-id-5 div.sk-parallel {display: flex;align-items: stretch;justify-content: center;background-color: white;position: relative;}#sk-container-id-5 div.sk-item::before, #sk-container-id-5 div.sk-parallel-item::before {content: \"\";position: absolute;border-left: 1px solid gray;box-sizing: border-box;top: 0;bottom: 0;left: 50%;z-index: -1;}#sk-container-id-5 div.sk-parallel-item {display: flex;flex-direction: column;z-index: 1;position: relative;background-color: white;}#sk-container-id-5 div.sk-parallel-item:first-child::after {align-self: flex-end;width: 50%;}#sk-container-id-5 div.sk-parallel-item:last-child::after {align-self: flex-start;width: 50%;}#sk-container-id-5 div.sk-parallel-item:only-child::after {width: 0;}#sk-container-id-5 div.sk-dashed-wrapped {border: 1px dashed gray;margin: 0 0.4em 0.5em 0.4em;box-sizing: border-box;padding-bottom: 0.4em;background-color: white;}#sk-container-id-5 div.sk-label label {font-family: monospace;font-weight: bold;display: inline-block;line-height: 1.2em;}#sk-container-id-5 div.sk-label-container {text-align: center;}#sk-container-id-5 div.sk-container {/* jupyter's `normalize.less` sets `[hidden] { display: none; }` but bootstrap.min.css set `[hidden] { display: none !important; }` so we also need the `!important` here to be able to override the default hidden behavior on the sphinx rendered scikit-learn.org. See: https://github.com/scikit-learn/scikit-learn/issues/21755 */display: inline-block !important;position: relative;}#sk-container-id-5 div.sk-text-repr-fallback {display: none;}</style><div id=\"sk-container-id-5\" class=\"sk-top-container\"><div class=\"sk-text-repr-fallback\"><pre>Pipeline(steps=[(&#x27;Tfidf&#x27;, TfidfVectorizer()), (&#x27;NB&#x27;, MultinomialNB())])</pre><b>In a Jupyter environment, please rerun this cell to show the HTML representation or trust the notebook. <br />On GitHub, the HTML representation is unable to render, please try loading this page with nbviewer.org.</b></div><div class=\"sk-container\" hidden><div class=\"sk-item sk-dashed-wrapped\"><div class=\"sk-label-container\"><div class=\"sk-label sk-toggleable\"><input class=\"sk-toggleable__control sk-hidden--visually\" id=\"sk-estimator-id-13\" type=\"checkbox\" ><label for=\"sk-estimator-id-13\" class=\"sk-toggleable__label sk-toggleable__label-arrow\">Pipeline</label><div class=\"sk-toggleable__content\"><pre>Pipeline(steps=[(&#x27;Tfidf&#x27;, TfidfVectorizer()), (&#x27;NB&#x27;, MultinomialNB())])</pre></div></div></div><div class=\"sk-serial\"><div class=\"sk-item\"><div class=\"sk-estimator sk-toggleable\"><input class=\"sk-toggleable__control sk-hidden--visually\" id=\"sk-estimator-id-14\" type=\"checkbox\" ><label for=\"sk-estimator-id-14\" class=\"sk-toggleable__label sk-toggleable__label-arrow\">TfidfVectorizer</label><div class=\"sk-toggleable__content\"><pre>TfidfVectorizer()</pre></div></div></div><div class=\"sk-item\"><div class=\"sk-estimator sk-toggleable\"><input class=\"sk-toggleable__control sk-hidden--visually\" id=\"sk-estimator-id-15\" type=\"checkbox\" ><label for=\"sk-estimator-id-15\" class=\"sk-toggleable__label sk-toggleable__label-arrow\">MultinomialNB</label><div class=\"sk-toggleable__content\"><pre>MultinomialNB()</pre></div></div></div></div></div></div></div>"
      ],
      "text/plain": [
       "Pipeline(steps=[('Tfidf', TfidfVectorizer()), ('NB', MultinomialNB())])"
      ]
     },
     "execution_count": 163,
     "metadata": {},
     "output_type": "execute_result"
    }
   ],
   "source": [
    "# let's build the naive model\n",
    "clf = Pipeline([\n",
    "    (\"Tfidf\",TfidfVectorizer()),\n",
    "    (\"NB\",MultinomialNB())\n",
    "])\n",
    "\n",
    "clf.fit(X_train,y_train)"
   ]
  },
  {
   "cell_type": "code",
   "execution_count": 164,
   "id": "61254aa5",
   "metadata": {},
   "outputs": [
    {
     "data": {
      "text/plain": [
       "array([2, 1, 1, 2, 2])"
      ]
     },
     "execution_count": 164,
     "metadata": {},
     "output_type": "execute_result"
    }
   ],
   "source": [
    "# model prediction....\n",
    "model_0_pred = clf.predict(X_test)\n",
    "model_0_pred[:5]"
   ]
  },
  {
   "cell_type": "code",
   "execution_count": 165,
   "id": "d574e76a",
   "metadata": {},
   "outputs": [
    {
     "data": {
      "text/plain": [
       "{'Accuracy': 0.6253291205897841,\n",
       " 'Precision': 0.6663493750431053,\n",
       " 'Recall': 0.6253291205897841,\n",
       " 'F_Score': 0.5695089252633851}"
      ]
     },
     "execution_count": 165,
     "metadata": {},
     "output_type": "execute_result"
    }
   ],
   "source": [
    "# calculate model results....\n",
    "model_0_results = calculate_results(y_test,model_0_pred)\n",
    "model_0_results"
   ]
  },
  {
   "cell_type": "code",
   "execution_count": 166,
   "id": "6bf3235b",
   "metadata": {},
   "outputs": [
    {
     "data": {
      "text/plain": [
       "41157"
      ]
     },
     "execution_count": 166,
     "metadata": {},
     "output_type": "execute_result"
    }
   ],
   "source": [
    "X_train.shape[0]"
   ]
  },
  {
   "cell_type": "markdown",
   "id": "1856fce7",
   "metadata": {},
   "source": [
    "## Model 1 : Dense Model"
   ]
  },
  {
   "cell_type": "code",
   "execution_count": 168,
   "id": "2a2e7168",
   "metadata": {},
   "outputs": [],
   "source": [
    "# previously we build scikit-learn naive model, let's build our first deep learning model...\n",
    "\n",
    "# define the input layer.....\n",
    "inputs = layers.Input(shape=(1,),dtype=\"string\")\n",
    "# pass the input layer to tokenization....\n",
    "x = token(inputs)\n",
    "# pass the token into embedd layer.....\n",
    "x = embedd(x)\n",
    "\n",
    "# hidden layer.....\n",
    "x = layers.Dense(64,activation=\"relu\")(x)\n",
    "# adding the 2nd layers....\n",
    "x = layers.Dense(32,activation=\"relu\")(x)\n",
    "# adding the output layer....\n",
    "# adding the globalaverage layer...\n",
    "x = layers.GlobalAveragePooling1D()(x)\n",
    "output = layers.Dense(3,activation=\"softmax\")(x)\n",
    "\n",
    "# model building....\n",
    "model_1 = tensorflow.keras.Model(inputs,output,name=\"Dense_Model\")\n",
    "\n",
    "# compiling the model...\n",
    "model_1.compile(loss=\"categorical_crossentropy\",\n",
    "               optimizer=\"rmsprop\",\n",
    "               metrics=[\"accuracy\"])\n",
    "\n"
   ]
  },
  {
   "cell_type": "code",
   "execution_count": 170,
   "id": "dc703252",
   "metadata": {},
   "outputs": [
    {
     "name": "stdout",
     "output_type": "stream",
     "text": [
      "Model: \"Dense_Model\"\n",
      "_________________________________________________________________\n",
      " Layer (type)                Output Shape              Param #   \n",
      "=================================================================\n",
      " input_12 (InputLayer)       [(None, 1)]               0         \n",
      "                                                                 \n",
      " text_vectorization_3 (TextV  (None, 35)               0         \n",
      " ectorization)                                                   \n",
      "                                                                 \n",
      " embedding_3 (Embedding)     (None, 35, 128)           1920000   \n",
      "                                                                 \n",
      " dense_30 (Dense)            (None, 35, 64)            8256      \n",
      "                                                                 \n",
      " dense_31 (Dense)            (None, 35, 32)            2080      \n",
      "                                                                 \n",
      " global_average_pooling1d_6   (None, 32)               0         \n",
      " (GlobalAveragePooling1D)                                        \n",
      "                                                                 \n",
      " dense_32 (Dense)            (None, 3)                 99        \n",
      "                                                                 \n",
      "=================================================================\n",
      "Total params: 1,930,435\n",
      "Trainable params: 1,930,435\n",
      "Non-trainable params: 0\n",
      "_________________________________________________________________\n"
     ]
    }
   ],
   "source": [
    "# checking the model summary\n",
    "model_1.summary()"
   ]
  },
  {
   "cell_type": "code",
   "execution_count": 172,
   "id": "b00e414f",
   "metadata": {},
   "outputs": [
    {
     "data": {
      "text/plain": [
       "(41157,)"
      ]
     },
     "execution_count": 172,
     "metadata": {},
     "output_type": "execute_result"
    }
   ],
   "source": [
    "X_train.shape"
   ]
  },
  {
   "cell_type": "code",
   "execution_count": 173,
   "id": "b6557af7",
   "metadata": {},
   "outputs": [],
   "source": [
    "y_train = to_categorical(y_train, 3)\n",
    "y_test = to_categorical(y_test, 3)"
   ]
  },
  {
   "cell_type": "code",
   "execution_count": 175,
   "id": "2082dcd6",
   "metadata": {},
   "outputs": [
    {
     "name": "stdout",
     "output_type": "stream",
     "text": [
      "Epoch 1/50\n",
      "1287/1287 [==============================] - 22s 17ms/step - loss: 0.5261 - accuracy: 0.8207 - val_loss: 0.6147 - val_accuracy: 0.7778\n",
      "Epoch 2/50\n",
      "1287/1287 [==============================] - 23s 18ms/step - loss: 0.4816 - accuracy: 0.8409 - val_loss: 0.6045 - val_accuracy: 0.7896\n",
      "Epoch 3/50\n",
      "1287/1287 [==============================] - 22s 17ms/step - loss: 0.4577 - accuracy: 0.8505 - val_loss: 0.6130 - val_accuracy: 0.7880\n",
      "Epoch 4/50\n",
      "1287/1287 [==============================] - 22s 17ms/step - loss: 0.4424 - accuracy: 0.8558 - val_loss: 0.6249 - val_accuracy: 0.7783\n",
      "Epoch 5/50\n",
      "1287/1287 [==============================] - 22s 17ms/step - loss: 0.4292 - accuracy: 0.8615 - val_loss: 0.6266 - val_accuracy: 0.7746\n",
      "Epoch 6/50\n",
      "1287/1287 [==============================] - 22s 17ms/step - loss: 0.4183 - accuracy: 0.8655 - val_loss: 0.6193 - val_accuracy: 0.7862\n",
      "Epoch 7/50\n",
      "1287/1287 [==============================] - 22s 17ms/step - loss: 0.4096 - accuracy: 0.8689 - val_loss: 0.6338 - val_accuracy: 0.7809\n",
      "Epoch 8/50\n",
      "1287/1287 [==============================] - 22s 17ms/step - loss: 0.4007 - accuracy: 0.8731 - val_loss: 0.6267 - val_accuracy: 0.7786\n",
      "Epoch 9/50\n",
      "1287/1287 [==============================] - 23s 18ms/step - loss: 0.3929 - accuracy: 0.8754 - val_loss: 0.6369 - val_accuracy: 0.7791\n",
      "Epoch 10/50\n",
      "1287/1287 [==============================] - 23s 18ms/step - loss: 0.3871 - accuracy: 0.8782 - val_loss: 0.6440 - val_accuracy: 0.7738\n",
      "Epoch 11/50\n",
      "1287/1287 [==============================] - 22s 17ms/step - loss: 0.3816 - accuracy: 0.8796 - val_loss: 0.6768 - val_accuracy: 0.7691\n",
      "Epoch 12/50\n",
      "1287/1287 [==============================] - 22s 17ms/step - loss: 0.3775 - accuracy: 0.8816 - val_loss: 0.6595 - val_accuracy: 0.7725\n",
      "Epoch 13/50\n",
      "1287/1287 [==============================] - 23s 18ms/step - loss: 0.3732 - accuracy: 0.8814 - val_loss: 0.6591 - val_accuracy: 0.7749\n",
      "Epoch 14/50\n",
      "1287/1287 [==============================] - 23s 18ms/step - loss: 0.3705 - accuracy: 0.8826 - val_loss: 0.6629 - val_accuracy: 0.7696\n",
      "Epoch 15/50\n",
      "1287/1287 [==============================] - 23s 18ms/step - loss: 0.3666 - accuracy: 0.8856 - val_loss: 0.6800 - val_accuracy: 0.7628\n",
      "Epoch 16/50\n",
      "1287/1287 [==============================] - 23s 18ms/step - loss: 0.3640 - accuracy: 0.8851 - val_loss: 0.6853 - val_accuracy: 0.7612\n",
      "Epoch 17/50\n",
      "1287/1287 [==============================] - 22s 17ms/step - loss: 0.3618 - accuracy: 0.8865 - val_loss: 0.6739 - val_accuracy: 0.7725\n",
      "Epoch 18/50\n",
      "1287/1287 [==============================] - 23s 18ms/step - loss: 0.3583 - accuracy: 0.8876 - val_loss: 0.6768 - val_accuracy: 0.7667\n",
      "Epoch 19/50\n",
      "1287/1287 [==============================] - 23s 18ms/step - loss: 0.3578 - accuracy: 0.8882 - val_loss: 0.6590 - val_accuracy: 0.7720\n",
      "Epoch 20/50\n",
      "1287/1287 [==============================] - 22s 17ms/step - loss: 0.3555 - accuracy: 0.8880 - val_loss: 0.6530 - val_accuracy: 0.7699\n",
      "Epoch 21/50\n",
      "1287/1287 [==============================] - 22s 17ms/step - loss: 0.3537 - accuracy: 0.8890 - val_loss: 0.6714 - val_accuracy: 0.7722\n",
      "Epoch 22/50\n",
      "1287/1287 [==============================] - 22s 17ms/step - loss: 0.3514 - accuracy: 0.8899 - val_loss: 0.7093 - val_accuracy: 0.7667\n",
      "Epoch 23/50\n",
      "1287/1287 [==============================] - 22s 17ms/step - loss: 0.3504 - accuracy: 0.8917 - val_loss: 0.6815 - val_accuracy: 0.7749\n",
      "Epoch 24/50\n",
      "1287/1287 [==============================] - 22s 17ms/step - loss: 0.3483 - accuracy: 0.8912 - val_loss: 0.6857 - val_accuracy: 0.7633\n",
      "Epoch 25/50\n",
      "1287/1287 [==============================] - 22s 17ms/step - loss: 0.3493 - accuracy: 0.8915 - val_loss: 0.6843 - val_accuracy: 0.7686\n",
      "Epoch 26/50\n",
      "1287/1287 [==============================] - 21s 17ms/step - loss: 0.3471 - accuracy: 0.8919 - val_loss: 0.7064 - val_accuracy: 0.7638\n",
      "Epoch 27/50\n",
      "1287/1287 [==============================] - 20s 16ms/step - loss: 0.3464 - accuracy: 0.8928 - val_loss: 0.6817 - val_accuracy: 0.7657\n",
      "Epoch 28/50\n",
      "1287/1287 [==============================] - 20s 16ms/step - loss: 0.3458 - accuracy: 0.8919 - val_loss: 0.7193 - val_accuracy: 0.7530\n",
      "Epoch 29/50\n",
      "1287/1287 [==============================] - 20s 16ms/step - loss: 0.3445 - accuracy: 0.8937 - val_loss: 0.7111 - val_accuracy: 0.7609\n",
      "Epoch 30/50\n",
      "1287/1287 [==============================] - 20s 16ms/step - loss: 0.3453 - accuracy: 0.8924 - val_loss: 0.7335 - val_accuracy: 0.7525\n",
      "Epoch 31/50\n",
      "1287/1287 [==============================] - 22s 17ms/step - loss: 0.3440 - accuracy: 0.8923 - val_loss: 0.7260 - val_accuracy: 0.7609\n",
      "Epoch 32/50\n",
      "1287/1287 [==============================] - 21s 16ms/step - loss: 0.3431 - accuracy: 0.8931 - val_loss: 0.7158 - val_accuracy: 0.7499\n",
      "Epoch 33/50\n",
      "1287/1287 [==============================] - 21s 16ms/step - loss: 0.3423 - accuracy: 0.8931 - val_loss: 0.7431 - val_accuracy: 0.7596\n",
      "Epoch 34/50\n",
      "1287/1287 [==============================] - 21s 16ms/step - loss: 0.3426 - accuracy: 0.8933 - val_loss: 0.7304 - val_accuracy: 0.7549\n",
      "Epoch 35/50\n",
      "1287/1287 [==============================] - 21s 16ms/step - loss: 0.3417 - accuracy: 0.8934 - val_loss: 0.6919 - val_accuracy: 0.7699\n",
      "Epoch 36/50\n",
      "1287/1287 [==============================] - 22s 17ms/step - loss: 0.3406 - accuracy: 0.8947 - val_loss: 0.7033 - val_accuracy: 0.7641\n",
      "Epoch 37/50\n",
      "1287/1287 [==============================] - 22s 17ms/step - loss: 0.3398 - accuracy: 0.8933 - val_loss: 0.7215 - val_accuracy: 0.7562\n",
      "Epoch 38/50\n",
      "1287/1287 [==============================] - 21s 16ms/step - loss: 0.3394 - accuracy: 0.8941 - val_loss: 0.7293 - val_accuracy: 0.7630\n",
      "Epoch 39/50\n",
      "1287/1287 [==============================] - 21s 16ms/step - loss: 0.3385 - accuracy: 0.8944 - val_loss: 0.7313 - val_accuracy: 0.7504\n",
      "Epoch 40/50\n",
      "1287/1287 [==============================] - 21s 16ms/step - loss: 0.3381 - accuracy: 0.8943 - val_loss: 0.7060 - val_accuracy: 0.7586\n",
      "Epoch 41/50\n",
      "1287/1287 [==============================] - 21s 17ms/step - loss: 0.3375 - accuracy: 0.8938 - val_loss: 0.7636 - val_accuracy: 0.7457\n",
      "Epoch 42/50\n",
      "1287/1287 [==============================] - 21s 17ms/step - loss: 0.3370 - accuracy: 0.8943 - val_loss: 0.7136 - val_accuracy: 0.7496\n",
      "Epoch 43/50\n",
      "1287/1287 [==============================] - 21s 16ms/step - loss: 0.3373 - accuracy: 0.8947 - val_loss: 0.7039 - val_accuracy: 0.7591\n",
      "Epoch 44/50\n",
      "1287/1287 [==============================] - 164s 127ms/step - loss: 0.3374 - accuracy: 0.8948 - val_loss: 0.7414 - val_accuracy: 0.7301\n",
      "Epoch 45/50\n",
      "1287/1287 [==============================] - 21s 16ms/step - loss: 0.3371 - accuracy: 0.8944 - val_loss: 0.7186 - val_accuracy: 0.7638\n",
      "Epoch 46/50\n",
      "1287/1287 [==============================] - 22s 17ms/step - loss: 0.3373 - accuracy: 0.8942 - val_loss: 0.7107 - val_accuracy: 0.7596\n",
      "Epoch 47/50\n",
      "1287/1287 [==============================] - 22s 17ms/step - loss: 0.3360 - accuracy: 0.8952 - val_loss: 0.7029 - val_accuracy: 0.7572\n",
      "Epoch 48/50\n",
      "1287/1287 [==============================] - 21s 16ms/step - loss: 0.3359 - accuracy: 0.8951 - val_loss: 0.6998 - val_accuracy: 0.7654\n",
      "Epoch 49/50\n",
      "1287/1287 [==============================] - 21s 16ms/step - loss: 0.3350 - accuracy: 0.8957 - val_loss: 0.7178 - val_accuracy: 0.7670\n",
      "Epoch 50/50\n",
      "1287/1287 [==============================] - 21s 16ms/step - loss: 0.3351 - accuracy: 0.8953 - val_loss: 0.7027 - val_accuracy: 0.7591\n"
     ]
    }
   ],
   "source": [
    "# fitting the model to data....\n",
    "history_1 = model_1.fit(X_train,y_train,\n",
    "                       epochs=50,\n",
    "                       validation_data=(X_test,y_test),\n",
    "                        validation_split = int(len(X_test) * 0.25),)\n",
    "#                         callbacks = [tensorflow.keras.callbacks.ModelCheckpoint(\"Dense_1.keras\",\n",
    "#                                                                                save_best_only=True)])"
   ]
  },
  {
   "cell_type": "code",
   "execution_count": 178,
   "id": "9436734e",
   "metadata": {
    "scrolled": true
   },
   "outputs": [
    {
     "name": "stdout",
     "output_type": "stream",
     "text": [
      "119/119 [==============================] - 1s 4ms/step\n"
     ]
    },
    {
     "data": {
      "text/plain": [
       "array([[8.8064998e-02, 1.6351417e-01, 7.4842083e-01],\n",
       "       [2.7824037e-03, 9.9657840e-01, 6.3916040e-04],\n",
       "       [5.1152841e-03, 9.9396235e-01, 9.2231046e-04],\n",
       "       ...,\n",
       "       [8.6142796e-01, 1.0287981e-01, 3.5692230e-02],\n",
       "       [6.9139749e-03, 1.7603252e-04, 9.9291003e-01],\n",
       "       [1.9374766e-05, 9.9997544e-01, 5.1278694e-06]], dtype=float32)"
      ]
     },
     "execution_count": 178,
     "metadata": {},
     "output_type": "execute_result"
    }
   ],
   "source": [
    "# evaluate model performance....\n",
    "model_1_pred = model_1.predict(X_test)\n",
    "model_1_pred"
   ]
  },
  {
   "cell_type": "code",
   "execution_count": 199,
   "id": "7bfd8fab",
   "metadata": {},
   "outputs": [
    {
     "data": {
      "text/plain": [
       "<tf.Tensor: shape=(3798, 3), dtype=float32, numpy=\n",
       "array([[0., 0., 1.],\n",
       "       [0., 1., 0.],\n",
       "       [0., 1., 0.],\n",
       "       ...,\n",
       "       [1., 0., 0.],\n",
       "       [0., 0., 1.],\n",
       "       [0., 1., 0.]], dtype=float32)>"
      ]
     },
     "execution_count": 199,
     "metadata": {},
     "output_type": "execute_result"
    }
   ],
   "source": [
    "model_1_pred = tf.squeeze(tf.round(model_1_pred))\n",
    "model_1_pred"
   ]
  },
  {
   "cell_type": "code",
   "execution_count": 181,
   "id": "1218ad9b",
   "metadata": {},
   "outputs": [
    {
     "data": {
      "text/plain": [
       "{'Accuracy': 0.7356503422854134,\n",
       " 'Precision': 0.7743058498323547,\n",
       " 'Recall': 0.7356503422854134,\n",
       " 'F_Score': 0.7543508714979568}"
      ]
     },
     "execution_count": 181,
     "metadata": {},
     "output_type": "execute_result"
    }
   ],
   "source": [
    "# calculate_results\n",
    "model_1_results = calculate_results(y_test,model_1_pred)\n",
    "model_1_results"
   ]
  },
  {
   "cell_type": "code",
   "execution_count": 185,
   "id": "01f53290",
   "metadata": {},
   "outputs": [
    {
     "data": {
      "text/plain": [
       "dict_keys(['loss', 'accuracy', 'val_loss', 'val_accuracy'])"
      ]
     },
     "execution_count": 185,
     "metadata": {},
     "output_type": "execute_result"
    }
   ],
   "source": [
    "# getting the history keys....\n",
    "history_1.history.keys()"
   ]
  },
  {
   "cell_type": "code",
   "execution_count": 191,
   "id": "2ddb903d",
   "metadata": {},
   "outputs": [],
   "source": [
    "# let's make a funciton that will plot the model performance....\n",
    "def plot_model(history):\n",
    "    \n",
    "    loss = history.history[\"loss\"]\n",
    "    val_loss = history.history[\"val_loss\"]\n",
    "    \n",
    "    acc = history.history[\"accuracy\"]\n",
    "    val_acc = history.history[\"val_accuracy\"]\n",
    "    \n",
    "    epochs = range(len(loss))\n",
    "    \n",
    "#     plottint the model accuracy vs validation accuracy\n",
    "    plt.plot(epochs,acc,label=\"Training Accuracy\")\n",
    "    plt.plot(epochs,val_acc,label=\"Validation Accuracy\")\n",
    "    plt.title(\"Training vs Validation Accuracy\")\n",
    "    plt.xlabel(\"Epochs\")\n",
    "    plt.legend()\n",
    "    \n",
    "#     plotting the training vs validation loss\n",
    "    plt.figure()\n",
    "    plt.plot(epochs,loss,label=\"Training Loss\")\n",
    "    plt.plot(epochs,val_loss,label=\"Validation Loss\")\n",
    "    plt.title(\"Training vs Validation Loss\")\n",
    "    plt.xlabel(\"Epochs\")\n",
    "    plt.legend()\n",
    "    plt.show()"
   ]
  },
  {
   "cell_type": "code",
   "execution_count": 192,
   "id": "e2fdcd72",
   "metadata": {},
   "outputs": [
    {
     "data": {
      "image/png": "[encoded data removed]",
      "text/plain": [
       "<Figure size 432x288 with 1 Axes>"
      ]
     },
     "metadata": {
      "needs_background": "light"
     },
     "output_type": "display_data"
    },
    {
     "data": {
      "image/png": "[encoded data removed]",
      "text/plain": [
       "<Figure size 432x288 with 1 Axes>"
      ]
     },
     "metadata": {
      "needs_background": "light"
     },
     "output_type": "display_data"
    }
   ],
   "source": [
    "# plot the model performance....\n",
    "plot_model(history_1)"
   ]
  },
  {
   "cell_type": "markdown",
   "id": "55a031b3",
   "metadata": {},
   "source": [
    "Above plots clearly shows that our model overfits the data, so let's try some few models."
   ]
  },
  {
   "cell_type": "markdown",
   "id": "80f7c6ec",
   "metadata": {},
   "source": [
    "## Model 2 : LSTM"
   ]
  },
  {
   "cell_type": "code",
   "execution_count": 193,
   "id": "32ad725c",
   "metadata": {},
   "outputs": [],
   "source": [
    "# previously we build scikit-learn naive model, let's build our first deep learning model...\n",
    "\n",
    "# define the input layer.....\n",
    "inputs = layers.Input(shape=(1,),dtype=\"string\")\n",
    "# pass the input layer to tokenization....\n",
    "x = token(inputs)\n",
    "# pass the token into embedd layer.....\n",
    "x = embedd(x)\n",
    "\n",
    "# hidden layer.....\n",
    "x = layers.Dense(64,activation=\"relu\")(x)\n",
    "# adding the 2nd layers....\n",
    "x = layers.Dense(32,activation=\"relu\")(x)\n",
    "# adding the output layer....\n",
    "# adding the globalaverage layer...\n",
    "x = layers.LSTM(64,return_sequences=True)(x)\n",
    "x = layers.LSTM(32,)(x)\n",
    "output = layers.Dense(3,activation=\"softmax\")(x)\n",
    "\n",
    "# model building....\n",
    "model_2 = tensorflow.keras.Model(inputs,output,name=\"Dense_Model\")\n",
    "\n",
    "# compiling the model...\n",
    "model_2.compile(loss=\"categorical_crossentropy\",\n",
    "               optimizer=\"rmsprop\",\n",
    "               metrics=[\"accuracy\"])"
   ]
  },
  {
   "cell_type": "code",
   "execution_count": 194,
   "id": "747a014c",
   "metadata": {},
   "outputs": [
    {
     "name": "stdout",
     "output_type": "stream",
     "text": [
      "Model: \"Dense_Model\"\n",
      "_________________________________________________________________\n",
      " Layer (type)                Output Shape              Param #   \n",
      "=================================================================\n",
      " input_13 (InputLayer)       [(None, 1)]               0         \n",
      "                                                                 \n",
      " text_vectorization_3 (TextV  (None, 35)               0         \n",
      " ectorization)                                                   \n",
      "                                                                 \n",
      " embedding_3 (Embedding)     (None, 35, 128)           1920000   \n",
      "                                                                 \n",
      " dense_33 (Dense)            (None, 35, 64)            8256      \n",
      "                                                                 \n",
      " dense_34 (Dense)            (None, 35, 32)            2080      \n",
      "                                                                 \n",
      " lstm (LSTM)                 (None, 35, 64)            24832     \n",
      "                                                                 \n",
      " lstm_1 (LSTM)               (None, 32)                12416     \n",
      "                                                                 \n",
      " dense_35 (Dense)            (None, 3)                 99        \n",
      "                                                                 \n",
      "=================================================================\n",
      "Total params: 1,967,683\n",
      "Trainable params: 1,967,683\n",
      "Non-trainable params: 0\n",
      "_________________________________________________________________\n"
     ]
    }
   ],
   "source": [
    "# checkout the model 2 summary\n",
    "model_2.summary()"
   ]
  },
  {
   "cell_type": "code",
   "execution_count": 198,
   "id": "82f9a254",
   "metadata": {},
   "outputs": [
    {
     "name": "stdout",
     "output_type": "stream",
     "text": [
      "Epoch 1/15\n"
     ]
    },
    {
     "name": "stderr",
     "output_type": "stream",
     "text": [
      "2022-09-14 23:08:17.202157: I tensorflow/core/grappler/optimizers/custom_graph_optimizer_registry.cc:113] Plugin optimizer for device_type GPU is enabled.\n",
      "2022-09-14 23:08:17.472352: I tensorflow/core/grappler/optimizers/custom_graph_optimizer_registry.cc:113] Plugin optimizer for device_type GPU is enabled.\n",
      "2022-09-14 23:08:18.400740: I tensorflow/core/grappler/optimizers/custom_graph_optimizer_registry.cc:113] Plugin optimizer for device_type GPU is enabled.\n",
      "2022-09-14 23:08:18.535337: I tensorflow/core/grappler/optimizers/custom_graph_optimizer_registry.cc:113] Plugin optimizer for device_type GPU is enabled.\n",
      "2022-09-14 23:08:19.112688: I tensorflow/core/grappler/optimizers/custom_graph_optimizer_registry.cc:113] Plugin optimizer for device_type GPU is enabled.\n"
     ]
    },
    {
     "name": "stdout",
     "output_type": "stream",
     "text": [
      "1287/1287 [==============================] - ETA: 0s - loss: 0.4009 - accuracy: 0.8602"
     ]
    },
    {
     "name": "stderr",
     "output_type": "stream",
     "text": [
      "2022-09-14 23:09:03.369912: I tensorflow/core/grappler/optimizers/custom_graph_optimizer_registry.cc:113] Plugin optimizer for device_type GPU is enabled.\n",
      "2022-09-14 23:09:03.477869: I tensorflow/core/grappler/optimizers/custom_graph_optimizer_registry.cc:113] Plugin optimizer for device_type GPU is enabled.\n",
      "2022-09-14 23:09:03.552231: I tensorflow/core/grappler/optimizers/custom_graph_optimizer_registry.cc:113] Plugin optimizer for device_type GPU is enabled.\n"
     ]
    },
    {
     "name": "stdout",
     "output_type": "stream",
     "text": [
      "1287/1287 [==============================] - 50s 36ms/step - loss: 0.4009 - accuracy: 0.8602 - val_loss: 0.6160 - val_accuracy: 0.7562\n",
      "Epoch 2/15\n",
      "1287/1287 [==============================] - 48s 37ms/step - loss: 0.3322 - accuracy: 0.8874 - val_loss: 0.6203 - val_accuracy: 0.7886\n",
      "Epoch 3/15\n",
      "1287/1287 [==============================] - 48s 37ms/step - loss: 0.3090 - accuracy: 0.8948 - val_loss: 0.6412 - val_accuracy: 0.7883\n",
      "Epoch 4/15\n",
      "1287/1287 [==============================] - 48s 37ms/step - loss: 0.2949 - accuracy: 0.9006 - val_loss: 0.5824 - val_accuracy: 0.7975\n",
      "Epoch 5/15\n",
      "1287/1287 [==============================] - 47s 37ms/step - loss: 0.2799 - accuracy: 0.9053 - val_loss: 0.5947 - val_accuracy: 0.7862\n",
      "Epoch 6/15\n",
      "1287/1287 [==============================] - 46s 36ms/step - loss: 0.2674 - accuracy: 0.9112 - val_loss: 0.5431 - val_accuracy: 0.8044\n",
      "Epoch 7/15\n",
      "1287/1287 [==============================] - 45s 35ms/step - loss: 0.2547 - accuracy: 0.9149 - val_loss: 0.5785 - val_accuracy: 0.8041\n",
      "Epoch 8/15\n",
      "1287/1287 [==============================] - 45s 35ms/step - loss: 0.2437 - accuracy: 0.9190 - val_loss: 0.5589 - val_accuracy: 0.8073\n",
      "Epoch 9/15\n",
      "1287/1287 [==============================] - 45s 35ms/step - loss: 0.2330 - accuracy: 0.9222 - val_loss: 0.5880 - val_accuracy: 0.8073\n"
     ]
    }
   ],
   "source": [
    "# fitting the model to data....\n",
    "history_2 = model_2.fit(X_train,y_train,\n",
    "                       epochs=15,\n",
    "                       validation_data=(X_test,y_test),\n",
    "                        validation_split = int(len(X_test) * 0.25),\n",
    "                        callbacks = [tf.keras.callbacks.EarlyStopping(patience=3)])"
   ]
  },
  {
   "cell_type": "code",
   "execution_count": 200,
   "id": "81e45510",
   "metadata": {},
   "outputs": [
    {
     "name": "stderr",
     "output_type": "stream",
     "text": [
      "2022-09-14 23:20:10.439930: I tensorflow/core/grappler/optimizers/custom_graph_optimizer_registry.cc:113] Plugin optimizer for device_type GPU is enabled.\n",
      "2022-09-14 23:20:10.566527: I tensorflow/core/grappler/optimizers/custom_graph_optimizer_registry.cc:113] Plugin optimizer for device_type GPU is enabled.\n"
     ]
    },
    {
     "name": "stdout",
     "output_type": "stream",
     "text": [
      "  7/119 [>.............................] - ETA: 2s"
     ]
    },
    {
     "name": "stderr",
     "output_type": "stream",
     "text": [
      "2022-09-14 23:20:10.655081: I tensorflow/core/grappler/optimizers/custom_graph_optimizer_registry.cc:113] Plugin optimizer for device_type GPU is enabled.\n"
     ]
    },
    {
     "name": "stdout",
     "output_type": "stream",
     "text": [
      "119/119 [==============================] - 2s 13ms/step\n"
     ]
    },
    {
     "data": {
      "text/plain": [
       "{'Accuracy': 0.7948920484465508,\n",
       " 'Precision': 0.8197647374268482,\n",
       " 'Recall': 0.7948920484465508,\n",
       " 'F_Score': 0.8062460198220557}"
      ]
     },
     "execution_count": 200,
     "metadata": {},
     "output_type": "execute_result"
    }
   ],
   "source": [
    "# make prediction and calculate results....\n",
    "model_2_results = calculate_results(y_test,tf.squeeze(tf.round(model_2.predict(X_test))))\n",
    "model_2_results"
   ]
  },
  {
   "cell_type": "code",
   "execution_count": 201,
   "id": "7a71a99c",
   "metadata": {},
   "outputs": [
    {
     "data": {
      "image/png": "[encoded data removed]",
      "text/plain": [
       "<Figure size 432x288 with 1 Axes>"
      ]
     },
     "metadata": {
      "needs_background": "light"
     },
     "output_type": "display_data"
    },
    {
     "data": {
      "image/png": "[encoded data removed]",
      "text/plain": [
       "<Figure size 432x288 with 1 Axes>"
      ]
     },
     "metadata": {
      "needs_background": "light"
     },
     "output_type": "display_data"
    }
   ],
   "source": [
    "# plot the model performance....\n",
    "plot_model(history_2)"
   ]
  },
  {
   "cell_type": "markdown",
   "id": "c7ed279d",
   "metadata": {},
   "source": [
    "## Model 3 : GRU"
   ]
  },
  {
   "cell_type": "code",
   "execution_count": 202,
   "id": "f7071135",
   "metadata": {},
   "outputs": [],
   "source": [
    "# previously we build scikit-learn naive model, let's build our first deep learning model...\n",
    "\n",
    "# define the input layer.....\n",
    "inputs = layers.Input(shape=(1,),dtype=\"string\")\n",
    "# pass the input layer to tokenization....\n",
    "x = token(inputs)\n",
    "# pass the token into embedd layer.....\n",
    "x = embedd(x)\n",
    "\n",
    "# hidden layer.....\n",
    "x = layers.Dense(128,activation=\"relu\")(x)\n",
    "# adding the 2nd layers....\n",
    "x = layers.Dense(64,activation=\"relu\")(x)\n",
    "# adding the output layer....\n",
    "# adding the globalaverage layer...\n",
    "x = layers.GRU(64,return_sequences=True)(x)\n",
    "x = layers.GRU(32,)(x)\n",
    "output = layers.Dense(3,activation=\"softmax\")(x)\n",
    "\n",
    "# model building....\n",
    "model_3 = tensorflow.keras.Model(inputs,output,name=\"Dense_Model\")\n",
    "\n",
    "# compiling the model...\n",
    "model_3.compile(loss=\"categorical_crossentropy\",\n",
    "               optimizer=\"rmsprop\",\n",
    "               metrics=[\"accuracy\"])"
   ]
  },
  {
   "cell_type": "code",
   "execution_count": 203,
   "id": "8b82d633",
   "metadata": {},
   "outputs": [
    {
     "name": "stdout",
     "output_type": "stream",
     "text": [
      "Model: \"Dense_Model\"\n",
      "_________________________________________________________________\n",
      " Layer (type)                Output Shape              Param #   \n",
      "=================================================================\n",
      " input_14 (InputLayer)       [(None, 1)]               0         \n",
      "                                                                 \n",
      " text_vectorization_3 (TextV  (None, 35)               0         \n",
      " ectorization)                                                   \n",
      "                                                                 \n",
      " embedding_3 (Embedding)     (None, 35, 128)           1920000   \n",
      "                                                                 \n",
      " dense_36 (Dense)            (None, 35, 128)           16512     \n",
      "                                                                 \n",
      " dense_37 (Dense)            (None, 35, 64)            8256      \n",
      "                                                                 \n",
      " gru (GRU)                   (None, 35, 64)            24960     \n",
      "                                                                 \n",
      " gru_1 (GRU)                 (None, 32)                9408      \n",
      "                                                                 \n",
      " dense_38 (Dense)            (None, 3)                 99        \n",
      "                                                                 \n",
      "=================================================================\n",
      "Total params: 1,979,235\n",
      "Trainable params: 1,979,235\n",
      "Non-trainable params: 0\n",
      "_________________________________________________________________\n"
     ]
    }
   ],
   "source": [
    "# summary of the model...\n",
    "model_3.summary()"
   ]
  },
  {
   "cell_type": "code",
   "execution_count": 204,
   "id": "6017f327",
   "metadata": {},
   "outputs": [
    {
     "name": "stdout",
     "output_type": "stream",
     "text": [
      "Epoch 1/10\n"
     ]
    },
    {
     "name": "stderr",
     "output_type": "stream",
     "text": [
      "2022-09-14 23:28:11.528326: I tensorflow/core/grappler/optimizers/custom_graph_optimizer_registry.cc:113] Plugin optimizer for device_type GPU is enabled.\n",
      "2022-09-14 23:28:11.925264: I tensorflow/core/grappler/optimizers/custom_graph_optimizer_registry.cc:113] Plugin optimizer for device_type GPU is enabled.\n",
      "2022-09-14 23:28:12.240486: I tensorflow/core/grappler/optimizers/custom_graph_optimizer_registry.cc:113] Plugin optimizer for device_type GPU is enabled.\n",
      "2022-09-14 23:28:12.472171: I tensorflow/core/grappler/optimizers/custom_graph_optimizer_registry.cc:113] Plugin optimizer for device_type GPU is enabled.\n",
      "2022-09-14 23:28:13.513159: I tensorflow/core/grappler/optimizers/custom_graph_optimizer_registry.cc:113] Plugin optimizer for device_type GPU is enabled.\n"
     ]
    },
    {
     "name": "stdout",
     "output_type": "stream",
     "text": [
      "1287/1287 [==============================] - ETA: 0s - loss: 0.4941 - accuracy: 0.8144"
     ]
    },
    {
     "name": "stderr",
     "output_type": "stream",
     "text": [
      "2022-09-14 23:29:04.298912: I tensorflow/core/grappler/optimizers/custom_graph_optimizer_registry.cc:113] Plugin optimizer for device_type GPU is enabled.\n",
      "2022-09-14 23:29:04.406637: I tensorflow/core/grappler/optimizers/custom_graph_optimizer_registry.cc:113] Plugin optimizer for device_type GPU is enabled.\n",
      "2022-09-14 23:29:04.481773: I tensorflow/core/grappler/optimizers/custom_graph_optimizer_registry.cc:113] Plugin optimizer for device_type GPU is enabled.\n"
     ]
    },
    {
     "name": "stdout",
     "output_type": "stream",
     "text": [
      "1287/1287 [==============================] - 56s 41ms/step - loss: 0.4941 - accuracy: 0.8144 - val_loss: 1.7911 - val_accuracy: 0.4716\n",
      "Epoch 2/10\n",
      "1287/1287 [==============================] - 47s 36ms/step - loss: 0.6434 - accuracy: 0.7296 - val_loss: 0.9108 - val_accuracy: 0.6061\n",
      "Epoch 3/10\n",
      "1287/1287 [==============================] - 46s 36ms/step - loss: 0.6680 - accuracy: 0.7184 - val_loss: 1.2151 - val_accuracy: 0.5492\n",
      "Epoch 4/10\n",
      "1287/1287 [==============================] - 47s 37ms/step - loss: 0.6999 - accuracy: 0.7025 - val_loss: 0.8840 - val_accuracy: 0.5964\n",
      "Epoch 5/10\n",
      "1287/1287 [==============================] - 48s 37ms/step - loss: 0.7217 - accuracy: 0.6922 - val_loss: 0.8633 - val_accuracy: 0.6240\n",
      "Epoch 6/10\n",
      "1287/1287 [==============================] - 48s 37ms/step - loss: 0.7167 - accuracy: 0.6953 - val_loss: 0.9316 - val_accuracy: 0.5882\n",
      "Epoch 7/10\n",
      "1287/1287 [==============================] - 47s 37ms/step - loss: 0.7108 - accuracy: 0.6966 - val_loss: 0.8611 - val_accuracy: 0.6182\n",
      "Epoch 8/10\n",
      "1287/1287 [==============================] - 49s 38ms/step - loss: 0.7072 - accuracy: 0.7009 - val_loss: 0.8782 - val_accuracy: 0.6172\n",
      "Epoch 9/10\n",
      "1287/1287 [==============================] - 48s 37ms/step - loss: 0.7032 - accuracy: 0.7016 - val_loss: 0.9765 - val_accuracy: 0.5814\n",
      "Epoch 10/10\n",
      "1287/1287 [==============================] - 47s 36ms/step - loss: 0.7054 - accuracy: 0.6988 - val_loss: 0.8751 - val_accuracy: 0.6132\n"
     ]
    }
   ],
   "source": [
    "# fitting the model to data....\n",
    "history_3 = model_3.fit(X_train,y_train,\n",
    "                       epochs=10,\n",
    "                       validation_data=(X_test,y_test),\n",
    "                        validation_split = int(len(X_test) * 0.25),\n",
    "                        callbacks = [tf.keras.callbacks.EarlyStopping(patience=3)])"
   ]
  },
  {
   "cell_type": "code",
   "execution_count": 205,
   "id": "e242156f",
   "metadata": {},
   "outputs": [
    {
     "name": "stderr",
     "output_type": "stream",
     "text": [
      "2022-09-14 23:38:55.531207: I tensorflow/core/grappler/optimizers/custom_graph_optimizer_registry.cc:113] Plugin optimizer for device_type GPU is enabled.\n",
      "2022-09-14 23:38:55.635723: I tensorflow/core/grappler/optimizers/custom_graph_optimizer_registry.cc:113] Plugin optimizer for device_type GPU is enabled.\n",
      "2022-09-14 23:38:55.711842: I tensorflow/core/grappler/optimizers/custom_graph_optimizer_registry.cc:113] Plugin optimizer for device_type GPU is enabled.\n"
     ]
    },
    {
     "name": "stdout",
     "output_type": "stream",
     "text": [
      "119/119 [==============================] - 2s 13ms/step\n"
     ]
    },
    {
     "data": {
      "text/plain": [
       "{'Accuracy': 0.5452869931542917,\n",
       " 'Precision': 0.6417480610722164,\n",
       " 'Recall': 0.5452869931542917,\n",
       " 'F_Score': 0.5829200529110122}"
      ]
     },
     "execution_count": 205,
     "metadata": {},
     "output_type": "execute_result"
    }
   ],
   "source": [
    "# make prediction and calculate results....\n",
    "model_3_results = calculate_results(y_test,tf.squeeze(tf.round(model_3.predict(X_test))))\n",
    "model_3_results"
   ]
  },
  {
   "cell_type": "code",
   "execution_count": 206,
   "id": "5dbeddb8",
   "metadata": {},
   "outputs": [
    {
     "data": {
      "image/png": "[encoded data removed]",
      "text/plain": [
       "<Figure size 432x288 with 1 Axes>"
      ]
     },
     "metadata": {
      "needs_background": "light"
     },
     "output_type": "display_data"
    },
    {
     "data": {
      "image/png": "[encoded data removed]",
      "text/plain": [
       "<Figure size 432x288 with 1 Axes>"
      ]
     },
     "metadata": {
      "needs_background": "light"
     },
     "output_type": "display_data"
    }
   ],
   "source": [
    "# plot the model performance....\n",
    "plot_model(history_3)"
   ]
  },
  {
   "cell_type": "code",
   "execution_count": null,
   "id": "8388faca",
   "metadata": {},
   "outputs": [],
   "source": []
  }
 ],
 "metadata": {
  "kernelspec": {
   "display_name": "Python 3 (ipykernel)",
   "language": "python",
   "name": "python3"
  },
  "language_info": {
   "codemirror_mode": {
    "name": "ipython",
    "version": 3
   },
   "file_extension": ".py",
   "mimetype": "text/x-python",
   "name": "python",
   "nbconvert_exporter": "python",
   "pygments_lexer": "ipython3",
   "version": "3.8.13"
  }
 },
 "nbformat": 4,
 "nbformat_minor": 5
}
