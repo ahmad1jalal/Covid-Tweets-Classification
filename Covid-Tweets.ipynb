{
 "cells": [
  {
   "cell_type": "markdown",
   "id": "20b6d06a",
   "metadata": {},
   "source": [
    "## importing libraries..."
   ]
  },
  {
   "cell_type": "code",
   "execution_count": 1,
   "id": "d399814f",
   "metadata": {},
   "outputs": [],
   "source": [
    "import numpy as np\n",
    "import pandas as pd\n",
    "import matplotlib.pyplot as plt\n",
    "import tensorflow as tf\n",
    "from tensorflow.keras import layers\n",
    "import seaborn as sns\n",
    "import warnings\n",
    "from sklearn.naive_bayes import MultinomialNB\n",
    "from sklearn.feature_extraction.text import TfidfVectorizer\n",
    "from sklearn.metrics import accuracy_score,precision_recall_fscore_support\n",
    "from sklearn.pipeline import Pipeline\n",
    "from tensorflow.keras.layers import Embedding,TextVectorization\n",
    "import re\n",
    "import random\n",
    "import tensorflow as tf\n",
    "import tensorflow\n",
    "from keras.utils import to_categorical"
   ]
  },
  {
   "cell_type": "code",
   "execution_count": 2,
   "id": "b1e68394",
   "metadata": {},
   "outputs": [],
   "source": [
    "# ignore warnings....\n",
    "warnings.filterwarnings(\"ignore\")"
   ]
  },
  {
   "cell_type": "markdown",
   "id": "c28951b8",
   "metadata": {},
   "source": [
    "## Manipulate Data..."
   ]
  },
  {
   "cell_type": "code",
   "execution_count": 3,
   "id": "506ecaf9",
   "metadata": {},
   "outputs": [
    {
     "data": {
      "text/html": [
       "<div>\n",
       "<style scoped>\n",
       "    .dataframe tbody tr th:only-of-type {\n",
       "        vertical-align: middle;\n",
       "    }\n",
       "\n",
       "    .dataframe tbody tr th {\n",
       "        vertical-align: top;\n",
       "    }\n",
       "\n",
       "    .dataframe thead th {\n",
       "        text-align: right;\n",
       "    }\n",
       "</style>\n",
       "<table border=\"1\" class=\"dataframe\">\n",
       "  <thead>\n",
       "    <tr style=\"text-align: right;\">\n",
       "      <th></th>\n",
       "      <th>UserName</th>\n",
       "      <th>ScreenName</th>\n",
       "      <th>Location</th>\n",
       "      <th>TweetAt</th>\n",
       "      <th>OriginalTweet</th>\n",
       "      <th>Sentiment</th>\n",
       "    </tr>\n",
       "  </thead>\n",
       "  <tbody>\n",
       "    <tr>\n",
       "      <th>11180</th>\n",
       "      <td>14979</td>\n",
       "      <td>59931</td>\n",
       "      <td>Forest Hill, England</td>\n",
       "      <td>20-03-2020</td>\n",
       "      <td>Is the govt preparing for rationing? Supermark...</td>\n",
       "      <td>Positive</td>\n",
       "    </tr>\n",
       "    <tr>\n",
       "      <th>13111</th>\n",
       "      <td>16910</td>\n",
       "      <td>61862</td>\n",
       "      <td>Ontario, Canada</td>\n",
       "      <td>21-03-2020</td>\n",
       "      <td>Today feels like Loco Blanco! ?Tequila barrel ...</td>\n",
       "      <td>Positive</td>\n",
       "    </tr>\n",
       "    <tr>\n",
       "      <th>34028</th>\n",
       "      <td>37827</td>\n",
       "      <td>82779</td>\n",
       "      <td>South End, Concord</td>\n",
       "      <td>08-04-2020</td>\n",
       "      <td>It is critical we start preparing now for what...</td>\n",
       "      <td>Extremely Positive</td>\n",
       "    </tr>\n",
       "    <tr>\n",
       "      <th>8619</th>\n",
       "      <td>12418</td>\n",
       "      <td>57370</td>\n",
       "      <td>United Kingdom</td>\n",
       "      <td>20-03-2020</td>\n",
       "      <td>This is not fair This nurse is faced with empt...</td>\n",
       "      <td>Positive</td>\n",
       "    </tr>\n",
       "    <tr>\n",
       "      <th>37351</th>\n",
       "      <td>41150</td>\n",
       "      <td>86102</td>\n",
       "      <td>NaN</td>\n",
       "      <td>10-04-2020</td>\n",
       "      <td>DS Smith, the best #paperrecycling and #packag...</td>\n",
       "      <td>Neutral</td>\n",
       "    </tr>\n",
       "    <tr>\n",
       "      <th>3778</th>\n",
       "      <td>7577</td>\n",
       "      <td>52529</td>\n",
       "      <td>WOKEminster Abbey ?</td>\n",
       "      <td>18-03-2020</td>\n",
       "      <td>#BringBackBritishBrains ??\\r\\r\\n\\r\\r\\nOur nati...</td>\n",
       "      <td>Positive</td>\n",
       "    </tr>\n",
       "    <tr>\n",
       "      <th>23457</th>\n",
       "      <td>27256</td>\n",
       "      <td>72208</td>\n",
       "      <td>Gombe</td>\n",
       "      <td>26-03-2020</td>\n",
       "      <td>In times of crisis like 19 pandemic people hoa...</td>\n",
       "      <td>Positive</td>\n",
       "    </tr>\n",
       "    <tr>\n",
       "      <th>25142</th>\n",
       "      <td>28941</td>\n",
       "      <td>73893</td>\n",
       "      <td>Around the world ?</td>\n",
       "      <td>30-03-2020</td>\n",
       "      <td>Not all the businesses struggle during a crisi...</td>\n",
       "      <td>Extremely Negative</td>\n",
       "    </tr>\n",
       "    <tr>\n",
       "      <th>17622</th>\n",
       "      <td>21421</td>\n",
       "      <td>66373</td>\n",
       "      <td>NaN</td>\n",
       "      <td>23-03-2020</td>\n",
       "      <td>The great toilet tissue scare tees for sale | ...</td>\n",
       "      <td>Positive</td>\n",
       "    </tr>\n",
       "    <tr>\n",
       "      <th>14640</th>\n",
       "      <td>18439</td>\n",
       "      <td>63391</td>\n",
       "      <td>NaN</td>\n",
       "      <td>21-03-2020</td>\n",
       "      <td>Just left a grocery store. Who knew it only to...</td>\n",
       "      <td>Extremely Positive</td>\n",
       "    </tr>\n",
       "  </tbody>\n",
       "</table>\n",
       "</div>"
      ],
      "text/plain": [
       "       UserName  ScreenName              Location     TweetAt  \\\n",
       "11180     14979       59931  Forest Hill, England  20-03-2020   \n",
       "13111     16910       61862       Ontario, Canada  21-03-2020   \n",
       "34028     37827       82779    South End, Concord  08-04-2020   \n",
       "8619      12418       57370        United Kingdom  20-03-2020   \n",
       "37351     41150       86102                   NaN  10-04-2020   \n",
       "3778       7577       52529   WOKEminster Abbey ?  18-03-2020   \n",
       "23457     27256       72208                 Gombe  26-03-2020   \n",
       "25142     28941       73893    Around the world ?  30-03-2020   \n",
       "17622     21421       66373                   NaN  23-03-2020   \n",
       "14640     18439       63391                   NaN  21-03-2020   \n",
       "\n",
       "                                           OriginalTweet           Sentiment  \n",
       "11180  Is the govt preparing for rationing? Supermark...            Positive  \n",
       "13111  Today feels like Loco Blanco! ?Tequila barrel ...            Positive  \n",
       "34028  It is critical we start preparing now for what...  Extremely Positive  \n",
       "8619   This is not fair This nurse is faced with empt...            Positive  \n",
       "37351  DS Smith, the best #paperrecycling and #packag...             Neutral  \n",
       "3778   #BringBackBritishBrains ??\\r\\r\\n\\r\\r\\nOur nati...            Positive  \n",
       "23457  In times of crisis like 19 pandemic people hoa...            Positive  \n",
       "25142  Not all the businesses struggle during a crisi...  Extremely Negative  \n",
       "17622  The great toilet tissue scare tees for sale | ...            Positive  \n",
       "14640  Just left a grocery store. Who knew it only to...  Extremely Positive  "
      ]
     },
     "execution_count": 3,
     "metadata": {},
     "output_type": "execute_result"
    }
   ],
   "source": [
    "train_df = pd.read_csv(\"Corona_NLP_train.csv\",encoding='latin1')\n",
    "test_df = pd.read_csv(\"Corona_NLP_test.csv\",encoding='latin1')\n",
    "\n",
    "train_df.sample(10)"
   ]
  },
  {
   "cell_type": "code",
   "execution_count": 4,
   "id": "8c5de9ed",
   "metadata": {},
   "outputs": [
    {
     "name": "stdout",
     "output_type": "stream",
     "text": [
      "Train data-set has 41157 rows and 6 columns \n",
      "\n",
      "Test data-set has 3798 rows and 6 columns\n"
     ]
    }
   ],
   "source": [
    "# cheking the shape of data....\n",
    "print(f\"Train data-set has {train_df.shape[0]} rows and {train_df.shape[1]} columns \\n\")\n",
    "print(f\"Test data-set has {test_df.shape[0]} rows and {test_df.shape[1]} columns\")"
   ]
  },
  {
   "cell_type": "code",
   "execution_count": 5,
   "id": "6b3b8c62",
   "metadata": {},
   "outputs": [
    {
     "name": "stdout",
     "output_type": "stream",
     "text": [
      "<class 'pandas.core.frame.DataFrame'>\n",
      "RangeIndex: 41157 entries, 0 to 41156\n",
      "Data columns (total 6 columns):\n",
      " #   Column         Non-Null Count  Dtype \n",
      "---  ------         --------------  ----- \n",
      " 0   UserName       41157 non-null  int64 \n",
      " 1   ScreenName     41157 non-null  int64 \n",
      " 2   Location       32567 non-null  object\n",
      " 3   TweetAt        41157 non-null  object\n",
      " 4   OriginalTweet  41157 non-null  object\n",
      " 5   Sentiment      41157 non-null  object\n",
      "dtypes: int64(2), object(4)\n",
      "memory usage: 1.9+ MB\n"
     ]
    }
   ],
   "source": [
    "# checking the dtypes\n",
    "train_df.info()"
   ]
  },
  {
   "cell_type": "code",
   "execution_count": 6,
   "id": "447537c1",
   "metadata": {},
   "outputs": [
    {
     "name": "stdout",
     "output_type": "stream",
     "text": [
      "<class 'pandas.core.frame.DataFrame'>\n",
      "RangeIndex: 3798 entries, 0 to 3797\n",
      "Data columns (total 6 columns):\n",
      " #   Column         Non-Null Count  Dtype \n",
      "---  ------         --------------  ----- \n",
      " 0   UserName       3798 non-null   int64 \n",
      " 1   ScreenName     3798 non-null   int64 \n",
      " 2   Location       2964 non-null   object\n",
      " 3   TweetAt        3798 non-null   object\n",
      " 4   OriginalTweet  3798 non-null   object\n",
      " 5   Sentiment      3798 non-null   object\n",
      "dtypes: int64(2), object(4)\n",
      "memory usage: 178.2+ KB\n"
     ]
    }
   ],
   "source": [
    "test_df.info()"
   ]
  },
  {
   "cell_type": "code",
   "execution_count": 7,
   "id": "021b8f62",
   "metadata": {},
   "outputs": [
    {
     "data": {
      "text/plain": [
       "UserName            0\n",
       "ScreenName          0\n",
       "Location         8590\n",
       "TweetAt             0\n",
       "OriginalTweet       0\n",
       "Sentiment           0\n",
       "dtype: int64"
      ]
     },
     "execution_count": 7,
     "metadata": {},
     "output_type": "execute_result"
    }
   ],
   "source": [
    "# checking null values...\n",
    "train_df.isnull().sum()"
   ]
  },
  {
   "cell_type": "code",
   "execution_count": 8,
   "id": "f0c60a2b",
   "metadata": {},
   "outputs": [
    {
     "data": {
      "text/plain": [
       "Positive              11422\n",
       "Negative               9917\n",
       "Neutral                7713\n",
       "Extremely Positive     6624\n",
       "Extremely Negative     5481\n",
       "Name: Sentiment, dtype: int64"
      ]
     },
     "execution_count": 8,
     "metadata": {},
     "output_type": "execute_result"
    }
   ],
   "source": [
    "# checking the label proportion around the data...\n",
    "labels_prop = train_df[\"Sentiment\"].value_counts()\n",
    "labels_prop"
   ]
  },
  {
   "cell_type": "code",
   "execution_count": 9,
   "id": "119659e4",
   "metadata": {},
   "outputs": [
    {
     "data": {
      "image/png": "[encoded data removed]",
      "text/plain": [
       "<Figure size 720x576 with 1 Axes>"
      ]
     },
     "metadata": {},
     "output_type": "display_data"
    }
   ],
   "source": [
    "# let's visualize it...\n",
    "labels = labels_prop.index\n",
    "colors = sns.color_palette('pastel') # pastel colors\n",
    "plt.figure(figsize=(10,8))\n",
    "plt.pie(labels_prop,labels=labels,colors=colors,explode=[0.1,0.1,0.1,0.3,0.25],startangle=65,autopct=\"%0.2f%%\");"
   ]
  },
  {
   "cell_type": "code",
   "execution_count": 10,
   "id": "e27aa115",
   "metadata": {},
   "outputs": [
    {
     "data": {
      "text/plain": [
       "London                          540\n",
       "United States                   528\n",
       "London, England                 520\n",
       "New York, NY                    395\n",
       "Washington, DC                  373\n",
       "                               ... \n",
       "Staffordshire Moorlands           1\n",
       "Kithchener ON                     1\n",
       "Tulsa, Ok                         1\n",
       "Watford, South Oxhey, Bushey      1\n",
       "i love you so much || he/him      1\n",
       "Name: Location, Length: 12220, dtype: int64"
      ]
     },
     "execution_count": 10,
     "metadata": {},
     "output_type": "execute_result"
    }
   ],
   "source": [
    "# let's visualize the location....\n",
    "location_prop = train_df[\"Location\"].value_counts()\n",
    "location_prop"
   ]
  },
  {
   "cell_type": "code",
   "execution_count": 11,
   "id": "dc5868ef",
   "metadata": {},
   "outputs": [
    {
     "data": {
      "image/png": "[encoded data removed]",
      "text/plain": [
       "<Figure size 720x576 with 1 Axes>"
      ]
     },
     "metadata": {},
     "output_type": "display_data"
    }
   ],
   "source": [
    "#  just visualize the top 10 location of the data....\n",
    "labels = location_prop.index[:10]\n",
    "colors = sns.color_palette(\"husl\")\n",
    "plt.figure(figsize=(10,8))\n",
    "plt.pie(location_prop[:10],labels=labels,colors=colors,autopct=\"%.2f%%\",);"
   ]
  },
  {
   "cell_type": "code",
   "execution_count": 12,
   "id": "864878f7",
   "metadata": {},
   "outputs": [
    {
     "data": {
      "text/html": [
       "<div>\n",
       "<style scoped>\n",
       "    .dataframe tbody tr th:only-of-type {\n",
       "        vertical-align: middle;\n",
       "    }\n",
       "\n",
       "    .dataframe tbody tr th {\n",
       "        vertical-align: top;\n",
       "    }\n",
       "\n",
       "    .dataframe thead th {\n",
       "        text-align: right;\n",
       "    }\n",
       "</style>\n",
       "<table border=\"1\" class=\"dataframe\">\n",
       "  <thead>\n",
       "    <tr style=\"text-align: right;\">\n",
       "      <th></th>\n",
       "      <th>UserName</th>\n",
       "      <th>ScreenName</th>\n",
       "      <th>Location</th>\n",
       "      <th>TweetAt</th>\n",
       "      <th>OriginalTweet</th>\n",
       "      <th>Sentiment</th>\n",
       "      <th>Length</th>\n",
       "    </tr>\n",
       "  </thead>\n",
       "  <tbody>\n",
       "    <tr>\n",
       "      <th>506</th>\n",
       "      <td>4305</td>\n",
       "      <td>49257</td>\n",
       "      <td>Washington, DC</td>\n",
       "      <td>16-03-2020</td>\n",
       "      <td>NEW: Coronavirus package hits roadblocks amid ...</td>\n",
       "      <td>Neutral</td>\n",
       "      <td>108</td>\n",
       "    </tr>\n",
       "    <tr>\n",
       "      <th>35116</th>\n",
       "      <td>38915</td>\n",
       "      <td>83867</td>\n",
       "      <td>United States</td>\n",
       "      <td>08-04-2020</td>\n",
       "      <td>Comix Hand Sanitizer Gel 16 Fl Oz /480ml Alcoh...</td>\n",
       "      <td>Extremely Positive</td>\n",
       "      <td>274</td>\n",
       "    </tr>\n",
       "    <tr>\n",
       "      <th>14743</th>\n",
       "      <td>18542</td>\n",
       "      <td>63494</td>\n",
       "      <td>NaN</td>\n",
       "      <td>22-03-2020</td>\n",
       "      <td>Come with us Danny we have</td>\n",
       "      <td>Neutral</td>\n",
       "      <td>26</td>\n",
       "    </tr>\n",
       "    <tr>\n",
       "      <th>15555</th>\n",
       "      <td>19354</td>\n",
       "      <td>64306</td>\n",
       "      <td>NaN</td>\n",
       "      <td>22-03-2020</td>\n",
       "      <td>This isnÂt hard. Any big company that needs s...</td>\n",
       "      <td>Positive</td>\n",
       "      <td>260</td>\n",
       "    </tr>\n",
       "    <tr>\n",
       "      <th>12780</th>\n",
       "      <td>16579</td>\n",
       "      <td>61531</td>\n",
       "      <td>Ipswich, England</td>\n",
       "      <td>21-03-2020</td>\n",
       "      <td>@CashApp I work in a supermarket and IÂm run ...</td>\n",
       "      <td>Neutral</td>\n",
       "      <td>247</td>\n",
       "    </tr>\n",
       "    <tr>\n",
       "      <th>30026</th>\n",
       "      <td>33825</td>\n",
       "      <td>78777</td>\n",
       "      <td>New York, NY</td>\n",
       "      <td>06-04-2020</td>\n",
       "      <td>It's not just the bread baking. Here are 5 con...</td>\n",
       "      <td>Neutral</td>\n",
       "      <td>149</td>\n",
       "    </tr>\n",
       "    <tr>\n",
       "      <th>12793</th>\n",
       "      <td>16592</td>\n",
       "      <td>61544</td>\n",
       "      <td>Miami, Florida</td>\n",
       "      <td>21-03-2020</td>\n",
       "      <td>Just left the supermarket It was such a gut wr...</td>\n",
       "      <td>Extremely Negative</td>\n",
       "      <td>251</td>\n",
       "    </tr>\n",
       "    <tr>\n",
       "      <th>17532</th>\n",
       "      <td>21331</td>\n",
       "      <td>66283</td>\n",
       "      <td>Asheville, NC</td>\n",
       "      <td>23-03-2020</td>\n",
       "      <td>Seriously We need a thousand times over to pay...</td>\n",
       "      <td>Negative</td>\n",
       "      <td>230</td>\n",
       "    </tr>\n",
       "    <tr>\n",
       "      <th>28140</th>\n",
       "      <td>31939</td>\n",
       "      <td>76891</td>\n",
       "      <td>Pretoria, South Africa</td>\n",
       "      <td>04-04-2020</td>\n",
       "      <td>Plesse take care of poor hawkers daily wagers ...</td>\n",
       "      <td>Extremely Positive</td>\n",
       "      <td>201</td>\n",
       "    </tr>\n",
       "    <tr>\n",
       "      <th>14858</th>\n",
       "      <td>18657</td>\n",
       "      <td>63609</td>\n",
       "      <td>NaN</td>\n",
       "      <td>22-03-2020</td>\n",
       "      <td>So very day I go to the supermarket is the sam...</td>\n",
       "      <td>Extremely Negative</td>\n",
       "      <td>213</td>\n",
       "    </tr>\n",
       "  </tbody>\n",
       "</table>\n",
       "</div>"
      ],
      "text/plain": [
       "       UserName  ScreenName                Location     TweetAt  \\\n",
       "506        4305       49257          Washington, DC  16-03-2020   \n",
       "35116     38915       83867           United States  08-04-2020   \n",
       "14743     18542       63494                     NaN  22-03-2020   \n",
       "15555     19354       64306                     NaN  22-03-2020   \n",
       "12780     16579       61531        Ipswich, England  21-03-2020   \n",
       "30026     33825       78777            New York, NY  06-04-2020   \n",
       "12793     16592       61544          Miami, Florida  21-03-2020   \n",
       "17532     21331       66283           Asheville, NC  23-03-2020   \n",
       "28140     31939       76891  Pretoria, South Africa  04-04-2020   \n",
       "14858     18657       63609                     NaN  22-03-2020   \n",
       "\n",
       "                                           OriginalTweet           Sentiment  \\\n",
       "506    NEW: Coronavirus package hits roadblocks amid ...             Neutral   \n",
       "35116  Comix Hand Sanitizer Gel 16 Fl Oz /480ml Alcoh...  Extremely Positive   \n",
       "14743                         Come with us Danny we have             Neutral   \n",
       "15555  This isnÂt hard. Any big company that needs s...            Positive   \n",
       "12780  @CashApp I work in a supermarket and IÂm run ...             Neutral   \n",
       "30026  It's not just the bread baking. Here are 5 con...             Neutral   \n",
       "12793  Just left the supermarket It was such a gut wr...  Extremely Negative   \n",
       "17532  Seriously We need a thousand times over to pay...            Negative   \n",
       "28140  Plesse take care of poor hawkers daily wagers ...  Extremely Positive   \n",
       "14858  So very day I go to the supermarket is the sam...  Extremely Negative   \n",
       "\n",
       "       Length  \n",
       "506       108  \n",
       "35116     274  \n",
       "14743      26  \n",
       "15555     260  \n",
       "12780     247  \n",
       "30026     149  \n",
       "12793     251  \n",
       "17532     230  \n",
       "28140     201  \n",
       "14858     213  "
      ]
     },
     "execution_count": 12,
     "metadata": {},
     "output_type": "execute_result"
    }
   ],
   "source": [
    "# calculate the tweet length\n",
    "train_df[\"Length\"] = train_df[\"OriginalTweet\"].apply(len)\n",
    "train_df.sample(10)"
   ]
  },
  {
   "cell_type": "code",
   "execution_count": 13,
   "id": "2e842bc4",
   "metadata": {},
   "outputs": [
    {
     "data": {
      "text/plain": [
       "<Figure size 720x720 with 0 Axes>"
      ]
     },
     "metadata": {},
     "output_type": "display_data"
    },
    {
     "data": {
      "image/png": "[encoded data removed]",
      "text/plain": [
       "<Figure size 1574.5x360 with 1 Axes>"
      ]
     },
     "metadata": {
      "needs_background": "light"
     },
     "output_type": "display_data"
    }
   ],
   "source": [
    "# visualize the tweet length accross the data-set...\n",
    "plt.figure(figsize=(10,10))\n",
    "sns.displot(data=train_df,x=\"Length\",hue=\"Sentiment\",\n",
    "                 kind = 'kde', fill = True,  aspect =4 , palette = \"viridis\");\n"
   ]
  },
  {
   "cell_type": "code",
   "execution_count": 14,
   "id": "09bb1bec",
   "metadata": {},
   "outputs": [],
   "source": [
    "# changing the tweet text dtype\n",
    "train_df[\"OriginalTweet\"] = train_df[\"OriginalTweet\"].astype(\"string\")"
   ]
  },
  {
   "cell_type": "code",
   "execution_count": 15,
   "id": "d337e5c6",
   "metadata": {},
   "outputs": [
    {
     "data": {
      "text/plain": [
       "UserName          int64\n",
       "ScreenName        int64\n",
       "Location         object\n",
       "TweetAt          object\n",
       "OriginalTweet    string\n",
       "Sentiment        object\n",
       "Length            int64\n",
       "dtype: object"
      ]
     },
     "execution_count": 15,
     "metadata": {},
     "output_type": "execute_result"
    }
   ],
   "source": [
    "train_df.dtypes"
   ]
  },
  {
   "cell_type": "code",
   "execution_count": 16,
   "id": "4ee1d3df",
   "metadata": {},
   "outputs": [
    {
     "data": {
      "text/html": [
       "<div>\n",
       "<style scoped>\n",
       "    .dataframe tbody tr th:only-of-type {\n",
       "        vertical-align: middle;\n",
       "    }\n",
       "\n",
       "    .dataframe tbody tr th {\n",
       "        vertical-align: top;\n",
       "    }\n",
       "\n",
       "    .dataframe thead th {\n",
       "        text-align: right;\n",
       "    }\n",
       "</style>\n",
       "<table border=\"1\" class=\"dataframe\">\n",
       "  <thead>\n",
       "    <tr style=\"text-align: right;\">\n",
       "      <th></th>\n",
       "      <th>UserName</th>\n",
       "      <th>ScreenName</th>\n",
       "      <th>Location</th>\n",
       "      <th>TweetAt</th>\n",
       "      <th>OriginalTweet</th>\n",
       "      <th>Sentiment</th>\n",
       "      <th>Length</th>\n",
       "    </tr>\n",
       "  </thead>\n",
       "  <tbody>\n",
       "    <tr>\n",
       "      <th>0</th>\n",
       "      <td>3799</td>\n",
       "      <td>48751</td>\n",
       "      <td>London</td>\n",
       "      <td>2020-03-16</td>\n",
       "      <td>@MeNyrbie @Phil_Gahan @Chrisitv https://t.co/i...</td>\n",
       "      <td>Neutral</td>\n",
       "      <td>111</td>\n",
       "    </tr>\n",
       "    <tr>\n",
       "      <th>1</th>\n",
       "      <td>3800</td>\n",
       "      <td>48752</td>\n",
       "      <td>UK</td>\n",
       "      <td>2020-03-16</td>\n",
       "      <td>advice Talk to your neighbours family to excha...</td>\n",
       "      <td>Positive</td>\n",
       "      <td>237</td>\n",
       "    </tr>\n",
       "    <tr>\n",
       "      <th>2</th>\n",
       "      <td>3801</td>\n",
       "      <td>48753</td>\n",
       "      <td>Vagabonds</td>\n",
       "      <td>2020-03-16</td>\n",
       "      <td>Coronavirus Australia: Woolworths to give elde...</td>\n",
       "      <td>Positive</td>\n",
       "      <td>131</td>\n",
       "    </tr>\n",
       "    <tr>\n",
       "      <th>3</th>\n",
       "      <td>3802</td>\n",
       "      <td>48754</td>\n",
       "      <td>NaN</td>\n",
       "      <td>2020-03-16</td>\n",
       "      <td>My food stock is not the only one which is emp...</td>\n",
       "      <td>Positive</td>\n",
       "      <td>306</td>\n",
       "    </tr>\n",
       "    <tr>\n",
       "      <th>4</th>\n",
       "      <td>3803</td>\n",
       "      <td>48755</td>\n",
       "      <td>NaN</td>\n",
       "      <td>2020-03-16</td>\n",
       "      <td>Me, ready to go at supermarket during the #COV...</td>\n",
       "      <td>Extremely Negative</td>\n",
       "      <td>310</td>\n",
       "    </tr>\n",
       "  </tbody>\n",
       "</table>\n",
       "</div>"
      ],
      "text/plain": [
       "   UserName  ScreenName   Location    TweetAt  \\\n",
       "0      3799       48751     London 2020-03-16   \n",
       "1      3800       48752         UK 2020-03-16   \n",
       "2      3801       48753  Vagabonds 2020-03-16   \n",
       "3      3802       48754        NaN 2020-03-16   \n",
       "4      3803       48755        NaN 2020-03-16   \n",
       "\n",
       "                                       OriginalTweet           Sentiment  \\\n",
       "0  @MeNyrbie @Phil_Gahan @Chrisitv https://t.co/i...             Neutral   \n",
       "1  advice Talk to your neighbours family to excha...            Positive   \n",
       "2  Coronavirus Australia: Woolworths to give elde...            Positive   \n",
       "3  My food stock is not the only one which is emp...            Positive   \n",
       "4  Me, ready to go at supermarket during the #COV...  Extremely Negative   \n",
       "\n",
       "   Length  \n",
       "0     111  \n",
       "1     237  \n",
       "2     131  \n",
       "3     306  \n",
       "4     310  "
      ]
     },
     "execution_count": 16,
     "metadata": {},
     "output_type": "execute_result"
    }
   ],
   "source": [
    "# changing the datetime dtype ...\n",
    "train_df[\"TweetAt\"] = pd.to_datetime(train_df[\"TweetAt\"],format=\"%d-%m-%Y\")\n",
    "train_df.head(5)"
   ]
  },
  {
   "cell_type": "code",
   "execution_count": 17,
   "id": "93259cae",
   "metadata": {},
   "outputs": [
    {
     "data": {
      "text/plain": [
       "Timestamp('2020-03-16 00:00:00')"
      ]
     },
     "execution_count": 17,
     "metadata": {},
     "output_type": "execute_result"
    }
   ],
   "source": [
    "train_df[\"TweetAt\"].min()"
   ]
  },
  {
   "cell_type": "code",
   "execution_count": 18,
   "id": "1370fcaf",
   "metadata": {},
   "outputs": [
    {
     "data": {
      "text/plain": [
       "Timestamp('2020-04-14 00:00:00')"
      ]
     },
     "execution_count": 18,
     "metadata": {},
     "output_type": "execute_result"
    }
   ],
   "source": [
    "train_df[\"TweetAt\"].max()"
   ]
  },
  {
   "cell_type": "code",
   "execution_count": 19,
   "id": "5af85e52",
   "metadata": {},
   "outputs": [
    {
     "data": {
      "text/html": [
       "<div>\n",
       "<style scoped>\n",
       "    .dataframe tbody tr th:only-of-type {\n",
       "        vertical-align: middle;\n",
       "    }\n",
       "\n",
       "    .dataframe tbody tr th {\n",
       "        vertical-align: top;\n",
       "    }\n",
       "\n",
       "    .dataframe thead th {\n",
       "        text-align: right;\n",
       "    }\n",
       "</style>\n",
       "<table border=\"1\" class=\"dataframe\">\n",
       "  <thead>\n",
       "    <tr style=\"text-align: right;\">\n",
       "      <th></th>\n",
       "      <th>TweetAt</th>\n",
       "      <th>Sentiment</th>\n",
       "    </tr>\n",
       "  </thead>\n",
       "  <tbody>\n",
       "    <tr>\n",
       "      <th>0</th>\n",
       "      <td>2020-03-16</td>\n",
       "      <td>656</td>\n",
       "    </tr>\n",
       "    <tr>\n",
       "      <th>1</th>\n",
       "      <td>2020-03-17</td>\n",
       "      <td>1977</td>\n",
       "    </tr>\n",
       "    <tr>\n",
       "      <th>2</th>\n",
       "      <td>2020-03-18</td>\n",
       "      <td>2742</td>\n",
       "    </tr>\n",
       "    <tr>\n",
       "      <th>3</th>\n",
       "      <td>2020-03-19</td>\n",
       "      <td>3215</td>\n",
       "    </tr>\n",
       "    <tr>\n",
       "      <th>4</th>\n",
       "      <td>2020-03-20</td>\n",
       "      <td>3448</td>\n",
       "    </tr>\n",
       "    <tr>\n",
       "      <th>5</th>\n",
       "      <td>2020-03-21</td>\n",
       "      <td>2653</td>\n",
       "    </tr>\n",
       "    <tr>\n",
       "      <th>6</th>\n",
       "      <td>2020-03-22</td>\n",
       "      <td>2114</td>\n",
       "    </tr>\n",
       "    <tr>\n",
       "      <th>7</th>\n",
       "      <td>2020-03-23</td>\n",
       "      <td>2062</td>\n",
       "    </tr>\n",
       "    <tr>\n",
       "      <th>8</th>\n",
       "      <td>2020-03-24</td>\n",
       "      <td>1480</td>\n",
       "    </tr>\n",
       "    <tr>\n",
       "      <th>9</th>\n",
       "      <td>2020-03-25</td>\n",
       "      <td>2979</td>\n",
       "    </tr>\n",
       "    <tr>\n",
       "      <th>10</th>\n",
       "      <td>2020-03-26</td>\n",
       "      <td>1277</td>\n",
       "    </tr>\n",
       "    <tr>\n",
       "      <th>11</th>\n",
       "      <td>2020-03-27</td>\n",
       "      <td>345</td>\n",
       "    </tr>\n",
       "    <tr>\n",
       "      <th>12</th>\n",
       "      <td>2020-03-28</td>\n",
       "      <td>23</td>\n",
       "    </tr>\n",
       "    <tr>\n",
       "      <th>13</th>\n",
       "      <td>2020-03-29</td>\n",
       "      <td>125</td>\n",
       "    </tr>\n",
       "    <tr>\n",
       "      <th>14</th>\n",
       "      <td>2020-03-30</td>\n",
       "      <td>87</td>\n",
       "    </tr>\n",
       "    <tr>\n",
       "      <th>15</th>\n",
       "      <td>2020-03-31</td>\n",
       "      <td>316</td>\n",
       "    </tr>\n",
       "    <tr>\n",
       "      <th>16</th>\n",
       "      <td>2020-04-01</td>\n",
       "      <td>630</td>\n",
       "    </tr>\n",
       "    <tr>\n",
       "      <th>17</th>\n",
       "      <td>2020-04-02</td>\n",
       "      <td>954</td>\n",
       "    </tr>\n",
       "    <tr>\n",
       "      <th>18</th>\n",
       "      <td>2020-04-03</td>\n",
       "      <td>810</td>\n",
       "    </tr>\n",
       "    <tr>\n",
       "      <th>19</th>\n",
       "      <td>2020-04-04</td>\n",
       "      <td>767</td>\n",
       "    </tr>\n",
       "    <tr>\n",
       "      <th>20</th>\n",
       "      <td>2020-04-05</td>\n",
       "      <td>1131</td>\n",
       "    </tr>\n",
       "    <tr>\n",
       "      <th>21</th>\n",
       "      <td>2020-04-06</td>\n",
       "      <td>1742</td>\n",
       "    </tr>\n",
       "    <tr>\n",
       "      <th>22</th>\n",
       "      <td>2020-04-07</td>\n",
       "      <td>1843</td>\n",
       "    </tr>\n",
       "    <tr>\n",
       "      <th>23</th>\n",
       "      <td>2020-04-08</td>\n",
       "      <td>1881</td>\n",
       "    </tr>\n",
       "    <tr>\n",
       "      <th>24</th>\n",
       "      <td>2020-04-09</td>\n",
       "      <td>1471</td>\n",
       "    </tr>\n",
       "    <tr>\n",
       "      <th>25</th>\n",
       "      <td>2020-04-10</td>\n",
       "      <td>1005</td>\n",
       "    </tr>\n",
       "    <tr>\n",
       "      <th>26</th>\n",
       "      <td>2020-04-11</td>\n",
       "      <td>909</td>\n",
       "    </tr>\n",
       "    <tr>\n",
       "      <th>27</th>\n",
       "      <td>2020-04-12</td>\n",
       "      <td>803</td>\n",
       "    </tr>\n",
       "    <tr>\n",
       "      <th>28</th>\n",
       "      <td>2020-04-13</td>\n",
       "      <td>1428</td>\n",
       "    </tr>\n",
       "    <tr>\n",
       "      <th>29</th>\n",
       "      <td>2020-04-14</td>\n",
       "      <td>284</td>\n",
       "    </tr>\n",
       "  </tbody>\n",
       "</table>\n",
       "</div>"
      ],
      "text/plain": [
       "      TweetAt  Sentiment\n",
       "0  2020-03-16        656\n",
       "1  2020-03-17       1977\n",
       "2  2020-03-18       2742\n",
       "3  2020-03-19       3215\n",
       "4  2020-03-20       3448\n",
       "5  2020-03-21       2653\n",
       "6  2020-03-22       2114\n",
       "7  2020-03-23       2062\n",
       "8  2020-03-24       1480\n",
       "9  2020-03-25       2979\n",
       "10 2020-03-26       1277\n",
       "11 2020-03-27        345\n",
       "12 2020-03-28         23\n",
       "13 2020-03-29        125\n",
       "14 2020-03-30         87\n",
       "15 2020-03-31        316\n",
       "16 2020-04-01        630\n",
       "17 2020-04-02        954\n",
       "18 2020-04-03        810\n",
       "19 2020-04-04        767\n",
       "20 2020-04-05       1131\n",
       "21 2020-04-06       1742\n",
       "22 2020-04-07       1843\n",
       "23 2020-04-08       1881\n",
       "24 2020-04-09       1471\n",
       "25 2020-04-10       1005\n",
       "26 2020-04-11        909\n",
       "27 2020-04-12        803\n",
       "28 2020-04-13       1428\n",
       "29 2020-04-14        284"
      ]
     },
     "execution_count": 19,
     "metadata": {},
     "output_type": "execute_result"
    }
   ],
   "source": [
    "# checking the tweets per day\n",
    "tweet_per_day  = train_df.groupby(train_df[\"TweetAt\"]).count()[\"Sentiment\"]\n",
    "tweet_per_day = tweet_per_day.reset_index()\n",
    "tweet_per_day"
   ]
  },
  {
   "cell_type": "code",
   "execution_count": 20,
   "id": "6db93400",
   "metadata": {},
   "outputs": [
    {
     "data": {
      "text/html": [
       "<div>\n",
       "<style scoped>\n",
       "    .dataframe tbody tr th:only-of-type {\n",
       "        vertical-align: middle;\n",
       "    }\n",
       "\n",
       "    .dataframe tbody tr th {\n",
       "        vertical-align: top;\n",
       "    }\n",
       "\n",
       "    .dataframe thead th {\n",
       "        text-align: right;\n",
       "    }\n",
       "</style>\n",
       "<table border=\"1\" class=\"dataframe\">\n",
       "  <thead>\n",
       "    <tr style=\"text-align: right;\">\n",
       "      <th></th>\n",
       "      <th>TweetAt</th>\n",
       "      <th>Sentiment</th>\n",
       "      <th>Month</th>\n",
       "    </tr>\n",
       "  </thead>\n",
       "  <tbody>\n",
       "    <tr>\n",
       "      <th>0</th>\n",
       "      <td>2020-03-16</td>\n",
       "      <td>656</td>\n",
       "      <td>3</td>\n",
       "    </tr>\n",
       "    <tr>\n",
       "      <th>1</th>\n",
       "      <td>2020-03-17</td>\n",
       "      <td>1977</td>\n",
       "      <td>3</td>\n",
       "    </tr>\n",
       "    <tr>\n",
       "      <th>2</th>\n",
       "      <td>2020-03-18</td>\n",
       "      <td>2742</td>\n",
       "      <td>3</td>\n",
       "    </tr>\n",
       "    <tr>\n",
       "      <th>3</th>\n",
       "      <td>2020-03-19</td>\n",
       "      <td>3215</td>\n",
       "      <td>3</td>\n",
       "    </tr>\n",
       "    <tr>\n",
       "      <th>4</th>\n",
       "      <td>2020-03-20</td>\n",
       "      <td>3448</td>\n",
       "      <td>3</td>\n",
       "    </tr>\n",
       "    <tr>\n",
       "      <th>5</th>\n",
       "      <td>2020-03-21</td>\n",
       "      <td>2653</td>\n",
       "      <td>3</td>\n",
       "    </tr>\n",
       "    <tr>\n",
       "      <th>6</th>\n",
       "      <td>2020-03-22</td>\n",
       "      <td>2114</td>\n",
       "      <td>3</td>\n",
       "    </tr>\n",
       "    <tr>\n",
       "      <th>7</th>\n",
       "      <td>2020-03-23</td>\n",
       "      <td>2062</td>\n",
       "      <td>3</td>\n",
       "    </tr>\n",
       "    <tr>\n",
       "      <th>8</th>\n",
       "      <td>2020-03-24</td>\n",
       "      <td>1480</td>\n",
       "      <td>3</td>\n",
       "    </tr>\n",
       "    <tr>\n",
       "      <th>9</th>\n",
       "      <td>2020-03-25</td>\n",
       "      <td>2979</td>\n",
       "      <td>3</td>\n",
       "    </tr>\n",
       "    <tr>\n",
       "      <th>10</th>\n",
       "      <td>2020-03-26</td>\n",
       "      <td>1277</td>\n",
       "      <td>3</td>\n",
       "    </tr>\n",
       "    <tr>\n",
       "      <th>11</th>\n",
       "      <td>2020-03-27</td>\n",
       "      <td>345</td>\n",
       "      <td>3</td>\n",
       "    </tr>\n",
       "    <tr>\n",
       "      <th>12</th>\n",
       "      <td>2020-03-28</td>\n",
       "      <td>23</td>\n",
       "      <td>3</td>\n",
       "    </tr>\n",
       "    <tr>\n",
       "      <th>13</th>\n",
       "      <td>2020-03-29</td>\n",
       "      <td>125</td>\n",
       "      <td>3</td>\n",
       "    </tr>\n",
       "    <tr>\n",
       "      <th>14</th>\n",
       "      <td>2020-03-30</td>\n",
       "      <td>87</td>\n",
       "      <td>3</td>\n",
       "    </tr>\n",
       "    <tr>\n",
       "      <th>15</th>\n",
       "      <td>2020-03-31</td>\n",
       "      <td>316</td>\n",
       "      <td>3</td>\n",
       "    </tr>\n",
       "    <tr>\n",
       "      <th>16</th>\n",
       "      <td>2020-04-01</td>\n",
       "      <td>630</td>\n",
       "      <td>4</td>\n",
       "    </tr>\n",
       "    <tr>\n",
       "      <th>17</th>\n",
       "      <td>2020-04-02</td>\n",
       "      <td>954</td>\n",
       "      <td>4</td>\n",
       "    </tr>\n",
       "    <tr>\n",
       "      <th>18</th>\n",
       "      <td>2020-04-03</td>\n",
       "      <td>810</td>\n",
       "      <td>4</td>\n",
       "    </tr>\n",
       "    <tr>\n",
       "      <th>19</th>\n",
       "      <td>2020-04-04</td>\n",
       "      <td>767</td>\n",
       "      <td>4</td>\n",
       "    </tr>\n",
       "    <tr>\n",
       "      <th>20</th>\n",
       "      <td>2020-04-05</td>\n",
       "      <td>1131</td>\n",
       "      <td>4</td>\n",
       "    </tr>\n",
       "    <tr>\n",
       "      <th>21</th>\n",
       "      <td>2020-04-06</td>\n",
       "      <td>1742</td>\n",
       "      <td>4</td>\n",
       "    </tr>\n",
       "    <tr>\n",
       "      <th>22</th>\n",
       "      <td>2020-04-07</td>\n",
       "      <td>1843</td>\n",
       "      <td>4</td>\n",
       "    </tr>\n",
       "    <tr>\n",
       "      <th>23</th>\n",
       "      <td>2020-04-08</td>\n",
       "      <td>1881</td>\n",
       "      <td>4</td>\n",
       "    </tr>\n",
       "    <tr>\n",
       "      <th>24</th>\n",
       "      <td>2020-04-09</td>\n",
       "      <td>1471</td>\n",
       "      <td>4</td>\n",
       "    </tr>\n",
       "    <tr>\n",
       "      <th>25</th>\n",
       "      <td>2020-04-10</td>\n",
       "      <td>1005</td>\n",
       "      <td>4</td>\n",
       "    </tr>\n",
       "    <tr>\n",
       "      <th>26</th>\n",
       "      <td>2020-04-11</td>\n",
       "      <td>909</td>\n",
       "      <td>4</td>\n",
       "    </tr>\n",
       "    <tr>\n",
       "      <th>27</th>\n",
       "      <td>2020-04-12</td>\n",
       "      <td>803</td>\n",
       "      <td>4</td>\n",
       "    </tr>\n",
       "    <tr>\n",
       "      <th>28</th>\n",
       "      <td>2020-04-13</td>\n",
       "      <td>1428</td>\n",
       "      <td>4</td>\n",
       "    </tr>\n",
       "    <tr>\n",
       "      <th>29</th>\n",
       "      <td>2020-04-14</td>\n",
       "      <td>284</td>\n",
       "      <td>4</td>\n",
       "    </tr>\n",
       "  </tbody>\n",
       "</table>\n",
       "</div>"
      ],
      "text/plain": [
       "      TweetAt  Sentiment  Month\n",
       "0  2020-03-16        656      3\n",
       "1  2020-03-17       1977      3\n",
       "2  2020-03-18       2742      3\n",
       "3  2020-03-19       3215      3\n",
       "4  2020-03-20       3448      3\n",
       "5  2020-03-21       2653      3\n",
       "6  2020-03-22       2114      3\n",
       "7  2020-03-23       2062      3\n",
       "8  2020-03-24       1480      3\n",
       "9  2020-03-25       2979      3\n",
       "10 2020-03-26       1277      3\n",
       "11 2020-03-27        345      3\n",
       "12 2020-03-28         23      3\n",
       "13 2020-03-29        125      3\n",
       "14 2020-03-30         87      3\n",
       "15 2020-03-31        316      3\n",
       "16 2020-04-01        630      4\n",
       "17 2020-04-02        954      4\n",
       "18 2020-04-03        810      4\n",
       "19 2020-04-04        767      4\n",
       "20 2020-04-05       1131      4\n",
       "21 2020-04-06       1742      4\n",
       "22 2020-04-07       1843      4\n",
       "23 2020-04-08       1881      4\n",
       "24 2020-04-09       1471      4\n",
       "25 2020-04-10       1005      4\n",
       "26 2020-04-11        909      4\n",
       "27 2020-04-12        803      4\n",
       "28 2020-04-13       1428      4\n",
       "29 2020-04-14        284      4"
      ]
     },
     "execution_count": 20,
     "metadata": {},
     "output_type": "execute_result"
    }
   ],
   "source": [
    "tweet_per_day[\"Month\"] = tweet_per_day[\"TweetAt\"].apply(lambda x : x.month)\n",
    "tweet_per_day"
   ]
  },
  {
   "cell_type": "code",
   "execution_count": 21,
   "id": "82aaa4aa",
   "metadata": {},
   "outputs": [
    {
     "data": {
      "image/png": "[encoded data removed]",
      "text/plain": [
       "<Figure size 720x576 with 1 Axes>"
      ]
     },
     "metadata": {
      "needs_background": "light"
     },
     "output_type": "display_data"
    }
   ],
   "source": [
    "# let's visualize tweet per day..\n",
    "plt.figure(figsize=(10,8))\n",
    "plt.plot(tweet_per_day[\"TweetAt\"],tweet_per_day[\"Sentiment\"]);"
   ]
  },
  {
   "cell_type": "code",
   "execution_count": 22,
   "id": "b592b352",
   "metadata": {},
   "outputs": [
    {
     "data": {
      "text/plain": [
       "array(['Neutral', 'Positive', 'Extremely Negative', 'Negative',\n",
       "       'Extremely Positive'], dtype=object)"
      ]
     },
     "execution_count": 22,
     "metadata": {},
     "output_type": "execute_result"
    }
   ],
   "source": [
    "train_df[\"Sentiment\"].unique()"
   ]
  },
  {
   "cell_type": "code",
   "execution_count": 23,
   "id": "84d2003d",
   "metadata": {},
   "outputs": [
    {
     "data": {
      "image/png": "[encoded data removed]",
      "text/plain": [
       "<Figure size 720x1008 with 6 Axes>"
      ]
     },
     "metadata": {
      "needs_background": "light"
     },
     "output_type": "display_data"
    }
   ],
   "source": [
    "# plotting the number of characters per sentiment\n",
    "len_neutral = train_df[train_df[\"Sentiment\"]==\"Neutral\"][\"OriginalTweet\"].str.len()\n",
    "\n",
    "# positive sentiment \n",
    "len_positive = train_df[train_df[\"Sentiment\"]==\"Positive\"][\"OriginalTweet\"].str.len()\n",
    "\n",
    "# negative sentiment \n",
    "len_negative = train_df[train_df[\"Sentiment\"]==\"Positive\"][\"OriginalTweet\"].str.len()\n",
    "\n",
    "# extremely negative \n",
    "len_ex_neg = train_df[train_df[\"Sentiment\"]==\"Extremely Negative\"][\"OriginalTweet\"].str.len()\n",
    "\n",
    "# extremely positive\n",
    "len_ex_pos = train_df[train_df[\"Sentiment\"]==\"Extremely Positive\"][\"OriginalTweet\"].str.len()\n",
    "\n",
    "# let's plot the len of characters in each sentiment category....\n",
    "# plt.figure(figsize=(10,8))\n",
    "figure,ax = plt.subplots(3,2,figsize=(10,14))\n",
    "ax[0,0].hist(len_positive)\n",
    "ax[0,0].set_title(\"Positive\")\n",
    "\n",
    "ax[0,1].hist(len_ex_pos)\n",
    "ax[0,1].set_title(\"Extremely_Positive\")\n",
    "\n",
    "ax[1,0].hist(len_negative)\n",
    "ax[1,0].set_title(\"Negative\")\n",
    "\n",
    "ax[1,1].hist(len_ex_neg)\n",
    "ax[1,1].set_title(\"Extremely_Negative\")\n",
    "\n",
    "ax[2,0].hist(len_neutral)\n",
    "ax[2,0].set_title(\"Neutral\")\n",
    "\n",
    "plt.show()"
   ]
  },
  {
   "cell_type": "code",
   "execution_count": 24,
   "id": "f03c3419",
   "metadata": {},
   "outputs": [
    {
     "data": {
      "text/plain": [
       "1        237\n",
       "2        131\n",
       "3        306\n",
       "5        250\n",
       "6        180\n",
       "        ... \n",
       "41140    302\n",
       "41145    105\n",
       "41146    290\n",
       "41150    199\n",
       "41154    136\n",
       "Name: Length, Length: 11422, dtype: int64"
      ]
     },
     "execution_count": 24,
     "metadata": {},
     "output_type": "execute_result"
    }
   ],
   "source": [
    "train_df[train_df[\"Sentiment\"]== \"Positive\"][\"Length\"]"
   ]
  },
  {
   "cell_type": "code",
   "execution_count": 25,
   "id": "42d43760",
   "metadata": {},
   "outputs": [],
   "source": [
    "# change the sentiment type\n",
    "\n",
    "def change_sen(sentiment):\n",
    "    if sentiment == \"Positive\":\n",
    "        return \"positive\"\n",
    "    elif sentiment == \"Extremely Positive\":\n",
    "        return \"positive\"\n",
    "    elif sentiment == \"Negative\":\n",
    "        return \"negative\"\n",
    "    elif sentiment == \"Extremely Negative\":\n",
    "        return \"negative\"\n",
    "    else:\n",
    "        return \"neutral\""
   ]
  },
  {
   "cell_type": "code",
   "execution_count": 26,
   "id": "f06a25be",
   "metadata": {},
   "outputs": [
    {
     "data": {
      "text/plain": [
       "array(['neutral', 'positive', 'negative'], dtype=object)"
      ]
     },
     "execution_count": 26,
     "metadata": {},
     "output_type": "execute_result"
    }
   ],
   "source": [
    "train_df[\"Sentiment\"] = train_df[\"Sentiment\"].apply(change_sen)\n",
    "test_df[\"Sentiment\"] = test_df[\"Sentiment\"].apply(change_sen)\n",
    "\n",
    "# let's check the changes\n",
    "train_df[\"Sentiment\"].unique()"
   ]
  },
  {
   "cell_type": "code",
   "execution_count": 27,
   "id": "9ea01f3d",
   "metadata": {},
   "outputs": [
    {
     "data": {
      "image/png": "[encoded data removed]",
      "text/plain": [
       "<Figure size 432x288 with 1 Axes>"
      ]
     },
     "metadata": {
      "needs_background": "light"
     },
     "output_type": "display_data"
    }
   ],
   "source": [
    "# plot it\n",
    "sns.countplot(train_df[\"Sentiment\"]);"
   ]
  },
  {
   "cell_type": "code",
   "execution_count": 28,
   "id": "439f07c3",
   "metadata": {},
   "outputs": [],
   "source": [
    "# as our label is in text so map it\n",
    "\n",
    "l = {\"neutral\" : 0, \"positive\" : 1,\"negative\" : 2}\n",
    "\n",
    "# apply it to the data....\n",
    "\n",
    "train_df[\"Sentiment\"] = train_df[\"Sentiment\"].map(l)\n",
    "test_df[\"Sentiment\"] = test_df[\"Sentiment\"].map(l)"
   ]
  },
  {
   "cell_type": "code",
   "execution_count": 29,
   "id": "9a89802f",
   "metadata": {},
   "outputs": [],
   "source": [
    "# train_df[\"Sentiment\"] = to_categorical(train_df[\"Sentiment\"],3)\n",
    "# test_df[\"Sentiment\"] = to_categorical(test_df[\"Sentiment\"],3)"
   ]
  },
  {
   "cell_type": "code",
   "execution_count": 30,
   "id": "9774ac15",
   "metadata": {},
   "outputs": [
    {
     "data": {
      "text/html": [
       "<div>\n",
       "<style scoped>\n",
       "    .dataframe tbody tr th:only-of-type {\n",
       "        vertical-align: middle;\n",
       "    }\n",
       "\n",
       "    .dataframe tbody tr th {\n",
       "        vertical-align: top;\n",
       "    }\n",
       "\n",
       "    .dataframe thead th {\n",
       "        text-align: right;\n",
       "    }\n",
       "</style>\n",
       "<table border=\"1\" class=\"dataframe\">\n",
       "  <thead>\n",
       "    <tr style=\"text-align: right;\">\n",
       "      <th></th>\n",
       "      <th>UserName</th>\n",
       "      <th>ScreenName</th>\n",
       "      <th>Location</th>\n",
       "      <th>TweetAt</th>\n",
       "      <th>OriginalTweet</th>\n",
       "      <th>Sentiment</th>\n",
       "      <th>Length</th>\n",
       "    </tr>\n",
       "  </thead>\n",
       "  <tbody>\n",
       "    <tr>\n",
       "      <th>25591</th>\n",
       "      <td>29390</td>\n",
       "      <td>74342</td>\n",
       "      <td>Berlin/Germany</td>\n",
       "      <td>2020-04-01</td>\n",
       "      <td>The economic impacts of the COVID 19 pandemic ...</td>\n",
       "      <td>1</td>\n",
       "      <td>240</td>\n",
       "    </tr>\n",
       "    <tr>\n",
       "      <th>21685</th>\n",
       "      <td>25484</td>\n",
       "      <td>70436</td>\n",
       "      <td>LAGOS-ABUJA-IBADAN-PH</td>\n",
       "      <td>2020-03-25</td>\n",
       "      <td>In a bit to still communicate valuable informa...</td>\n",
       "      <td>1</td>\n",
       "      <td>279</td>\n",
       "    </tr>\n",
       "    <tr>\n",
       "      <th>31213</th>\n",
       "      <td>35012</td>\n",
       "      <td>79964</td>\n",
       "      <td>Ottawa</td>\n",
       "      <td>2020-04-06</td>\n",
       "      <td>Shared an older version of this chart about th...</td>\n",
       "      <td>1</td>\n",
       "      <td>239</td>\n",
       "    </tr>\n",
       "    <tr>\n",
       "      <th>30439</th>\n",
       "      <td>34238</td>\n",
       "      <td>79190</td>\n",
       "      <td>Bikeville</td>\n",
       "      <td>2020-04-06</td>\n",
       "      <td>@anneramsey740 Every single grocery store surr...</td>\n",
       "      <td>2</td>\n",
       "      <td>155</td>\n",
       "    </tr>\n",
       "    <tr>\n",
       "      <th>38207</th>\n",
       "      <td>42006</td>\n",
       "      <td>86958</td>\n",
       "      <td>NaN</td>\n",
       "      <td>2020-04-11</td>\n",
       "      <td>On March 20 Gov DeSantis closed restaurant din...</td>\n",
       "      <td>1</td>\n",
       "      <td>261</td>\n",
       "    </tr>\n",
       "    <tr>\n",
       "      <th>26208</th>\n",
       "      <td>30007</td>\n",
       "      <td>74959</td>\n",
       "      <td>Torbay, England</td>\n",
       "      <td>2020-04-02</td>\n",
       "      <td>A second has been planed for tonight at 8pm ...</td>\n",
       "      <td>1</td>\n",
       "      <td>121</td>\n",
       "    </tr>\n",
       "    <tr>\n",
       "      <th>15346</th>\n",
       "      <td>19145</td>\n",
       "      <td>64097</td>\n",
       "      <td>Bury, England</td>\n",
       "      <td>2020-03-22</td>\n",
       "      <td>I see once again the Great British public are ...</td>\n",
       "      <td>1</td>\n",
       "      <td>220</td>\n",
       "    </tr>\n",
       "    <tr>\n",
       "      <th>20706</th>\n",
       "      <td>24505</td>\n",
       "      <td>69457</td>\n",
       "      <td>NaN</td>\n",
       "      <td>2020-03-25</td>\n",
       "      <td>Support food banks don t panic buy and be resp...</td>\n",
       "      <td>1</td>\n",
       "      <td>53</td>\n",
       "    </tr>\n",
       "    <tr>\n",
       "      <th>30928</th>\n",
       "      <td>34727</td>\n",
       "      <td>79679</td>\n",
       "      <td>NaN</td>\n",
       "      <td>2020-04-06</td>\n",
       "      <td>My husbands sister got mad at me for telling h...</td>\n",
       "      <td>2</td>\n",
       "      <td>277</td>\n",
       "    </tr>\n",
       "    <tr>\n",
       "      <th>27220</th>\n",
       "      <td>31019</td>\n",
       "      <td>75971</td>\n",
       "      <td>Downtown LA</td>\n",
       "      <td>2020-04-03</td>\n",
       "      <td>\"LA rental prices fall for the first time in a...</td>\n",
       "      <td>0</td>\n",
       "      <td>124</td>\n",
       "    </tr>\n",
       "  </tbody>\n",
       "</table>\n",
       "</div>"
      ],
      "text/plain": [
       "       UserName  ScreenName               Location    TweetAt  \\\n",
       "25591     29390       74342         Berlin/Germany 2020-04-01   \n",
       "21685     25484       70436  LAGOS-ABUJA-IBADAN-PH 2020-03-25   \n",
       "31213     35012       79964                 Ottawa 2020-04-06   \n",
       "30439     34238       79190             Bikeville  2020-04-06   \n",
       "38207     42006       86958                    NaN 2020-04-11   \n",
       "26208     30007       74959        Torbay, England 2020-04-02   \n",
       "15346     19145       64097          Bury, England 2020-03-22   \n",
       "20706     24505       69457                    NaN 2020-03-25   \n",
       "30928     34727       79679                    NaN 2020-04-06   \n",
       "27220     31019       75971            Downtown LA 2020-04-03   \n",
       "\n",
       "                                           OriginalTweet  Sentiment  Length  \n",
       "25591  The economic impacts of the COVID 19 pandemic ...          1     240  \n",
       "21685  In a bit to still communicate valuable informa...          1     279  \n",
       "31213  Shared an older version of this chart about th...          1     239  \n",
       "30439  @anneramsey740 Every single grocery store surr...          2     155  \n",
       "38207  On March 20 Gov DeSantis closed restaurant din...          1     261  \n",
       "26208    A second has been planed for tonight at 8pm ...          1     121  \n",
       "15346  I see once again the Great British public are ...          1     220  \n",
       "20706  Support food banks don t panic buy and be resp...          1      53  \n",
       "30928  My husbands sister got mad at me for telling h...          2     277  \n",
       "27220  \"LA rental prices fall for the first time in a...          0     124  "
      ]
     },
     "execution_count": 30,
     "metadata": {},
     "output_type": "execute_result"
    }
   ],
   "source": [
    "train_df.sample(10)"
   ]
  },
  {
   "cell_type": "code",
   "execution_count": 31,
   "id": "fbe9e7b1",
   "metadata": {},
   "outputs": [
    {
     "data": {
      "text/plain": [
       "array([0, 1, 2])"
      ]
     },
     "execution_count": 31,
     "metadata": {},
     "output_type": "execute_result"
    }
   ],
   "source": [
    "train_df[\"Sentiment\"].unique()"
   ]
  },
  {
   "cell_type": "code",
   "execution_count": 32,
   "id": "4eb7abc8",
   "metadata": {},
   "outputs": [
    {
     "data": {
      "text/plain": [
       "(41157, 41157, 3798, 3798)"
      ]
     },
     "execution_count": 32,
     "metadata": {},
     "output_type": "execute_result"
    }
   ],
   "source": [
    "# split the data into train and test set by picking only main columns\n",
    "X_train = train_df[\"OriginalTweet\"]\n",
    "y_train = train_df[\"Sentiment\"]\n",
    "\n",
    "X_test = test_df[\"OriginalTweet\"]\n",
    "y_test = test_df[\"Sentiment\"]\n",
    "\n",
    "# checking the sets...\n",
    "len(X_train),len(y_train),len(X_test),len(y_test)"
   ]
  },
  {
   "cell_type": "code",
   "execution_count": 33,
   "id": "39f79647",
   "metadata": {},
   "outputs": [],
   "source": [
    "# let's make a function that will evaluate our model performance....\n",
    "def calculate_results(y_true,y_pred):\n",
    "    \"\"\"\n",
    "    This function will evaluate our model performace by measuring certain metrics....\n",
    "    Accuracy : it tells us that how accurately our model predict the label\n",
    "    Precision : this is the ability of classifier not to label a negative label as positive.\n",
    "    Recall : this is the ability of classifier to find all positive labels.\n",
    "    Fscore : this is the average of preicision and recall.\n",
    "    \"\"\"\n",
    "    accuracy = accuracy_score(y_true,y_pred)\n",
    "    precision_score,recall_score,f_score,_ = precision_recall_fscore_support(y_true,y_pred,average=\"weighted\")\n",
    "    \n",
    "    results = {\n",
    "        \"Accuracy\" : accuracy ,\n",
    "        \"Precision\" : precision_score,\n",
    "        \"Recall\" : recall_score,\n",
    "        \"F_Score\" : f_score\n",
    "    }\n",
    "    return results"
   ]
  },
  {
   "cell_type": "code",
   "execution_count": 34,
   "id": "f34b7a78",
   "metadata": {},
   "outputs": [],
   "source": [
    "def clean(text):\n",
    "\n",
    "    #     remove urls\n",
    "    text = re.sub(r'http\\S+', \" \", text)\n",
    "\n",
    "    #     remove mentions\n",
    "    text = re.sub(r'@\\w+',' ',text)\n",
    "\n",
    "    #     remove hastags\n",
    "    text = re.sub(r'#\\w+', ' ', text)\n",
    "\n",
    "    #     remove digits\n",
    "    text = re.sub(r'\\d+', ' ', text)\n",
    "\n",
    "    #     remove html tags\n",
    "    text = re.sub('r<.*?>',' ', text)\n",
    "    \n",
    "    #     remove stop words \n",
    "    text = text.split()\n",
    "    text = \" \".join([word for word in text if not word in stop_word])\n",
    "    \n",
    "      \n",
    "    return text"
   ]
  },
  {
   "cell_type": "code",
   "execution_count": 35,
   "id": "61a17017",
   "metadata": {},
   "outputs": [],
   "source": [
    "# as our data is in text form so let's first clean it....\n",
    "# re.sub() --> return the sub-string with replace value\n",
    "\n",
    "def clean(text):\n",
    "    \n",
    "#     remove punctuation marks...\n",
    "    text = re.sub(r\"[^\\w\\s]\",\"\",text)\n",
    "    \n",
    "#     remove URL's\n",
    "    text = re.sub(r'http\\S+',\"\",text)\n",
    "    \n",
    "#     remove digits\n",
    "    text = re.sub(r'\\d+',\"\",text)\n",
    "    \n",
    "#     remove HTML tags\n",
    "    text = re.sub(r\"<[^>]*>\",\"\",text)\n",
    "    \n",
    "#     remove mentions\n",
    "    text = re.sub(r\"@\\w+\",\"\",text)\n",
    "    \n",
    "#     remove hash-tag only #\n",
    "    text = re.sub(r\"#\",\"\",text)\n",
    "    \n",
    "    return text"
   ]
  },
  {
   "cell_type": "code",
   "execution_count": 36,
   "id": "aa13f689",
   "metadata": {},
   "outputs": [
    {
     "data": {
      "text/plain": [
       "0                  MeNyrbie Phil_Gahan Chrisitv  and  and \n",
       "1        advice Talk to your neighbours family to excha...\n",
       "2        Coronavirus Australia Woolworths to give elder...\n",
       "3        My food stock is not the only one which is emp...\n",
       "4        Me ready to go at supermarket during the COVID...\n",
       "                               ...                        \n",
       "41152    Airline pilots offering to stock supermarket s...\n",
       "41153    Response to complaint not provided citing COVI...\n",
       "41154    You know itÂs getting tough when KameronWilds ...\n",
       "41155    Is it wrong that the smell of hand sanitizer i...\n",
       "41156    TartiiCat Well newused Rift S are going for  o...\n",
       "Name: OriginalTweet, Length: 41157, dtype: object"
      ]
     },
     "execution_count": 36,
     "metadata": {},
     "output_type": "execute_result"
    }
   ],
   "source": [
    "# let's apply it to the data....\n",
    "X_train = X_train.apply(lambda x : clean(x))\n",
    "X_test = X_test.apply(lambda x : clean(x))\n",
    "\n",
    "\n",
    "X_train"
   ]
  },
  {
   "cell_type": "markdown",
   "id": "483e601b",
   "metadata": {},
   "source": [
    "## Tokenization\n",
    "\n",
    "\n",
    "As we clean our text let's split the data and convert each split into integer through tokenization because our \n",
    "deep learning models works only with the numbers....\n"
   ]
  },
  {
   "cell_type": "code",
   "execution_count": 37,
   "id": "cae541b4",
   "metadata": {},
   "outputs": [
    {
     "data": {
      "text/plain": [
       "29.0"
      ]
     },
     "execution_count": 37,
     "metadata": {},
     "output_type": "execute_result"
    }
   ],
   "source": [
    "# find the average legth of sentence\n",
    "np.round(sum([len(i.split()) for i in X_train])/len(X_train))"
   ]
  },
  {
   "cell_type": "code",
   "execution_count": 38,
   "id": "8e737724",
   "metadata": {},
   "outputs": [
    {
     "data": {
      "text/plain": [
       "0"
      ]
     },
     "execution_count": 38,
     "metadata": {},
     "output_type": "execute_result"
    }
   ],
   "source": [
    "# find the shortest tweet\n",
    "np.min([len(i.split()) for i in X_train])"
   ]
  },
  {
   "cell_type": "code",
   "execution_count": 39,
   "id": "d2b5ef73",
   "metadata": {},
   "outputs": [
    {
     "data": {
      "text/plain": [
       "62"
      ]
     },
     "execution_count": 39,
     "metadata": {},
     "output_type": "execute_result"
    }
   ],
   "source": [
    "# longest tweet\n",
    "np.max([len(i.split()) for i in X_test])"
   ]
  },
  {
   "cell_type": "code",
   "execution_count": 40,
   "id": "f7052309",
   "metadata": {},
   "outputs": [],
   "source": [
    "# set the vocabulary and max length for each tweet\n",
    "max_vocab_len = 15000\n",
    "max_len = 35"
   ]
  },
  {
   "cell_type": "code",
   "execution_count": 41,
   "id": "ac4e4c26",
   "metadata": {},
   "outputs": [
    {
     "name": "stdout",
     "output_type": "stream",
     "text": [
      "Metal device set to: Apple M1\n"
     ]
    },
    {
     "name": "stderr",
     "output_type": "stream",
     "text": [
      "2022-09-15 20:52:38.605109: I tensorflow/core/common_runtime/pluggable_device/pluggable_device_factory.cc:305] Could not identify NUMA node of platform GPU ID 0, defaulting to 0. Your kernel may not have been built with NUMA support.\n",
      "2022-09-15 20:52:38.605187: I tensorflow/core/common_runtime/pluggable_device/pluggable_device_factory.cc:271] Created TensorFlow device (/job:localhost/replica:0/task:0/device:GPU:0 with 0 MB memory) -> physical PluggableDevice (device: 0, name: METAL, pci bus id: <undefined>)\n"
     ]
    }
   ],
   "source": [
    "token = TextVectorization(max_tokens=max_vocab_len,\n",
    "                         output_sequence_length=max_len,\n",
    "                         output_mode=\"int\",\n",
    "                         standardize=\"lower_and_strip_punctuation\")"
   ]
  },
  {
   "cell_type": "code",
   "execution_count": 42,
   "id": "89d9600c",
   "metadata": {},
   "outputs": [
    {
     "name": "stderr",
     "output_type": "stream",
     "text": [
      "2022-09-15 20:52:38.645500: W tensorflow/core/platform/profile_utils/cpu_utils.cc:128] Failed to get CPU frequency: 0 Hz\n",
      "2022-09-15 20:52:38.683576: I tensorflow/core/grappler/optimizers/custom_graph_optimizer_registry.cc:113] Plugin optimizer for device_type GPU is enabled.\n"
     ]
    }
   ],
   "source": [
    "# let's adapt it to the text...\n",
    "token.adapt(X_train)"
   ]
  },
  {
   "cell_type": "code",
   "execution_count": 43,
   "id": "47f22301",
   "metadata": {},
   "outputs": [
    {
     "name": "stdout",
     "output_type": "stream",
     "text": [
      "Most common 5 words in the text : \n",
      "\n",
      "['', '[UNK]', 'the', 'to', 'and']\n",
      "\n",
      "Most least common 5 words in the text : \n",
      "\n",
      "['grams', 'gramnow', 'grades', 'grader', 'gra']\n"
     ]
    }
   ],
   "source": [
    "# get the text information....\n",
    "vocab = token.get_vocabulary()\n",
    "print(f\"Most common 5 words in the text : \\n\\n{vocab[:5]}\\n\")\n",
    "print(f\"Most least common 5 words in the text : \\n\\n{vocab[-5:]}\")"
   ]
  },
  {
   "cell_type": "code",
   "execution_count": 44,
   "id": "612726b2",
   "metadata": {},
   "outputs": [
    {
     "name": "stdout",
     "output_type": "stream",
     "text": [
      "Original Text : \n",
      "\n",
      "Covid got these gas prices looking like  LMAO \n",
      "\n",
      "Tokize Version : \n",
      "\n",
      "[[   5  210  103  218   17  353   70 4831    0    0    0    0    0    0\n",
      "     0    0    0    0    0    0    0    0    0    0    0    0    0    0\n",
      "     0    0    0    0    0    0    0]]\n"
     ]
    }
   ],
   "source": [
    "# let's take a sample from text and tokenize it...\n",
    "random_text = random.choice(X_train)\n",
    "\n",
    "print(f\"Original Text : \\n\\n{random_text}\")\n",
    "print(f\"\\nTokize Version : \\n\\n{token([random_text])}\")"
   ]
  },
  {
   "cell_type": "markdown",
   "id": "48ad937a",
   "metadata": {},
   "source": [
    "## Embeddings:\n",
    "\n",
    "As we've tokenized our data, let's embedd it which is the richer representation of the data."
   ]
  },
  {
   "cell_type": "code",
   "execution_count": 45,
   "id": "5d54dbd0",
   "metadata": {},
   "outputs": [],
   "source": [
    "embedd = Embedding(input_dim = max_vocab_len,\n",
    "                  output_dim = 128,\n",
    "                   input_length = max_len,\n",
    "                   embeddings_initializer='uniform',\n",
    "                  )"
   ]
  },
  {
   "cell_type": "code",
   "execution_count": 46,
   "id": "dd079db7",
   "metadata": {},
   "outputs": [
    {
     "name": "stdout",
     "output_type": "stream",
     "text": [
      "Original Text : \n",
      "\n",
      "__       \r",
      "\r\n",
      "      \r",
      "\r\n",
      "   \r",
      "\r\n",
      "     \r",
      "\r\n",
      "              \n",
      "\n",
      "Tokize Version : \n",
      "\n",
      "[[0 0 0 0 0 0 0 0 0 0 0 0 0 0 0 0 0 0 0 0 0 0 0 0 0 0 0 0 0 0 0 0 0 0 0]]\n",
      "\n",
      "Embedd Version : \n",
      "\n",
      "[[[ 0.03740439 -0.01105677  0.01433219 ...  0.04686684 -0.02475356\n",
      "   -0.00949218]\n",
      "  [ 0.03740439 -0.01105677  0.01433219 ...  0.04686684 -0.02475356\n",
      "   -0.00949218]\n",
      "  [ 0.03740439 -0.01105677  0.01433219 ...  0.04686684 -0.02475356\n",
      "   -0.00949218]\n",
      "  ...\n",
      "  [ 0.03740439 -0.01105677  0.01433219 ...  0.04686684 -0.02475356\n",
      "   -0.00949218]\n",
      "  [ 0.03740439 -0.01105677  0.01433219 ...  0.04686684 -0.02475356\n",
      "   -0.00949218]\n",
      "  [ 0.03740439 -0.01105677  0.01433219 ...  0.04686684 -0.02475356\n",
      "   -0.00949218]]]\n"
     ]
    }
   ],
   "source": [
    "# let's take a sample from text, tokenize and embedd it...\n",
    "random_text = random.choice(X_train)\n",
    "\n",
    "print(f\"Original Text : \\n\\n{random_text}\")\n",
    "print(f\"\\nTokize Version : \\n\\n{token([random_text])}\")\n",
    "print(f\"\\nEmbedd Version : \\n\\n{embedd(token([random_text]))}\")"
   ]
  },
  {
   "cell_type": "markdown",
   "id": "d00a28b1",
   "metadata": {},
   "source": [
    "## Model building\n",
    "\n",
    "    ~We'll build a series of model and pick the one that performs better.\n",
    "    ~Naive Model\n",
    "    ~Dense Model\n",
    "    ~LSTM Model\n",
    "    ~GRU Model"
   ]
  },
  {
   "cell_type": "markdown",
   "id": "3118c815",
   "metadata": {},
   "source": [
    "## Naive Model"
   ]
  },
  {
   "cell_type": "code",
   "execution_count": 47,
   "id": "c0cb22c5",
   "metadata": {},
   "outputs": [
    {
     "data": {
      "text/html": [
       "<style>#sk-container-id-1 {color: black;background-color: white;}#sk-container-id-1 pre{padding: 0;}#sk-container-id-1 div.sk-toggleable {background-color: white;}#sk-container-id-1 label.sk-toggleable__label {cursor: pointer;display: block;width: 100%;margin-bottom: 0;padding: 0.3em;box-sizing: border-box;text-align: center;}#sk-container-id-1 label.sk-toggleable__label-arrow:before {content: \"▸\";float: left;margin-right: 0.25em;color: #696969;}#sk-container-id-1 label.sk-toggleable__label-arrow:hover:before {color: black;}#sk-container-id-1 div.sk-estimator:hover label.sk-toggleable__label-arrow:before {color: black;}#sk-container-id-1 div.sk-toggleable__content {max-height: 0;max-width: 0;overflow: hidden;text-align: left;background-color: #f0f8ff;}#sk-container-id-1 div.sk-toggleable__content pre {margin: 0.2em;color: black;border-radius: 0.25em;background-color: #f0f8ff;}#sk-container-id-1 input.sk-toggleable__control:checked~div.sk-toggleable__content {max-height: 200px;max-width: 100%;overflow: auto;}#sk-container-id-1 input.sk-toggleable__control:checked~label.sk-toggleable__label-arrow:before {content: \"▾\";}#sk-container-id-1 div.sk-estimator input.sk-toggleable__control:checked~label.sk-toggleable__label {background-color: #d4ebff;}#sk-container-id-1 div.sk-label input.sk-toggleable__control:checked~label.sk-toggleable__label {background-color: #d4ebff;}#sk-container-id-1 input.sk-hidden--visually {border: 0;clip: rect(1px 1px 1px 1px);clip: rect(1px, 1px, 1px, 1px);height: 1px;margin: -1px;overflow: hidden;padding: 0;position: absolute;width: 1px;}#sk-container-id-1 div.sk-estimator {font-family: monospace;background-color: #f0f8ff;border: 1px dotted black;border-radius: 0.25em;box-sizing: border-box;margin-bottom: 0.5em;}#sk-container-id-1 div.sk-estimator:hover {background-color: #d4ebff;}#sk-container-id-1 div.sk-parallel-item::after {content: \"\";width: 100%;border-bottom: 1px solid gray;flex-grow: 1;}#sk-container-id-1 div.sk-label:hover label.sk-toggleable__label {background-color: #d4ebff;}#sk-container-id-1 div.sk-serial::before {content: \"\";position: absolute;border-left: 1px solid gray;box-sizing: border-box;top: 0;bottom: 0;left: 50%;z-index: 0;}#sk-container-id-1 div.sk-serial {display: flex;flex-direction: column;align-items: center;background-color: white;padding-right: 0.2em;padding-left: 0.2em;position: relative;}#sk-container-id-1 div.sk-item {position: relative;z-index: 1;}#sk-container-id-1 div.sk-parallel {display: flex;align-items: stretch;justify-content: center;background-color: white;position: relative;}#sk-container-id-1 div.sk-item::before, #sk-container-id-1 div.sk-parallel-item::before {content: \"\";position: absolute;border-left: 1px solid gray;box-sizing: border-box;top: 0;bottom: 0;left: 50%;z-index: -1;}#sk-container-id-1 div.sk-parallel-item {display: flex;flex-direction: column;z-index: 1;position: relative;background-color: white;}#sk-container-id-1 div.sk-parallel-item:first-child::after {align-self: flex-end;width: 50%;}#sk-container-id-1 div.sk-parallel-item:last-child::after {align-self: flex-start;width: 50%;}#sk-container-id-1 div.sk-parallel-item:only-child::after {width: 0;}#sk-container-id-1 div.sk-dashed-wrapped {border: 1px dashed gray;margin: 0 0.4em 0.5em 0.4em;box-sizing: border-box;padding-bottom: 0.4em;background-color: white;}#sk-container-id-1 div.sk-label label {font-family: monospace;font-weight: bold;display: inline-block;line-height: 1.2em;}#sk-container-id-1 div.sk-label-container {text-align: center;}#sk-container-id-1 div.sk-container {/* jupyter's `normalize.less` sets `[hidden] { display: none; }` but bootstrap.min.css set `[hidden] { display: none !important; }` so we also need the `!important` here to be able to override the default hidden behavior on the sphinx rendered scikit-learn.org. See: https://github.com/scikit-learn/scikit-learn/issues/21755 */display: inline-block !important;position: relative;}#sk-container-id-1 div.sk-text-repr-fallback {display: none;}</style><div id=\"sk-container-id-1\" class=\"sk-top-container\"><div class=\"sk-text-repr-fallback\"><pre>Pipeline(steps=[(&#x27;Tfidf&#x27;, TfidfVectorizer()), (&#x27;NB&#x27;, MultinomialNB())])</pre><b>In a Jupyter environment, please rerun this cell to show the HTML representation or trust the notebook. <br />On GitHub, the HTML representation is unable to render, please try loading this page with nbviewer.org.</b></div><div class=\"sk-container\" hidden><div class=\"sk-item sk-dashed-wrapped\"><div class=\"sk-label-container\"><div class=\"sk-label sk-toggleable\"><input class=\"sk-toggleable__control sk-hidden--visually\" id=\"sk-estimator-id-1\" type=\"checkbox\" ><label for=\"sk-estimator-id-1\" class=\"sk-toggleable__label sk-toggleable__label-arrow\">Pipeline</label><div class=\"sk-toggleable__content\"><pre>Pipeline(steps=[(&#x27;Tfidf&#x27;, TfidfVectorizer()), (&#x27;NB&#x27;, MultinomialNB())])</pre></div></div></div><div class=\"sk-serial\"><div class=\"sk-item\"><div class=\"sk-estimator sk-toggleable\"><input class=\"sk-toggleable__control sk-hidden--visually\" id=\"sk-estimator-id-2\" type=\"checkbox\" ><label for=\"sk-estimator-id-2\" class=\"sk-toggleable__label sk-toggleable__label-arrow\">TfidfVectorizer</label><div class=\"sk-toggleable__content\"><pre>TfidfVectorizer()</pre></div></div></div><div class=\"sk-item\"><div class=\"sk-estimator sk-toggleable\"><input class=\"sk-toggleable__control sk-hidden--visually\" id=\"sk-estimator-id-3\" type=\"checkbox\" ><label for=\"sk-estimator-id-3\" class=\"sk-toggleable__label sk-toggleable__label-arrow\">MultinomialNB</label><div class=\"sk-toggleable__content\"><pre>MultinomialNB()</pre></div></div></div></div></div></div></div>"
      ],
      "text/plain": [
       "Pipeline(steps=[('Tfidf', TfidfVectorizer()), ('NB', MultinomialNB())])"
      ]
     },
     "execution_count": 47,
     "metadata": {},
     "output_type": "execute_result"
    }
   ],
   "source": [
    "# let's build the naive model\n",
    "clf = Pipeline([\n",
    "    (\"Tfidf\",TfidfVectorizer()),\n",
    "    (\"NB\",MultinomialNB())\n",
    "])\n",
    "\n",
    "clf.fit(X_train,y_train)"
   ]
  },
  {
   "cell_type": "code",
   "execution_count": 48,
   "id": "624df923",
   "metadata": {},
   "outputs": [
    {
     "data": {
      "text/plain": [
       "array([2, 1, 1, 2, 2])"
      ]
     },
     "execution_count": 48,
     "metadata": {},
     "output_type": "execute_result"
    }
   ],
   "source": [
    "# model prediction....\n",
    "model_0_pred = clf.predict(X_test)\n",
    "model_0_pred[:5]"
   ]
  },
  {
   "cell_type": "code",
   "execution_count": 49,
   "id": "7adc60e7",
   "metadata": {},
   "outputs": [
    {
     "data": {
      "text/plain": [
       "{'Accuracy': 0.6253291205897841,\n",
       " 'Precision': 0.6663493750431053,\n",
       " 'Recall': 0.6253291205897841,\n",
       " 'F_Score': 0.5695089252633851}"
      ]
     },
     "execution_count": 49,
     "metadata": {},
     "output_type": "execute_result"
    }
   ],
   "source": [
    "# calculate model results....\n",
    "model_0_results = calculate_results(y_test,model_0_pred)\n",
    "model_0_results"
   ]
  },
  {
   "cell_type": "code",
   "execution_count": 50,
   "id": "cba23f19",
   "metadata": {},
   "outputs": [
    {
     "data": {
      "text/plain": [
       "41157"
      ]
     },
     "execution_count": 50,
     "metadata": {},
     "output_type": "execute_result"
    }
   ],
   "source": [
    "X_train.shape[0]"
   ]
  },
  {
   "cell_type": "markdown",
   "id": "3042429f",
   "metadata": {},
   "source": [
    "## Model 1 : Dense Model"
   ]
  },
  {
   "cell_type": "code",
   "execution_count": 51,
   "id": "602328ad",
   "metadata": {},
   "outputs": [],
   "source": [
    "# previously we build scikit-learn naive model, let's build our first deep learning model...\n",
    "\n",
    "# define the input layer.....\n",
    "inputs = layers.Input(shape=(1,),dtype=\"string\")\n",
    "# pass the input layer to tokenization....\n",
    "x = token(inputs)\n",
    "# pass the token into embedd layer.....\n",
    "x = embedd(x)\n",
    "\n",
    "# hidden layer.....\n",
    "x = layers.Dense(64,activation=\"relu\")(x)\n",
    "# adding the 2nd layers....\n",
    "x = layers.Dense(32,activation=\"relu\")(x)\n",
    "# adding the output layer....\n",
    "# adding the globalaverage layer...\n",
    "x = layers.GlobalAveragePooling1D()(x)\n",
    "output = layers.Dense(3,activation=\"softmax\")(x)\n",
    "\n",
    "# model building....\n",
    "model_1 = tensorflow.keras.Model(inputs,output,name=\"Dense_Model\")\n",
    "\n",
    "# compiling the model...\n",
    "model_1.compile(loss=\"categorical_crossentropy\",\n",
    "               optimizer=\"rmsprop\",\n",
    "               metrics=[\"accuracy\"])\n",
    "\n"
   ]
  },
  {
   "cell_type": "code",
   "execution_count": 52,
   "id": "80f14778",
   "metadata": {},
   "outputs": [
    {
     "name": "stdout",
     "output_type": "stream",
     "text": [
      "Model: \"Dense_Model\"\n",
      "_________________________________________________________________\n",
      " Layer (type)                Output Shape              Param #   \n",
      "=================================================================\n",
      " input_1 (InputLayer)        [(None, 1)]               0         \n",
      "                                                                 \n",
      " text_vectorization (TextVec  (None, 35)               0         \n",
      " torization)                                                     \n",
      "                                                                 \n",
      " embedding (Embedding)       (None, 35, 128)           1920000   \n",
      "                                                                 \n",
      " dense (Dense)               (None, 35, 64)            8256      \n",
      "                                                                 \n",
      " dense_1 (Dense)             (None, 35, 32)            2080      \n",
      "                                                                 \n",
      " global_average_pooling1d (G  (None, 32)               0         \n",
      " lobalAveragePooling1D)                                          \n",
      "                                                                 \n",
      " dense_2 (Dense)             (None, 3)                 99        \n",
      "                                                                 \n",
      "=================================================================\n",
      "Total params: 1,930,435\n",
      "Trainable params: 1,930,435\n",
      "Non-trainable params: 0\n",
      "_________________________________________________________________\n"
     ]
    }
   ],
   "source": [
    "# checking the model summary\n",
    "model_1.summary()"
   ]
  },
  {
   "cell_type": "code",
   "execution_count": 53,
   "id": "eead5f89",
   "metadata": {},
   "outputs": [
    {
     "data": {
      "text/plain": [
       "(41157,)"
      ]
     },
     "execution_count": 53,
     "metadata": {},
     "output_type": "execute_result"
    }
   ],
   "source": [
    "X_train.shape"
   ]
  },
  {
   "cell_type": "code",
   "execution_count": 54,
   "id": "1d006bc1",
   "metadata": {},
   "outputs": [],
   "source": [
    "y_train = to_categorical(y_train, 3)\n",
    "y_test = to_categorical(y_test, 3)"
   ]
  },
  {
   "cell_type": "code",
   "execution_count": 55,
   "id": "843421d0",
   "metadata": {},
   "outputs": [
    {
     "name": "stdout",
     "output_type": "stream",
     "text": [
      "Epoch 1/10\n"
     ]
    },
    {
     "name": "stderr",
     "output_type": "stream",
     "text": [
      "2022-09-15 20:52:40.968466: I tensorflow/core/grappler/optimizers/custom_graph_optimizer_registry.cc:113] Plugin optimizer for device_type GPU is enabled.\n"
     ]
    },
    {
     "name": "stdout",
     "output_type": "stream",
     "text": [
      "1287/1287 [==============================] - ETA: 0s - loss: 0.7132 - accuracy: 0.7002"
     ]
    },
    {
     "name": "stderr",
     "output_type": "stream",
     "text": [
      "2022-09-15 20:53:03.054875: I tensorflow/core/grappler/optimizers/custom_graph_optimizer_registry.cc:113] Plugin optimizer for device_type GPU is enabled.\n"
     ]
    },
    {
     "name": "stdout",
     "output_type": "stream",
     "text": [
      "1287/1287 [==============================] - 23s 18ms/step - loss: 0.7132 - accuracy: 0.7002 - val_loss: 0.6265 - val_accuracy: 0.7609\n",
      "Epoch 2/10\n",
      "1287/1287 [==============================] - 22s 17ms/step - loss: 0.5241 - accuracy: 0.8211 - val_loss: 0.6228 - val_accuracy: 0.7709\n",
      "Epoch 3/10\n",
      "1287/1287 [==============================] - 22s 17ms/step - loss: 0.4825 - accuracy: 0.8410 - val_loss: 0.6046 - val_accuracy: 0.7875\n",
      "Epoch 4/10\n",
      "1287/1287 [==============================] - 23s 18ms/step - loss: 0.4586 - accuracy: 0.8494 - val_loss: 0.6057 - val_accuracy: 0.7794\n",
      "Epoch 5/10\n",
      "1287/1287 [==============================] - 23s 18ms/step - loss: 0.4433 - accuracy: 0.8552 - val_loss: 0.6247 - val_accuracy: 0.7807\n",
      "Epoch 6/10\n",
      "1287/1287 [==============================] - 23s 18ms/step - loss: 0.4307 - accuracy: 0.8612 - val_loss: 0.6405 - val_accuracy: 0.7775\n",
      "Epoch 7/10\n",
      "1287/1287 [==============================] - 22s 17ms/step - loss: 0.4204 - accuracy: 0.8656 - val_loss: 0.6373 - val_accuracy: 0.7807\n",
      "Epoch 8/10\n",
      "1287/1287 [==============================] - 23s 18ms/step - loss: 0.4110 - accuracy: 0.8680 - val_loss: 0.6358 - val_accuracy: 0.7809\n",
      "Epoch 9/10\n",
      "1287/1287 [==============================] - 22s 17ms/step - loss: 0.4046 - accuracy: 0.8709 - val_loss: 0.6248 - val_accuracy: 0.7807\n",
      "Epoch 10/10\n",
      "1287/1287 [==============================] - 22s 17ms/step - loss: 0.3971 - accuracy: 0.8740 - val_loss: 0.6304 - val_accuracy: 0.7791\n"
     ]
    }
   ],
   "source": [
    "# fitting the model to data....\n",
    "history_1 = model_1.fit(X_train,y_train,\n",
    "                       epochs=10,\n",
    "                       validation_data=(X_test,y_test),\n",
    "                        validation_split = int(len(X_test) * 0.25),)\n",
    "#                         callbacks = [tensorflow.keras.callbacks.ModelCheckpoint(\"Dense_1.keras\",\n",
    "#                                                                                save_best_only=True)])"
   ]
  },
  {
   "cell_type": "code",
   "execution_count": 56,
   "id": "9fd4ad70",
   "metadata": {
    "scrolled": true
   },
   "outputs": [
    {
     "name": "stdout",
     "output_type": "stream",
     "text": [
      " 35/119 [=======>......................] - ETA: 0s"
     ]
    },
    {
     "name": "stderr",
     "output_type": "stream",
     "text": [
      "2022-09-15 20:56:26.172206: I tensorflow/core/grappler/optimizers/custom_graph_optimizer_registry.cc:113] Plugin optimizer for device_type GPU is enabled.\n"
     ]
    },
    {
     "name": "stdout",
     "output_type": "stream",
     "text": [
      "119/119 [==============================] - 1s 5ms/step\n"
     ]
    },
    {
     "data": {
      "text/plain": [
       "array([[2.9936793e-01, 3.9339818e-02, 6.6129220e-01],\n",
       "       [7.6416386e-03, 9.9023145e-01, 2.1268653e-03],\n",
       "       [7.9063009e-03, 9.8769033e-01, 4.4033574e-03],\n",
       "       ...,\n",
       "       [8.7008911e-01, 7.4975818e-02, 5.4935079e-02],\n",
       "       [5.8151799e-04, 2.1468051e-04, 9.9920386e-01],\n",
       "       [7.5785152e-05, 9.9986911e-01, 5.5032961e-05]], dtype=float32)"
      ]
     },
     "execution_count": 56,
     "metadata": {},
     "output_type": "execute_result"
    }
   ],
   "source": [
    "# evaluate model performance....\n",
    "model_1_pred = model_1.predict(X_test)\n",
    "model_1_pred"
   ]
  },
  {
   "cell_type": "code",
   "execution_count": 57,
   "id": "e9dd97da",
   "metadata": {},
   "outputs": [
    {
     "data": {
      "text/plain": [
       "<tf.Tensor: shape=(3798, 3), dtype=float32, numpy=\n",
       "array([[0., 0., 1.],\n",
       "       [0., 1., 0.],\n",
       "       [0., 1., 0.],\n",
       "       ...,\n",
       "       [1., 0., 0.],\n",
       "       [0., 0., 1.],\n",
       "       [0., 1., 0.]], dtype=float32)>"
      ]
     },
     "execution_count": 57,
     "metadata": {},
     "output_type": "execute_result"
    }
   ],
   "source": [
    "model_1_pred = tf.squeeze(tf.round(model_1_pred))\n",
    "model_1_pred"
   ]
  },
  {
   "cell_type": "code",
   "execution_count": 58,
   "id": "21999296",
   "metadata": {},
   "outputs": [
    {
     "data": {
      "text/plain": [
       "{'Accuracy': 0.7546076882569773,\n",
       " 'Precision': 0.8017270481378187,\n",
       " 'Recall': 0.7546076882569773,\n",
       " 'F_Score': 0.7773954807512868}"
      ]
     },
     "execution_count": 58,
     "metadata": {},
     "output_type": "execute_result"
    }
   ],
   "source": [
    "# calculate_results\n",
    "model_1_results = calculate_results(y_test,model_1_pred)\n",
    "model_1_results"
   ]
  },
  {
   "cell_type": "code",
   "execution_count": 59,
   "id": "384c688b",
   "metadata": {},
   "outputs": [
    {
     "data": {
      "text/plain": [
       "dict_keys(['loss', 'accuracy', 'val_loss', 'val_accuracy'])"
      ]
     },
     "execution_count": 59,
     "metadata": {},
     "output_type": "execute_result"
    }
   ],
   "source": [
    "# getting the history keys....\n",
    "history_1.history.keys()"
   ]
  },
  {
   "cell_type": "code",
   "execution_count": 60,
   "id": "bf979735",
   "metadata": {},
   "outputs": [],
   "source": [
    "# let's make a funciton that will plot the model performance....\n",
    "def plot_model(history):\n",
    "    \n",
    "    loss = history.history[\"loss\"]\n",
    "    val_loss = history.history[\"val_loss\"]\n",
    "    \n",
    "    acc = history.history[\"accuracy\"]\n",
    "    val_acc = history.history[\"val_accuracy\"]\n",
    "    \n",
    "    epochs = range(len(loss))\n",
    "    \n",
    "#     plottint the model accuracy vs validation accuracy\n",
    "    plt.plot(epochs,acc,label=\"Training Accuracy\")\n",
    "    plt.plot(epochs,val_acc,label=\"Validation Accuracy\")\n",
    "    plt.title(\"Training vs Validation Accuracy\")\n",
    "    plt.xlabel(\"Epochs\")\n",
    "    plt.legend()\n",
    "    \n",
    "#     plotting the training vs validation loss\n",
    "    plt.figure()\n",
    "    plt.plot(epochs,loss,label=\"Training Loss\")\n",
    "    plt.plot(epochs,val_loss,label=\"Validation Loss\")\n",
    "    plt.title(\"Training vs Validation Loss\")\n",
    "    plt.xlabel(\"Epochs\")\n",
    "    plt.legend()\n",
    "    plt.show()"
   ]
  },
  {
   "cell_type": "code",
   "execution_count": 61,
   "id": "ea2d027f",
   "metadata": {},
   "outputs": [
    {
     "data": {
      "image/png": "[encoded data removed]",
      "text/plain": [
       "<Figure size 432x288 with 1 Axes>"
      ]
     },
     "metadata": {
      "needs_background": "light"
     },
     "output_type": "display_data"
    },
    {
     "data": {
      "image/png": "[encoded data removed]",
      "text/plain": [
       "<Figure size 432x288 with 1 Axes>"
      ]
     },
     "metadata": {
      "needs_background": "light"
     },
     "output_type": "display_data"
    }
   ],
   "source": [
    "# plot the model performance....\n",
    "plot_model(history_1)"
   ]
  },
  {
   "cell_type": "markdown",
   "id": "804de2fd",
   "metadata": {},
   "source": [
    "Above plots clearly shows that our model overfits the data, so let's try some few models."
   ]
  },
  {
   "cell_type": "markdown",
   "id": "4361953a",
   "metadata": {},
   "source": [
    "## Model 2 : LSTM"
   ]
  },
  {
   "cell_type": "code",
   "execution_count": 62,
   "id": "aaeb66ea",
   "metadata": {},
   "outputs": [],
   "source": [
    "\n",
    "# define the input layer.....\n",
    "inputs = layers.Input(shape=(1,),dtype=\"string\")\n",
    "# pass the input layer to tokenization....\n",
    "x = token(inputs)\n",
    "# pass the token into embedd layer.....\n",
    "x = embedd(x)\n",
    "\n",
    "# hidden layer.....\n",
    "x = layers.Dense(64,activation=\"relu\")(x)\n",
    "# adding the 2nd layers....\n",
    "x = layers.Dense(32,activation=\"relu\")(x)\n",
    "# adding the lstm layer\n",
    "x = layers.LSTM(64,return_sequences=True)(x)\n",
    "x = layers.LSTM(32,)(x)\n",
    "output = layers.Dense(3,activation=\"softmax\")(x)\n",
    "\n",
    "# model building....\n",
    "model_2 = tensorflow.keras.Model(inputs,output,name=\"LSTM_Model\")\n",
    "\n",
    "# compiling the model...\n",
    "model_2.compile(loss=\"categorical_crossentropy\",\n",
    "               optimizer=\"rmsprop\",\n",
    "               metrics=[\"accuracy\"])"
   ]
  },
  {
   "cell_type": "code",
   "execution_count": 63,
   "id": "cf63c727",
   "metadata": {},
   "outputs": [
    {
     "name": "stdout",
     "output_type": "stream",
     "text": [
      "Model: \"LSTM_Model\"\n",
      "_________________________________________________________________\n",
      " Layer (type)                Output Shape              Param #   \n",
      "=================================================================\n",
      " input_2 (InputLayer)        [(None, 1)]               0         \n",
      "                                                                 \n",
      " text_vectorization (TextVec  (None, 35)               0         \n",
      " torization)                                                     \n",
      "                                                                 \n",
      " embedding (Embedding)       (None, 35, 128)           1920000   \n",
      "                                                                 \n",
      " dense_3 (Dense)             (None, 35, 64)            8256      \n",
      "                                                                 \n",
      " dense_4 (Dense)             (None, 35, 32)            2080      \n",
      "                                                                 \n",
      " lstm (LSTM)                 (None, 35, 64)            24832     \n",
      "                                                                 \n",
      " lstm_1 (LSTM)               (None, 32)                12416     \n",
      "                                                                 \n",
      " dense_5 (Dense)             (None, 3)                 99        \n",
      "                                                                 \n",
      "=================================================================\n",
      "Total params: 1,967,683\n",
      "Trainable params: 1,967,683\n",
      "Non-trainable params: 0\n",
      "_________________________________________________________________\n"
     ]
    }
   ],
   "source": [
    "# checkout the model 2 summary\n",
    "model_2.summary()"
   ]
  },
  {
   "cell_type": "code",
   "execution_count": 64,
   "id": "8408ad52",
   "metadata": {},
   "outputs": [
    {
     "name": "stdout",
     "output_type": "stream",
     "text": [
      "Epoch 1/15\n"
     ]
    },
    {
     "name": "stderr",
     "output_type": "stream",
     "text": [
      "2022-09-15 20:56:28.537233: I tensorflow/core/grappler/optimizers/custom_graph_optimizer_registry.cc:113] Plugin optimizer for device_type GPU is enabled.\n",
      "2022-09-15 20:56:28.793396: I tensorflow/core/grappler/optimizers/custom_graph_optimizer_registry.cc:113] Plugin optimizer for device_type GPU is enabled.\n",
      "2022-09-15 20:56:28.889265: I tensorflow/core/grappler/optimizers/custom_graph_optimizer_registry.cc:113] Plugin optimizer for device_type GPU is enabled.\n",
      "2022-09-15 20:56:28.984952: I tensorflow/core/grappler/optimizers/custom_graph_optimizer_registry.cc:113] Plugin optimizer for device_type GPU is enabled.\n",
      "2022-09-15 20:56:29.131897: I tensorflow/core/grappler/optimizers/custom_graph_optimizer_registry.cc:113] Plugin optimizer for device_type GPU is enabled.\n"
     ]
    },
    {
     "name": "stdout",
     "output_type": "stream",
     "text": [
      "1287/1287 [==============================] - ETA: 0s - loss: 0.4119 - accuracy: 0.8555"
     ]
    },
    {
     "name": "stderr",
     "output_type": "stream",
     "text": [
      "2022-09-15 20:57:12.149450: I tensorflow/core/grappler/optimizers/custom_graph_optimizer_registry.cc:113] Plugin optimizer for device_type GPU is enabled.\n",
      "2022-09-15 20:57:12.256687: I tensorflow/core/grappler/optimizers/custom_graph_optimizer_registry.cc:113] Plugin optimizer for device_type GPU is enabled.\n",
      "2022-09-15 20:57:12.330807: I tensorflow/core/grappler/optimizers/custom_graph_optimizer_registry.cc:113] Plugin optimizer for device_type GPU is enabled.\n"
     ]
    },
    {
     "name": "stdout",
     "output_type": "stream",
     "text": [
      "1287/1287 [==============================] - 47s 35ms/step - loss: 0.4119 - accuracy: 0.8555 - val_loss: 0.5828 - val_accuracy: 0.7928\n",
      "Epoch 2/15\n",
      "1287/1287 [==============================] - 45s 35ms/step - loss: 0.3477 - accuracy: 0.8813 - val_loss: 0.5434 - val_accuracy: 0.8004\n",
      "Epoch 3/15\n",
      "1287/1287 [==============================] - 44s 34ms/step - loss: 0.3234 - accuracy: 0.8900 - val_loss: 0.6154 - val_accuracy: 0.7780\n",
      "Epoch 4/15\n",
      "1287/1287 [==============================] - 44s 34ms/step - loss: 0.3059 - accuracy: 0.8969 - val_loss: 0.6042 - val_accuracy: 0.7952\n",
      "Epoch 5/15\n",
      "1287/1287 [==============================] - 45s 35ms/step - loss: 0.2908 - accuracy: 0.9014 - val_loss: 0.6048 - val_accuracy: 0.7809\n"
     ]
    }
   ],
   "source": [
    "# fitting the model to data....\n",
    "history_2 = model_2.fit(X_train,y_train,\n",
    "                       epochs=15,\n",
    "                       validation_data=(X_test,y_test),\n",
    "                        validation_split = int(len(X_test) * 0.25),\n",
    "                        callbacks = [tf.keras.callbacks.EarlyStopping(patience=3)])"
   ]
  },
  {
   "cell_type": "code",
   "execution_count": 65,
   "id": "ec6f811d",
   "metadata": {},
   "outputs": [
    {
     "name": "stderr",
     "output_type": "stream",
     "text": [
      "2022-09-15 21:00:12.877246: I tensorflow/core/grappler/optimizers/custom_graph_optimizer_registry.cc:113] Plugin optimizer for device_type GPU is enabled.\n",
      "2022-09-15 21:00:12.974776: I tensorflow/core/grappler/optimizers/custom_graph_optimizer_registry.cc:113] Plugin optimizer for device_type GPU is enabled.\n",
      "2022-09-15 21:00:13.050107: I tensorflow/core/grappler/optimizers/custom_graph_optimizer_registry.cc:113] Plugin optimizer for device_type GPU is enabled.\n"
     ]
    },
    {
     "name": "stdout",
     "output_type": "stream",
     "text": [
      "119/119 [==============================] - 2s 13ms/step\n"
     ]
    },
    {
     "data": {
      "text/plain": [
       "{'Accuracy': 0.7648762506582412,\n",
       " 'Precision': 0.8152356006246738,\n",
       " 'Recall': 0.7648762506582412,\n",
       " 'F_Score': 0.7781460541005929}"
      ]
     },
     "execution_count": 65,
     "metadata": {},
     "output_type": "execute_result"
    }
   ],
   "source": [
    "# make prediction and calculate results....\n",
    "model_2_results = calculate_results(y_test,tf.squeeze(tf.round(model_2.predict(X_test))))\n",
    "model_2_results"
   ]
  },
  {
   "cell_type": "code",
   "execution_count": 66,
   "id": "cf78c49c",
   "metadata": {},
   "outputs": [
    {
     "data": {
      "image/png": "[encoded data removed]",
      "text/plain": [
       "<Figure size 432x288 with 1 Axes>"
      ]
     },
     "metadata": {
      "needs_background": "light"
     },
     "output_type": "display_data"
    },
    {
     "data": {
      "image/png": "[encoded data removed]",
      "text/plain": [
       "<Figure size 432x288 with 1 Axes>"
      ]
     },
     "metadata": {
      "needs_background": "light"
     },
     "output_type": "display_data"
    }
   ],
   "source": [
    "# plot the model performance....\n",
    "plot_model(history_2)"
   ]
  },
  {
   "cell_type": "markdown",
   "id": "57f5ae3d",
   "metadata": {},
   "source": [
    "## Model 3 : GRU"
   ]
  },
  {
   "cell_type": "code",
   "execution_count": 67,
   "id": "4027e6ff",
   "metadata": {},
   "outputs": [],
   "source": [
    "\n",
    "# define the input layer.....\n",
    "inputs = layers.Input(shape=(1,),dtype=\"string\")\n",
    "# pass the input layer to tokenization....\n",
    "x = token(inputs)\n",
    "# pass the token into embedd layer.....\n",
    "x = embedd(x)\n",
    "\n",
    "# hidden layer.....\n",
    "x = layers.Dense(128,activation=\"relu\")(x)\n",
    "# adding the 2nd layers....\n",
    "x = layers.Dense(64,activation=\"relu\")(x)\n",
    "# adding the GRU layer....\n",
    "x = layers.GRU(64,return_sequences=True)(x)\n",
    "x = layers.GRU(32,)(x)\n",
    "output = layers.Dense(3,activation=\"softmax\")(x)\n",
    "\n",
    "# model building....\n",
    "model_3 = tensorflow.keras.Model(inputs,output,name=\"GRU\")\n",
    "\n",
    "# compiling the model...\n",
    "model_3.compile(loss=\"categorical_crossentropy\",\n",
    "               optimizer=\"rmsprop\",\n",
    "               metrics=[\"accuracy\"])"
   ]
  },
  {
   "cell_type": "code",
   "execution_count": 68,
   "id": "abcf87bf",
   "metadata": {},
   "outputs": [
    {
     "name": "stdout",
     "output_type": "stream",
     "text": [
      "Model: \"GRU\"\n",
      "_________________________________________________________________\n",
      " Layer (type)                Output Shape              Param #   \n",
      "=================================================================\n",
      " input_3 (InputLayer)        [(None, 1)]               0         \n",
      "                                                                 \n",
      " text_vectorization (TextVec  (None, 35)               0         \n",
      " torization)                                                     \n",
      "                                                                 \n",
      " embedding (Embedding)       (None, 35, 128)           1920000   \n",
      "                                                                 \n",
      " dense_6 (Dense)             (None, 35, 128)           16512     \n",
      "                                                                 \n",
      " dense_7 (Dense)             (None, 35, 64)            8256      \n",
      "                                                                 \n",
      " gru (GRU)                   (None, 35, 64)            24960     \n",
      "                                                                 \n",
      " gru_1 (GRU)                 (None, 32)                9408      \n",
      "                                                                 \n",
      " dense_8 (Dense)             (None, 3)                 99        \n",
      "                                                                 \n",
      "=================================================================\n",
      "Total params: 1,979,235\n",
      "Trainable params: 1,979,235\n",
      "Non-trainable params: 0\n",
      "_________________________________________________________________\n"
     ]
    }
   ],
   "source": [
    "# summary of the model...\n",
    "model_3.summary()"
   ]
  },
  {
   "cell_type": "code",
   "execution_count": 69,
   "id": "5d371cb4",
   "metadata": {},
   "outputs": [
    {
     "name": "stdout",
     "output_type": "stream",
     "text": [
      "Epoch 1/10\n"
     ]
    },
    {
     "name": "stderr",
     "output_type": "stream",
     "text": [
      "2022-09-15 21:00:16.629242: I tensorflow/core/grappler/optimizers/custom_graph_optimizer_registry.cc:113] Plugin optimizer for device_type GPU is enabled.\n",
      "2022-09-15 21:00:16.915638: I tensorflow/core/grappler/optimizers/custom_graph_optimizer_registry.cc:113] Plugin optimizer for device_type GPU is enabled.\n",
      "2022-09-15 21:00:17.005052: I tensorflow/core/grappler/optimizers/custom_graph_optimizer_registry.cc:113] Plugin optimizer for device_type GPU is enabled.\n",
      "2022-09-15 21:00:17.179144: I tensorflow/core/grappler/optimizers/custom_graph_optimizer_registry.cc:113] Plugin optimizer for device_type GPU is enabled.\n",
      "2022-09-15 21:00:17.343764: I tensorflow/core/grappler/optimizers/custom_graph_optimizer_registry.cc:113] Plugin optimizer for device_type GPU is enabled.\n"
     ]
    },
    {
     "name": "stdout",
     "output_type": "stream",
     "text": [
      "1287/1287 [==============================] - ETA: 0s - loss: 0.5112 - accuracy: 0.8065"
     ]
    },
    {
     "name": "stderr",
     "output_type": "stream",
     "text": [
      "2022-09-15 21:01:05.692814: I tensorflow/core/grappler/optimizers/custom_graph_optimizer_registry.cc:113] Plugin optimizer for device_type GPU is enabled.\n",
      "2022-09-15 21:01:05.800511: I tensorflow/core/grappler/optimizers/custom_graph_optimizer_registry.cc:113] Plugin optimizer for device_type GPU is enabled.\n",
      "2022-09-15 21:01:05.876752: I tensorflow/core/grappler/optimizers/custom_graph_optimizer_registry.cc:113] Plugin optimizer for device_type GPU is enabled.\n"
     ]
    },
    {
     "name": "stdout",
     "output_type": "stream",
     "text": [
      "1287/1287 [==============================] - 53s 39ms/step - loss: 0.5112 - accuracy: 0.8065 - val_loss: 0.6558 - val_accuracy: 0.7496\n",
      "Epoch 2/10\n",
      "1287/1287 [==============================] - 47s 36ms/step - loss: 0.7135 - accuracy: 0.6987 - val_loss: 1.1604 - val_accuracy: 0.4821\n",
      "Epoch 3/10\n",
      "1287/1287 [==============================] - 47s 36ms/step - loss: 0.7604 - accuracy: 0.6742 - val_loss: 0.9932 - val_accuracy: 0.5329\n",
      "Epoch 4/10\n",
      "1287/1287 [==============================] - 48s 37ms/step - loss: 0.7624 - accuracy: 0.6723 - val_loss: 0.9061 - val_accuracy: 0.6022\n"
     ]
    }
   ],
   "source": [
    "# fitting the model to data....\n",
    "history_3 = model_3.fit(X_train,y_train,\n",
    "                       epochs=10,\n",
    "                       validation_data=(X_test,y_test),\n",
    "                        validation_split = int(len(X_test) * 0.25),\n",
    "                        callbacks = [tf.keras.callbacks.EarlyStopping(patience=3)])"
   ]
  },
  {
   "cell_type": "code",
   "execution_count": 70,
   "id": "20980369",
   "metadata": {},
   "outputs": [
    {
     "name": "stderr",
     "output_type": "stream",
     "text": [
      "2022-09-15 21:03:30.036830: I tensorflow/core/grappler/optimizers/custom_graph_optimizer_registry.cc:113] Plugin optimizer for device_type GPU is enabled.\n",
      "2022-09-15 21:03:30.135460: I tensorflow/core/grappler/optimizers/custom_graph_optimizer_registry.cc:113] Plugin optimizer for device_type GPU is enabled.\n",
      "2022-09-15 21:03:30.212422: I tensorflow/core/grappler/optimizers/custom_graph_optimizer_registry.cc:113] Plugin optimizer for device_type GPU is enabled.\n"
     ]
    },
    {
     "name": "stdout",
     "output_type": "stream",
     "text": [
      "119/119 [==============================] - 2s 14ms/step\n"
     ]
    },
    {
     "data": {
      "text/plain": [
       "{'Accuracy': 0.5431806213796735,\n",
       " 'Precision': 0.6419601338183852,\n",
       " 'Recall': 0.5431806213796735,\n",
       " 'F_Score': 0.5597809457231571}"
      ]
     },
     "execution_count": 70,
     "metadata": {},
     "output_type": "execute_result"
    }
   ],
   "source": [
    "# make prediction and calculate results....\n",
    "model_3_results = calculate_results(y_test,tf.squeeze(tf.round(model_3.predict(X_test))))\n",
    "model_3_results"
   ]
  },
  {
   "cell_type": "code",
   "execution_count": 71,
   "id": "d3b36ec0",
   "metadata": {},
   "outputs": [
    {
     "data": {
      "image/png": "[encoded data removed]",
      "text/plain": [
       "<Figure size 432x288 with 1 Axes>"
      ]
     },
     "metadata": {
      "needs_background": "light"
     },
     "output_type": "display_data"
    },
    {
     "data": {
      "image/png": "[encoded data removed]",
      "text/plain": [
       "<Figure size 432x288 with 1 Axes>"
      ]
     },
     "metadata": {
      "needs_background": "light"
     },
     "output_type": "display_data"
    }
   ],
   "source": [
    "# plot the model performance....\n",
    "plot_model(history_3)"
   ]
  },
  {
   "cell_type": "code",
   "execution_count": 72,
   "id": "5ec2c55b",
   "metadata": {},
   "outputs": [
    {
     "data": {
      "text/html": [
       "<div>\n",
       "<style scoped>\n",
       "    .dataframe tbody tr th:only-of-type {\n",
       "        vertical-align: middle;\n",
       "    }\n",
       "\n",
       "    .dataframe tbody tr th {\n",
       "        vertical-align: top;\n",
       "    }\n",
       "\n",
       "    .dataframe thead th {\n",
       "        text-align: right;\n",
       "    }\n",
       "</style>\n",
       "<table border=\"1\" class=\"dataframe\">\n",
       "  <thead>\n",
       "    <tr style=\"text-align: right;\">\n",
       "      <th></th>\n",
       "      <th>Naive_results</th>\n",
       "      <th>Dense_results</th>\n",
       "      <th>LSTM_results</th>\n",
       "      <th>GRU_results</th>\n",
       "    </tr>\n",
       "  </thead>\n",
       "  <tbody>\n",
       "    <tr>\n",
       "      <th>Accuracy</th>\n",
       "      <td>0.625329</td>\n",
       "      <td>0.754608</td>\n",
       "      <td>0.764876</td>\n",
       "      <td>0.543181</td>\n",
       "    </tr>\n",
       "    <tr>\n",
       "      <th>Precision</th>\n",
       "      <td>0.666349</td>\n",
       "      <td>0.801727</td>\n",
       "      <td>0.815236</td>\n",
       "      <td>0.641960</td>\n",
       "    </tr>\n",
       "    <tr>\n",
       "      <th>Recall</th>\n",
       "      <td>0.625329</td>\n",
       "      <td>0.754608</td>\n",
       "      <td>0.764876</td>\n",
       "      <td>0.543181</td>\n",
       "    </tr>\n",
       "    <tr>\n",
       "      <th>F_Score</th>\n",
       "      <td>0.569509</td>\n",
       "      <td>0.777395</td>\n",
       "      <td>0.778146</td>\n",
       "      <td>0.559781</td>\n",
       "    </tr>\n",
       "  </tbody>\n",
       "</table>\n",
       "</div>"
      ],
      "text/plain": [
       "           Naive_results  Dense_results  LSTM_results  GRU_results\n",
       "Accuracy        0.625329       0.754608      0.764876     0.543181\n",
       "Precision       0.666349       0.801727      0.815236     0.641960\n",
       "Recall          0.625329       0.754608      0.764876     0.543181\n",
       "F_Score         0.569509       0.777395      0.778146     0.559781"
      ]
     },
     "execution_count": 72,
     "metadata": {},
     "output_type": "execute_result"
    }
   ],
   "source": [
    "# compare the model results...\n",
    "model_results = pd.DataFrame({\n",
    "    \"Naive_results\" : model_0_results,\n",
    "    \"Dense_results\" : model_1_results,\n",
    "    \"LSTM_results\" : model_2_results,\n",
    "    \"GRU_results\" : model_3_results,\n",
    "})\n",
    "model_results"
   ]
  },
  {
   "cell_type": "code",
   "execution_count": 73,
   "id": "5176c9cf",
   "metadata": {},
   "outputs": [
    {
     "data": {
      "text/html": [
       "<div>\n",
       "<style scoped>\n",
       "    .dataframe tbody tr th:only-of-type {\n",
       "        vertical-align: middle;\n",
       "    }\n",
       "\n",
       "    .dataframe tbody tr th {\n",
       "        vertical-align: top;\n",
       "    }\n",
       "\n",
       "    .dataframe thead th {\n",
       "        text-align: right;\n",
       "    }\n",
       "</style>\n",
       "<table border=\"1\" class=\"dataframe\">\n",
       "  <thead>\n",
       "    <tr style=\"text-align: right;\">\n",
       "      <th></th>\n",
       "      <th>Accuracy</th>\n",
       "      <th>Precision</th>\n",
       "      <th>Recall</th>\n",
       "      <th>F_Score</th>\n",
       "    </tr>\n",
       "  </thead>\n",
       "  <tbody>\n",
       "    <tr>\n",
       "      <th>Naive_results</th>\n",
       "      <td>0.625329</td>\n",
       "      <td>0.666349</td>\n",
       "      <td>0.625329</td>\n",
       "      <td>0.569509</td>\n",
       "    </tr>\n",
       "    <tr>\n",
       "      <th>Dense_results</th>\n",
       "      <td>0.754608</td>\n",
       "      <td>0.801727</td>\n",
       "      <td>0.754608</td>\n",
       "      <td>0.777395</td>\n",
       "    </tr>\n",
       "    <tr>\n",
       "      <th>LSTM_results</th>\n",
       "      <td>0.764876</td>\n",
       "      <td>0.815236</td>\n",
       "      <td>0.764876</td>\n",
       "      <td>0.778146</td>\n",
       "    </tr>\n",
       "    <tr>\n",
       "      <th>GRU_results</th>\n",
       "      <td>0.543181</td>\n",
       "      <td>0.641960</td>\n",
       "      <td>0.543181</td>\n",
       "      <td>0.559781</td>\n",
       "    </tr>\n",
       "  </tbody>\n",
       "</table>\n",
       "</div>"
      ],
      "text/plain": [
       "               Accuracy  Precision    Recall   F_Score\n",
       "Naive_results  0.625329   0.666349  0.625329  0.569509\n",
       "Dense_results  0.754608   0.801727  0.754608  0.777395\n",
       "LSTM_results   0.764876   0.815236  0.764876  0.778146\n",
       "GRU_results    0.543181   0.641960  0.543181  0.559781"
      ]
     },
     "execution_count": 73,
     "metadata": {},
     "output_type": "execute_result"
    }
   ],
   "source": [
    "model_results = model_results.transpose()\n",
    "model_results"
   ]
  },
  {
   "cell_type": "code",
   "execution_count": 74,
   "id": "623a3ab9",
   "metadata": {},
   "outputs": [
    {
     "data": {
      "text/plain": [
       "<AxesSubplot:>"
      ]
     },
     "execution_count": 74,
     "metadata": {},
     "output_type": "execute_result"
    },
    {
     "data": {
      "image/png": "[encoded data removed]",
      "text/plain": [
       "<Figure size 720x576 with 1 Axes>"
      ]
     },
     "metadata": {
      "needs_background": "light"
     },
     "output_type": "display_data"
    }
   ],
   "source": [
    "# let's visualize it....\n",
    "model_results.plot(kind=\"bar\",figsize=(10,8))"
   ]
  },
  {
   "cell_type": "markdown",
   "id": "63aac4b3",
   "metadata": {},
   "source": [
    "# As our 3rd model (LSTM) performs better than others so pick it to make it better."
   ]
  },
  {
   "cell_type": "markdown",
   "id": "4d9186d9",
   "metadata": {},
   "source": [
    "## Preprocessing words as a Set : The bag of words approach..."
   ]
  },
  {
   "cell_type": "code",
   "execution_count": 75,
   "id": "6192a078",
   "metadata": {},
   "outputs": [
    {
     "name": "stderr",
     "output_type": "stream",
     "text": [
      "2022-09-15 21:03:32.224381: I tensorflow/core/grappler/optimizers/custom_graph_optimizer_registry.cc:113] Plugin optimizer for device_type GPU is enabled.\n"
     ]
    }
   ],
   "source": [
    "# tokenization \n",
    "text_vectorization = TextVectorization(max_tokens=max_vocab_len,\n",
    "                                      standardize=\"lower_and_strip_punctuation\",\n",
    "                                      output_mode=\"multi_hot\",\n",
    "                                      split= \"whitespace\",)\n",
    "\n",
    "# adapt text_vectorization to data...\n",
    "text_vectorization.adapt(X_train)\n",
    "# Embeddings.....\n",
    "embedding = Embedding(input_dim = max_vocab_len,\n",
    "                     output_dim=128,\n",
    "                     input_length=max_len,\n",
    "                     )\n",
    "\n",
    "# building the model\n",
    "\n",
    "# define the input layer.....\n",
    "inputs = layers.Input(shape=(1,),dtype=\"string\")\n",
    "# pass the input layer to tokenization....\n",
    "x = text_vectorization(inputs)\n",
    "# pass the token into embedd layer.....\n",
    "x = embedding(x)\n",
    "\n",
    "# hidden layer.....\n",
    "x = layers.Dense(128,activation=\"relu\")(x)\n",
    "# adding the 2nd layers....\n",
    "x = layers.Dense(64,activation=\"relu\")(x)\n",
    "# adding the 3rd layers....\n",
    "x = layers.Dense(32,activation=\"relu\")(x)\n",
    "# adding the lstm layer\n",
    "x = layers.LSTM(128,return_sequences=True)(x)\n",
    "x = layers.LSTM(64,return_sequences=True)(x)\n",
    "x = layers.LSTM(32,)(x)\n",
    "\n",
    "# output layer....\n",
    "output = layers.Dense(3,activation=\"softmax\")(x)\n",
    "\n",
    "# model building....\n",
    "model_4 = tensorflow.keras.Model(inputs,output,name=\"LSTM_Model\")\n",
    "\n",
    "# compiling the model...\n",
    "model_4.compile(loss=\"categorical_crossentropy\",\n",
    "               optimizer=\"rmsprop\",\n",
    "               metrics=[\"accuracy\"])"
   ]
  },
  {
   "cell_type": "code",
   "execution_count": 76,
   "id": "37f45fee",
   "metadata": {},
   "outputs": [
    {
     "name": "stdout",
     "output_type": "stream",
     "text": [
      "Model: \"LSTM_Model\"\n",
      "_________________________________________________________________\n",
      " Layer (type)                Output Shape              Param #   \n",
      "=================================================================\n",
      " input_4 (InputLayer)        [(None, 1)]               0         \n",
      "                                                                 \n",
      " text_vectorization_1 (TextV  (None, 15000)            0         \n",
      " ectorization)                                                   \n",
      "                                                                 \n",
      " embedding_1 (Embedding)     (None, 15000, 128)        1920000   \n",
      "                                                                 \n",
      " dense_9 (Dense)             (None, 15000, 128)        16512     \n",
      "                                                                 \n",
      " dense_10 (Dense)            (None, 15000, 64)         8256      \n",
      "                                                                 \n",
      " dense_11 (Dense)            (None, 15000, 32)         2080      \n",
      "                                                                 \n",
      " lstm_2 (LSTM)               (None, 15000, 128)        82432     \n",
      "                                                                 \n",
      " lstm_3 (LSTM)               (None, 15000, 64)         49408     \n",
      "                                                                 \n",
      " lstm_4 (LSTM)               (None, 32)                12416     \n",
      "                                                                 \n",
      " dense_12 (Dense)            (None, 3)                 99        \n",
      "                                                                 \n",
      "=================================================================\n",
      "Total params: 2,091,203\n",
      "Trainable params: 2,091,203\n",
      "Non-trainable params: 0\n",
      "_________________________________________________________________\n"
     ]
    }
   ],
   "source": [
    "# check out the model summary\n",
    "model_4.summary()"
   ]
  },
  {
   "cell_type": "code",
   "execution_count": null,
   "id": "3f62874d",
   "metadata": {},
   "outputs": [
    {
     "name": "stdout",
     "output_type": "stream",
     "text": [
      "Epoch 1/10\n"
     ]
    },
    {
     "name": "stderr",
     "output_type": "stream",
     "text": [
      "2022-09-15 21:03:35.687988: I tensorflow/core/grappler/optimizers/custom_graph_optimizer_registry.cc:113] Plugin optimizer for device_type GPU is enabled.\n",
      "2022-09-15 21:03:36.390913: I tensorflow/core/grappler/optimizers/custom_graph_optimizer_registry.cc:113] Plugin optimizer for device_type GPU is enabled.\n"
     ]
    }
   ],
   "source": [
    "# fitting the model to data....\n",
    "history_4 = model_4.fit(X_train,y_train,\n",
    "                       epochs=10,\n",
    "                       validation_data=(X_test,y_test),\n",
    "                        validation_split = int(len(X_test) * 0.25),\n",
    "                        callbacks = [tf.keras.callbacks.EarlyStopping(patience=3)])"
   ]
  },
  {
   "cell_type": "code",
   "execution_count": null,
   "id": "c007a236",
   "metadata": {},
   "outputs": [],
   "source": []
  }
 ],
 "metadata": {
  "kernelspec": {
   "display_name": "Python 3 (ipykernel)",
   "language": "python",
   "name": "python3"
  },
  "language_info": {
   "codemirror_mode": {
    "name": "ipython",
    "version": 3
   },
   "file_extension": ".py",
   "mimetype": "text/x-python",
   "name": "python",
   "nbconvert_exporter": "python",
   "pygments_lexer": "ipython3",
   "version": "3.8.13"
  }
 },
 "nbformat": 4,
 "nbformat_minor": 5
}
